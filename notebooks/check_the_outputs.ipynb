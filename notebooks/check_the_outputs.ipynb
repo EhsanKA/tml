{
 "cells": [
  {
   "cell_type": "code",
   "execution_count": 44,
   "id": "7ebde5f9-9b6c-4e1d-aa98-e51976378106",
   "metadata": {},
   "outputs": [],
   "source": [
    "%load_ext autoreload\n",
    "# %reload_ext autoreload\n",
    "%autoreload 2"
   ]
  },
  {
   "cell_type": "code",
   "execution_count": 45,
   "id": "5eeecd48-9bbe-4bdc-af24-748b134b2d6b",
   "metadata": {},
   "outputs": [],
   "source": [
    "import argparse\n",
    "\n",
    "import numpy as np\n",
    "import pandas as pd\n",
    "import torch\n",
    "from pytorch_lightning.loggers import TensorBoardLogger\n",
    "import os\n",
    "\n",
    "from tml.data.get_l1_l2 import (\n",
    "    prepare_level1_training_set,\n",
    "    prepare_level2_training_set,\n",
    "    prune_test_set,\n",
    ")\n",
    "from tml.data.load_data import load_and_preprocess_data\n",
    "from tml.models.model import BinaryClassificationLightning\n",
    "from tml.plotting.plotting import tml_plots\n",
    "from tml.training.trainer import train_model\n",
    "from tml.utils.utils import load_config\n",
    "\n"
   ]
  },
  {
   "cell_type": "code",
   "execution_count": 3,
   "id": "cc44f1eb-f9ab-4fc4-a170-a9eb8f24db2a",
   "metadata": {},
   "outputs": [],
   "source": [
    "config = load_config(\"../tml/configs/config.yaml\")"
   ]
  },
  {
   "cell_type": "code",
   "execution_count": 49,
   "id": "1b0d797e-7975-4ab0-a17e-3154680aa16b",
   "metadata": {},
   "outputs": [],
   "source": [
    "# print(\"Calculate final results\")\n",
    "# y_pred_mean_1 = np.mean(out1[:, 1:], axis=1)\n",
    "# y_pred_mvar = np.mean(out2_var[:, 1:], axis=1)\n",
    "# final = np.column_stack((y_pred_mean_1, y_pred_mvar))\n",
    "\n",
    "\n",
    "# # Plot and calculate thresholds\n",
    "# os.makedirs(config['out_path'], exist_ok=True)\n",
    "\n",
    "header = ['Mutation', 'Type', 'Probability_Score', 'Uncertainty_Score', 'Result']\n",
    "result = pd.read_csv(f\"../{config['out_path']}/{config['sample_name']}_scores.csv\")\n",
    "result_tf = pd.read_csv(\"../../../Moved_Data/Ehsan_Karimiara/DigiPico/results/DigiPico_scores.csv\")"
   ]
  },
  {
   "cell_type": "code",
   "execution_count": 50,
   "id": "5f170a53-67e3-4860-b7cd-cdea332ea4c9",
   "metadata": {},
   "outputs": [
    {
     "data": {
      "text/html": [
       "<div>\n",
       "<style scoped>\n",
       "    .dataframe tbody tr th:only-of-type {\n",
       "        vertical-align: middle;\n",
       "    }\n",
       "\n",
       "    .dataframe tbody tr th {\n",
       "        vertical-align: top;\n",
       "    }\n",
       "\n",
       "    .dataframe thead th {\n",
       "        text-align: right;\n",
       "    }\n",
       "</style>\n",
       "<table border=\"1\" class=\"dataframe\">\n",
       "  <thead>\n",
       "    <tr style=\"text-align: right;\">\n",
       "      <th></th>\n",
       "      <th>Mutation</th>\n",
       "      <th>Type</th>\n",
       "      <th>Probability_Score</th>\n",
       "      <th>Uncertainty_Score</th>\n",
       "      <th>Result</th>\n",
       "    </tr>\n",
       "  </thead>\n",
       "  <tbody>\n",
       "    <tr>\n",
       "      <th>0</th>\n",
       "      <td>chr1:G&gt;C</td>\n",
       "      <td>SNP-Hm</td>\n",
       "      <td>0.999937</td>\n",
       "      <td>0.014370</td>\n",
       "      <td>PASS</td>\n",
       "    </tr>\n",
       "    <tr>\n",
       "      <th>1</th>\n",
       "      <td>chr1:C&gt;T</td>\n",
       "      <td>SNP-Ht-H</td>\n",
       "      <td>0.999849</td>\n",
       "      <td>0.014100</td>\n",
       "      <td>PASS</td>\n",
       "    </tr>\n",
       "    <tr>\n",
       "      <th>2</th>\n",
       "      <td>chr1:C&gt;T</td>\n",
       "      <td>SNP-Ht-H</td>\n",
       "      <td>0.110560</td>\n",
       "      <td>0.031318</td>\n",
       "      <td>FAIL_LowScore</td>\n",
       "    </tr>\n",
       "    <tr>\n",
       "      <th>3</th>\n",
       "      <td>chr1:C&gt;T</td>\n",
       "      <td>SNP-Ht</td>\n",
       "      <td>0.934866</td>\n",
       "      <td>0.022952</td>\n",
       "      <td>PASS</td>\n",
       "    </tr>\n",
       "    <tr>\n",
       "      <th>4</th>\n",
       "      <td>chr1:A&gt;G</td>\n",
       "      <td>SNP-Ht-H</td>\n",
       "      <td>0.992331</td>\n",
       "      <td>0.015423</td>\n",
       "      <td>PASS</td>\n",
       "    </tr>\n",
       "  </tbody>\n",
       "</table>\n",
       "</div>"
      ],
      "text/plain": [
       "   Mutation      Type  Probability_Score  Uncertainty_Score         Result\n",
       "0  chr1:G>C    SNP-Hm           0.999937           0.014370           PASS\n",
       "1  chr1:C>T  SNP-Ht-H           0.999849           0.014100           PASS\n",
       "2  chr1:C>T  SNP-Ht-H           0.110560           0.031318  FAIL_LowScore\n",
       "3  chr1:C>T    SNP-Ht           0.934866           0.022952           PASS\n",
       "4  chr1:A>G  SNP-Ht-H           0.992331           0.015423           PASS"
      ]
     },
     "execution_count": 50,
     "metadata": {},
     "output_type": "execute_result"
    }
   ],
   "source": [
    "result.head()"
   ]
  },
  {
   "cell_type": "code",
   "execution_count": 51,
   "id": "f7ee023b-0682-494f-a026-340b35128da2",
   "metadata": {},
   "outputs": [
    {
     "data": {
      "text/html": [
       "<div>\n",
       "<style scoped>\n",
       "    .dataframe tbody tr th:only-of-type {\n",
       "        vertical-align: middle;\n",
       "    }\n",
       "\n",
       "    .dataframe tbody tr th {\n",
       "        vertical-align: top;\n",
       "    }\n",
       "\n",
       "    .dataframe thead th {\n",
       "        text-align: right;\n",
       "    }\n",
       "</style>\n",
       "<table border=\"1\" class=\"dataframe\">\n",
       "  <thead>\n",
       "    <tr style=\"text-align: right;\">\n",
       "      <th></th>\n",
       "      <th>Mutation</th>\n",
       "      <th>Type</th>\n",
       "      <th>Probability_Score</th>\n",
       "      <th>Uncertainty_Score</th>\n",
       "      <th>Result</th>\n",
       "    </tr>\n",
       "  </thead>\n",
       "  <tbody>\n",
       "    <tr>\n",
       "      <th>0</th>\n",
       "      <td>chr1:G&gt;C</td>\n",
       "      <td>SNP-Hm</td>\n",
       "      <td>0.999998</td>\n",
       "      <td>0.051595</td>\n",
       "      <td>PASS</td>\n",
       "    </tr>\n",
       "    <tr>\n",
       "      <th>1</th>\n",
       "      <td>chr1:C&gt;T</td>\n",
       "      <td>SNP-Ht-H</td>\n",
       "      <td>1.000000</td>\n",
       "      <td>0.082044</td>\n",
       "      <td>PASS</td>\n",
       "    </tr>\n",
       "    <tr>\n",
       "      <th>2</th>\n",
       "      <td>chr1:C&gt;T</td>\n",
       "      <td>SNP-Ht-H</td>\n",
       "      <td>0.022550</td>\n",
       "      <td>0.197507</td>\n",
       "      <td>FAIL_LowScore</td>\n",
       "    </tr>\n",
       "    <tr>\n",
       "      <th>3</th>\n",
       "      <td>chr1:C&gt;T</td>\n",
       "      <td>SNP-Ht</td>\n",
       "      <td>0.981910</td>\n",
       "      <td>0.166912</td>\n",
       "      <td>FAIL_Uncertain</td>\n",
       "    </tr>\n",
       "    <tr>\n",
       "      <th>4</th>\n",
       "      <td>chr1:A&gt;G</td>\n",
       "      <td>SNP-Ht-H</td>\n",
       "      <td>0.999745</td>\n",
       "      <td>0.091830</td>\n",
       "      <td>FAIL_Uncertain</td>\n",
       "    </tr>\n",
       "  </tbody>\n",
       "</table>\n",
       "</div>"
      ],
      "text/plain": [
       "   Mutation      Type  Probability_Score  Uncertainty_Score          Result\n",
       "0  chr1:G>C    SNP-Hm           0.999998           0.051595            PASS\n",
       "1  chr1:C>T  SNP-Ht-H           1.000000           0.082044            PASS\n",
       "2  chr1:C>T  SNP-Ht-H           0.022550           0.197507   FAIL_LowScore\n",
       "3  chr1:C>T    SNP-Ht           0.981910           0.166912  FAIL_Uncertain\n",
       "4  chr1:A>G  SNP-Ht-H           0.999745           0.091830  FAIL_Uncertain"
      ]
     },
     "execution_count": 51,
     "metadata": {},
     "output_type": "execute_result"
    }
   ],
   "source": [
    "result_tf.head()"
   ]
  },
  {
   "cell_type": "code",
   "execution_count": 52,
   "id": "2422573d-8259-45d4-8d99-f6a743e64b62",
   "metadata": {},
   "outputs": [],
   "source": [
    "final = np.column_stack((result['Probability_Score'].values, result['Uncertainty_Score'].values))\n",
    "final_tf = np.column_stack((result_tf['Probability_Score'].values, result_tf['Uncertainty_Score'].values))"
   ]
  },
  {
   "cell_type": "code",
   "execution_count": null,
   "id": "8c896e6c-d3c8-439c-88a1-5986e2b30069",
   "metadata": {},
   "outputs": [],
   "source": [
    "cols = range(1, config['num_cols']+1)\n",
    "config['input_dim'] = len(cols) - 1\n",
    "\n",
    "# Load data and normalize\n",
    "load_dict =load_and_preprocess_data(f\"../{config['input_path']}\", cols)"
   ]
  },
  {
   "cell_type": "code",
   "execution_count": 53,
   "id": "ba9f66b3-af27-4cf3-b6ef-110f9278b882",
   "metadata": {},
   "outputs": [
    {
     "name": "stderr",
     "output_type": "stream",
     "text": [
      "/fast/AG_Ohler/ekarimi/projects/tml/tml/plotting/plotting.py:47: FutureWarning: \n",
      "\n",
      "`shade` is now deprecated in favor of `fill`; setting `fill=True`.\n",
      "This will become an error in seaborn v0.14.0; please update your code.\n",
      "\n",
      "  sns.kdeplot(subset[:, 0].astype(float), shade=True, linewidth=3, clip=(0, 1), label=SNP)\n",
      "/fast/AG_Ohler/ekarimi/projects/tml/tml/plotting/plotting.py:47: FutureWarning: \n",
      "\n",
      "`shade` is now deprecated in favor of `fill`; setting `fill=True`.\n",
      "This will become an error in seaborn v0.14.0; please update your code.\n",
      "\n",
      "  sns.kdeplot(subset[:, 0].astype(float), shade=True, linewidth=3, clip=(0, 1), label=SNP)\n",
      "/fast/AG_Ohler/ekarimi/projects/tml/tml/plotting/plotting.py:47: FutureWarning: \n",
      "\n",
      "`shade` is now deprecated in favor of `fill`; setting `fill=True`.\n",
      "This will become an error in seaborn v0.14.0; please update your code.\n",
      "\n",
      "  sns.kdeplot(subset[:, 0].astype(float), shade=True, linewidth=3, clip=(0, 1), label=SNP)\n",
      "/fast/AG_Ohler/ekarimi/projects/tml/tml/plotting/plotting.py:47: FutureWarning: \n",
      "\n",
      "`shade` is now deprecated in favor of `fill`; setting `fill=True`.\n",
      "This will become an error in seaborn v0.14.0; please update your code.\n",
      "\n",
      "  sns.kdeplot(subset[:, 0].astype(float), shade=True, linewidth=3, clip=(0, 1), label=SNP)\n"
     ]
    }
   ],
   "source": [
    "from tml.plotting.plotting import tml_plots\n",
    "\n",
    "thr = tml_plots(final,\n",
    "                load_dict['neg_ind'],\n",
    "                load_dict['hpos_ind'],\n",
    "                config['pscore_cf'],\n",
    "                config['auc_cf'],\n",
    "                config['tpr_cf'],\n",
    "                \"test\"\n",
    "                )\n",
    "\n",
    "thr_tf = tml_plots(final_tf,\n",
    "                   load_dict['neg_ind'],\n",
    "                   load_dict['hpos_ind'],\n",
    "                   config['pscore_cf'],\n",
    "                   config['auc_cf'],\n",
    "                   config['tpr_cf'],\n",
    "                   \"tf\"\n",
    "                  )\n"
   ]
  },
  {
   "cell_type": "code",
   "execution_count": null,
   "id": "9f578fc5-9629-4fdf-b1a4-34d6f78e7608",
   "metadata": {},
   "outputs": [],
   "source": []
  },
  {
   "cell_type": "code",
   "execution_count": null,
   "id": "c0076b6e-a742-4671-a0c4-a2c674cc37a8",
   "metadata": {},
   "outputs": [],
   "source": []
  },
  {
   "cell_type": "code",
   "execution_count": null,
   "id": "d0de2eab-a508-4c19-a17f-dcf8df2bf8b2",
   "metadata": {},
   "outputs": [],
   "source": []
  },
  {
   "cell_type": "code",
   "execution_count": null,
   "id": "d1a830af-9f4f-4c43-8cf3-5f8b000173c9",
   "metadata": {},
   "outputs": [],
   "source": [
    "final = np.column_stack((final, np.repeat(\"PASS\", len(y_pred_mvar))))\n",
    "final[final[:,1].astype(float) > thr, 2] = \"FAIL_Uncertain\"\n",
    "final[final[:,0].astype(float) <= config['pscore_cf'], 2] = \"FAIL_LowScore\"\n",
    "save = np.column_stack((load_dict['names'], final))\n",
    "# header = ['Mutation', 'Type', 'Probability_Score', 'Uncertainty_Score', 'Result']\n",
    "# pd.DataFrame(save.astype(str)).to_csv(f\"{config['out_path']}/{config['sample_name']}_scores.csv\", header=header, index=None)\n"
   ]
  },
  {
   "cell_type": "code",
   "execution_count": null,
   "id": "793a4da3-be49-49aa-baa2-851bf9f4e52d",
   "metadata": {},
   "outputs": [],
   "source": []
  },
  {
   "cell_type": "code",
   "execution_count": null,
   "id": "08a10e47-861e-49b0-8043-7a64323ecf35",
   "metadata": {},
   "outputs": [],
   "source": []
  },
  {
   "cell_type": "code",
   "execution_count": null,
   "id": "f2077a56-a950-45cc-9ccb-76e7f36d4816",
   "metadata": {},
   "outputs": [],
   "source": []
  },
  {
   "cell_type": "code",
   "execution_count": 10,
   "id": "19d59210-5f7f-46db-a4a7-c70e2c46106a",
   "metadata": {},
   "outputs": [
    {
     "name": "stdout",
     "output_type": "stream",
     "text": [
      "Start Loading Data!\n",
      "Loading Data Done!\n",
      "Start Preparing Data!\n",
      "Data Preparation Done!\n"
     ]
    }
   ],
   "source": [
    "cols = range(1, config['num_cols']+1)\n",
    "config['input_dim'] = len(cols) - 1\n",
    "\n",
    "# Load data and normalize\n",
    "load_dict =load_and_preprocess_data(f\"../{config['input_path']}\", cols)"
   ]
  },
  {
   "cell_type": "code",
   "execution_count": 11,
   "id": "a83378c8-e377-448d-9838-1c8f268714fb",
   "metadata": {},
   "outputs": [
    {
     "data": {
      "text/plain": [
       "dict_keys(['all_set', 'test_ind', 'neg_ind', 'pos_ind', 'hpos_ind', 'names', 'out1', 'out2_var', 'test_set'])"
      ]
     },
     "execution_count": 11,
     "metadata": {},
     "output_type": "execute_result"
    }
   ],
   "source": [
    "load_dict.keys()"
   ]
  },
  {
   "cell_type": "code",
   "execution_count": 16,
   "id": "f7cd4230-259b-4a25-b7fa-0847ac4886d0",
   "metadata": {},
   "outputs": [
    {
     "data": {
      "text/plain": [
       "(array([0., 1.]), array([   1634, 1783961]))"
      ]
     },
     "execution_count": 16,
     "metadata": {},
     "output_type": "execute_result"
    }
   ],
   "source": [
    "np.unique(load_dict['all_set'][:, 0], return_counts=True)"
   ]
  },
  {
   "cell_type": "code",
   "execution_count": 29,
   "id": "bc02d587-fe99-44b5-848d-a1cea6f1dcc4",
   "metadata": {
    "scrolled": true
   },
   "outputs": [
    {
     "data": {
      "text/plain": [
       "(array([0., 1.]), array([   1634, 1783961]))"
      ]
     },
     "execution_count": 29,
     "metadata": {},
     "output_type": "execute_result"
    }
   ],
   "source": [
    "np.unique(load_dict['out2_var'], return_counts=True)"
   ]
  },
  {
   "cell_type": "code",
   "execution_count": 31,
   "id": "9467a7d6-7251-48aa-bdfe-94c850d87f41",
   "metadata": {},
   "outputs": [
    {
     "data": {
      "text/plain": [
       "(866446, 42)"
      ]
     },
     "execution_count": 31,
     "metadata": {},
     "output_type": "execute_result"
    }
   ],
   "source": [
    "load_dict['test_set'].shape"
   ]
  },
  {
   "cell_type": "code",
   "execution_count": 32,
   "id": "da22a838-273c-4ebf-8bcb-503ec7035bb9",
   "metadata": {},
   "outputs": [
    {
     "data": {
      "text/plain": [
       "891980.5"
      ]
     },
     "execution_count": 32,
     "metadata": {},
     "output_type": "execute_result"
    }
   ],
   "source": [
    "1783961/2"
   ]
  },
  {
   "cell_type": "code",
   "execution_count": 54,
   "id": "a7fe3ad9-7acd-4d6a-8cea-db1e9f6a6d49",
   "metadata": {},
   "outputs": [],
   "source": [
    "import matplotlib.pyplot as plt"
   ]
  },
  {
   "cell_type": "code",
   "execution_count": 60,
   "id": "505fb859-d56b-46e0-9b22-c1b1dba12b74",
   "metadata": {},
   "outputs": [
    {
     "data": {
      "image/png": "[encoded data removed]",
      "text/plain": [
       "<Figure size 640x480 with 1 Axes>"
      ]
     },
     "metadata": {},
     "output_type": "display_data"
    }
   ],
   "source": [
    "# plt.hist(result['Probability_Score'].values)\n",
    "import seaborn as sns\n",
    "\n",
    "# Assuming you have two datasets: data1 and data2\n",
    "sns.kdeplot(data=result['Probability_Score'], fill=True, label=\"torch\")\n",
    "sns.kdeplot(data=result_tf['Probability_Score'], fill=True, label=\"tf\")\n",
    "\n",
    "sns.kdeplot(data=result_tf['Probability_Score']-result['Probability_Score'], fill=True, label=\"diff\")\n",
    "\n",
    "plt.legend()\n",
    "plt.title(\"Comparison of Density Plots\")\n",
    "plt.xlabel(\"Prob score\")\n",
    "plt.ylabel(\"Density\")\n",
    "plt.show()"
   ]
  },
  {
   "cell_type": "code",
   "execution_count": 61,
   "id": "64b4c6cc-090e-4803-9dc7-b324ec160849",
   "metadata": {},
   "outputs": [
    {
     "data": {
      "image/png": "[encoded data removed]",
      "text/plain": [
       "<Figure size 640x480 with 1 Axes>"
      ]
     },
     "metadata": {},
     "output_type": "display_data"
    }
   ],
   "source": [
    "# plt.hist(result['Probability_Score'].values)\n",
    "import seaborn as sns\n",
    "\n",
    "# Assuming you have two datasets: data1 and data2\n",
    "sns.kdeplot(data=result['Uncertainty_Score'], fill=True, label=\"torch\")\n",
    "sns.kdeplot(data=result_tf['Uncertainty_Score'], fill=True, label=\"tf\")\n",
    "\n",
    "sns.kdeplot(data=result_tf['Uncertainty_Score']-result['Uncertainty_Score'], fill=True, label=\"diff\")\n",
    "\n",
    "plt.legend()\n",
    "plt.title(\"Comparison of Density Plots\")\n",
    "plt.xlabel(\"Uncert score\")\n",
    "plt.ylabel(\"Density\")\n",
    "plt.show()"
   ]
  },
  {
   "cell_type": "code",
   "execution_count": null,
   "id": "079fb7fc-f6f0-4def-942a-f5a94dd9f86d",
   "metadata": {},
   "outputs": [],
   "source": []
  }
 ],
 "metadata": {
  "kernelspec": {
   "display_name": "Python [conda env:tml]",
   "language": "python",
   "name": "conda-env-tml-py"
  },
  "language_info": {
   "codemirror_mode": {
    "name": "ipython",
    "version": 3
   },
   "file_extension": ".py",
   "mimetype": "text/x-python",
   "name": "python",
   "nbconvert_exporter": "python",
   "pygments_lexer": "ipython3",
   "version": "3.11.6"
  }
 },
 "nbformat": 4,
 "nbformat_minor": 5
}
