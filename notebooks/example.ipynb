{
 "cells": [
  {
   "cell_type": "code",
   "execution_count": 31,
   "id": "cd7cd546-1365-4b4c-a3e3-f66774341d42",
   "metadata": {},
   "outputs": [
    {
     "name": "stdout",
     "output_type": "stream",
     "text": [
      "The autoreload extension is already loaded. To reload it, use:\n",
      "  %reload_ext autoreload\n"
     ]
    }
   ],
   "source": [
    "\n",
    "%load_ext autoreload\n",
    "%autoreload 2"
   ]
  },
  {
   "cell_type": "code",
   "execution_count": 56,
   "id": "c2bf7e3d-d581-46e0-8b5e-b3529d2b3dbc",
   "metadata": {},
   "outputs": [],
   "source": [
    "from tml.model.pipeline import Pipeline, ModelHandler\n",
    "from tml.models.model import BinaryClassificationLightning\n",
    "from tml.data.load_data import load_and_preprocess_data\n"
   ]
  },
  {
   "cell_type": "code",
   "execution_count": 3,
   "id": "131fb539-0061-4cae-8b7d-5cb3efce558b",
   "metadata": {},
   "outputs": [
    {
     "name": "stdout",
     "output_type": "stream",
     "text": [
      "Start Loading Data!\n",
      "Loading Data Done!\n",
      "Start Preparing Data!\n",
      "Data Preparation Done!\n"
     ]
    }
   ],
   "source": [
    "# Prepare the data\n",
    "cols = range(1, 42+1)\n",
    "input_dim = len(cols) - 1\n",
    "input_path = '../data/test1.csv'\n",
    "load_dict =load_and_preprocess_data(input_path, cols)\n",
    "dataset = load_dict['test_set']\n",
    "data = dataset[:, 1:]\n",
    "hard_targets = dataset[:, 0]\n",
    "\n"
   ]
  },
  {
   "cell_type": "code",
   "execution_count": 57,
   "id": "94c20b10-ca19-4e17-b22c-177ecd5d373a",
   "metadata": {},
   "outputs": [],
   "source": [
    "model_instance = BinaryClassificationLightning(input_dim=41, nb_classes=1, dropout_rate_train=0.5, dropout_rate_pred=0.5, learning_rate=0.001)\n",
    "\n",
    "# OR\n",
    "\n",
    "model_class = BinaryClassificationLightning\n",
    "model_config = {\n",
    "    \"input_dim\": 41,\n",
    "    \"nb_classes\": 1,\n",
    "    \"dropout_rate_train\": 0.5,\n",
    "    \"dropout_rate_pred\": 0.5,\n",
    "    \"learning_rate\": 0.001\n",
    "}"
   ]
  },
  {
   "cell_type": "code",
   "execution_count": 58,
   "id": "c294b7e7-93dc-41b2-a8d0-0fab5fcc2509",
   "metadata": {},
   "outputs": [],
   "source": [
    "out1 = load_dict['out1']\n",
    "out2_var = load_dict['out2_var']"
   ]
  },
  {
   "cell_type": "code",
   "execution_count": null,
   "id": "c1223fb3-b07d-4575-98ab-eb1b44ed774b",
   "metadata": {},
   "outputs": [],
   "source": []
  },
  {
   "cell_type": "code",
   "execution_count": 59,
   "id": "e73d04eb-1b00-45e8-bdd0-45e2c0295a21",
   "metadata": {},
   "outputs": [],
   "source": [
    "# Initialize the pipeline\n",
    "model_handler = ModelHandler(model_instance=model_instance, model_class=model_class, model_config=model_config)\n",
    "pipeline = Pipeline(model_handler, data, hard_targets, max_epochs=2)\n",
    "\n",
    "\n",
    "\n"
   ]
  },
  {
   "cell_type": "code",
   "execution_count": 60,
   "id": "e32aa3b2-a3e1-428c-a731-5aba9d05e3f9",
   "metadata": {},
   "outputs": [],
   "source": [
    "# model_class(**model_config)"
   ]
  },
  {
   "cell_type": "code",
   "execution_count": 61,
   "id": "b24961c7-eb01-4490-9894-1295313231d0",
   "metadata": {},
   "outputs": [
    {
     "name": "stderr",
     "output_type": "stream",
     "text": [
      "GPU available: True (cuda), used: True\n",
      "TPU available: False, using: 0 TPU cores\n",
      "HPU available: False, using: 0 HPUs\n",
      "LOCAL_RANK: 0 - CUDA_VISIBLE_DEVICES: [0]\n",
      "\n",
      "  | Name           | Type                      | Params | Mode \n",
      "---------------------------------------------------------------------\n",
      "0 | model          | BinaryClassificationModel | 2.6 K  | train\n",
      "1 | loss_fn        | BCELoss                   | 0      | train\n",
      "2 | train_accuracy | BinaryAccuracy            | 0      | train\n",
      "---------------------------------------------------------------------\n",
      "2.6 K     Trainable params\n",
      "0         Non-trainable params\n",
      "2.6 K     Total params\n",
      "0.010     Total estimated model params size (MB)\n",
      "12        Modules in train mode\n",
      "0         Modules in eval mode\n"
     ]
    },
    {
     "name": "stdout",
     "output_type": "stream",
     "text": [
      "Seed: 42\n",
      "Level 1 init: subset 43\n",
      "Level 1 training: subset 43\n",
      "Epoch 1: 100%|██████████| 52/52 [00:00<00:00, 169.49it/s, v_num=2, train_loss=0.627, train_accuracy=0.621]"
     ]
    },
    {
     "name": "stderr",
     "output_type": "stream",
     "text": [
      "`Trainer.fit` stopped: `max_epochs=2` reached.\n"
     ]
    },
    {
     "name": "stdout",
     "output_type": "stream",
     "text": [
      "Epoch 1: 100%|██████████| 52/52 [00:00<00:00, 168.30it/s, v_num=2, train_loss=0.627, train_accuracy=0.621]\n",
      "Level 1 predict: subset 43\n",
      "Pruning: subset 43\n",
      "Level 2 init: subset 43\n"
     ]
    },
    {
     "name": "stderr",
     "output_type": "stream",
     "text": [
      "GPU available: True (cuda), used: True\n",
      "TPU available: False, using: 0 TPU cores\n",
      "HPU available: False, using: 0 HPUs\n",
      "LOCAL_RANK: 0 - CUDA_VISIBLE_DEVICES: [0]\n",
      "\n",
      "  | Name           | Type                      | Params | Mode \n",
      "---------------------------------------------------------------------\n",
      "0 | model          | BinaryClassificationModel | 2.6 K  | train\n",
      "1 | loss_fn        | BCELoss                   | 0      | train\n",
      "2 | train_accuracy | BinaryAccuracy            | 0      | train\n",
      "---------------------------------------------------------------------\n",
      "2.6 K     Trainable params\n",
      "0         Non-trainable params\n",
      "2.6 K     Total params\n",
      "0.010     Total estimated model params size (MB)\n",
      "12        Modules in train mode\n",
      "0         Modules in eval mode\n"
     ]
    },
    {
     "name": "stdout",
     "output_type": "stream",
     "text": [
      "Level 2 training: subset 43\n",
      "Epoch 1: 100%|██████████| 51/51 [00:00<00:00, 169.46it/s, v_num=2, train_loss=0.637, train_accuracy=0.602]"
     ]
    },
    {
     "name": "stderr",
     "output_type": "stream",
     "text": [
      "`Trainer.fit` stopped: `max_epochs=2` reached.\n"
     ]
    },
    {
     "name": "stdout",
     "output_type": "stream",
     "text": [
      "Epoch 1: 100%|██████████| 51/51 [00:00<00:00, 168.38it/s, v_num=2, train_loss=0.637, train_accuracy=0.602]\n",
      "Level 2 predict: subset 43\n",
      "Level 2 prediction with dropout: subset 43\n"
     ]
    },
    {
     "name": "stderr",
     "output_type": "stream",
     "text": [
      "GPU available: True (cuda), used: True\n",
      "TPU available: False, using: 0 TPU cores\n",
      "HPU available: False, using: 0 HPUs\n",
      "LOCAL_RANK: 0 - CUDA_VISIBLE_DEVICES: [0]\n",
      "\n",
      "  | Name           | Type                      | Params | Mode \n",
      "---------------------------------------------------------------------\n",
      "0 | model          | BinaryClassificationModel | 2.6 K  | train\n",
      "1 | loss_fn        | BCELoss                   | 0      | train\n",
      "2 | train_accuracy | BinaryAccuracy            | 0      | train\n",
      "---------------------------------------------------------------------\n",
      "2.6 K     Trainable params\n",
      "0         Non-trainable params\n",
      "2.6 K     Total params\n",
      "0.010     Total estimated model params size (MB)\n",
      "12        Modules in train mode\n",
      "0         Modules in eval mode\n"
     ]
    },
    {
     "name": "stdout",
     "output_type": "stream",
     "text": [
      "Seed: 43\n",
      "Level 1 init: subset 44\n",
      "Level 1 training: subset 44\n",
      "Epoch 1: 100%|██████████| 52/52 [00:00<00:00, 168.69it/s, v_num=2, train_loss=0.644, train_accuracy=0.622]"
     ]
    },
    {
     "name": "stderr",
     "output_type": "stream",
     "text": [
      "`Trainer.fit` stopped: `max_epochs=2` reached.\n"
     ]
    },
    {
     "name": "stdout",
     "output_type": "stream",
     "text": [
      "Epoch 1: 100%|██████████| 52/52 [00:00<00:00, 167.48it/s, v_num=2, train_loss=0.644, train_accuracy=0.622]\n",
      "Level 1 predict: subset 44\n",
      "Pruning: subset 44\n",
      "Level 2 init: subset 44\n"
     ]
    },
    {
     "name": "stderr",
     "output_type": "stream",
     "text": [
      "GPU available: True (cuda), used: True\n",
      "TPU available: False, using: 0 TPU cores\n",
      "HPU available: False, using: 0 HPUs\n",
      "LOCAL_RANK: 0 - CUDA_VISIBLE_DEVICES: [0]\n",
      "\n",
      "  | Name           | Type                      | Params | Mode \n",
      "---------------------------------------------------------------------\n",
      "0 | model          | BinaryClassificationModel | 2.6 K  | train\n",
      "1 | loss_fn        | BCELoss                   | 0      | train\n",
      "2 | train_accuracy | BinaryAccuracy            | 0      | train\n",
      "---------------------------------------------------------------------\n",
      "2.6 K     Trainable params\n",
      "0         Non-trainable params\n",
      "2.6 K     Total params\n",
      "0.010     Total estimated model params size (MB)\n",
      "12        Modules in train mode\n",
      "0         Modules in eval mode\n"
     ]
    },
    {
     "name": "stdout",
     "output_type": "stream",
     "text": [
      "Level 2 training: subset 44\n",
      "Epoch 1: 100%|██████████| 52/52 [00:00<00:00, 168.56it/s, v_num=2, train_loss=0.645, train_accuracy=0.619]"
     ]
    },
    {
     "name": "stderr",
     "output_type": "stream",
     "text": [
      "`Trainer.fit` stopped: `max_epochs=2` reached.\n"
     ]
    },
    {
     "name": "stdout",
     "output_type": "stream",
     "text": [
      "Epoch 1: 100%|██████████| 52/52 [00:00<00:00, 167.44it/s, v_num=2, train_loss=0.645, train_accuracy=0.619]\n",
      "Level 2 predict: subset 44\n",
      "Level 2 prediction with dropout: subset 44\n",
      "Getting probability scores: subset 44\n",
      "Getting uncertainty scores: subset 44\n"
     ]
    }
   ],
   "source": [
    "pipeline.run(n_steps=2)"
   ]
  },
  {
   "cell_type": "code",
   "execution_count": 62,
   "id": "9ecd28cb-3ded-4178-8865-7a5125211d36",
   "metadata": {},
   "outputs": [
    {
     "data": {
      "text/plain": [
       "(866446,)"
      ]
     },
     "execution_count": 62,
     "metadata": {},
     "output_type": "execute_result"
    }
   ],
   "source": [
    "pipeline.y_pred.shape"
   ]
  },
  {
   "cell_type": "code",
   "execution_count": 63,
   "id": "a53462c3-2052-45b2-9f2d-e2c292f01532",
   "metadata": {},
   "outputs": [
    {
     "data": {
      "text/plain": [
       "array([0.5093195 , 0.41626525, 0.49113125, ..., 0.4673889 , 0.52091455,\n",
       "       0.55037755], dtype=float32)"
      ]
     },
     "execution_count": 63,
     "metadata": {},
     "output_type": "execute_result"
    }
   ],
   "source": [
    "pipeline.y_pred_all"
   ]
  },
  {
   "cell_type": "code",
   "execution_count": 64,
   "id": "70171227-f261-48ac-a6ce-279347f63dee",
   "metadata": {},
   "outputs": [
    {
     "data": {
      "text/plain": [
       "array([[5.49727178e-04, 6.29333360e-03, 2.99903157e-04, ...,\n",
       "        1.55466318e-03, 5.32663544e-05, 1.91333401e-03],\n",
       "       [1.74799562e-03, 4.79868194e-03, 1.79114693e-04, ...,\n",
       "        1.11289043e-03, 1.22551091e-05, 7.03442376e-04]])"
      ]
     },
     "execution_count": 64,
     "metadata": {},
     "output_type": "execute_result"
    }
   ],
   "source": [
    "pipeline.all_vars"
   ]
  },
  {
   "cell_type": "code",
   "execution_count": 17,
   "id": "7c5848a0-3c04-4c6a-a285-921fb1083ee9",
   "metadata": {},
   "outputs": [
    {
     "data": {
      "text/plain": [
       "array([[1.        , 0.9265029 , 0.65363115],\n",
       "       [1.        , 0.14029637, 0.16831593],\n",
       "       [1.        , 0.28429806, 0.43855852],\n",
       "       ...,\n",
       "       [1.        , 0.9227524 , 0.6123927 ],\n",
       "       [1.        , 0.9186627 , 0.6517285 ],\n",
       "       [1.        , 0.9135904 , 0.65503734]], dtype=float32)"
      ]
     },
     "execution_count": 17,
     "metadata": {},
     "output_type": "execute_result"
    }
   ],
   "source": [
    "pipeline.out1"
   ]
  },
  {
   "cell_type": "code",
   "execution_count": 20,
   "id": "e4bacd56-6676-4a3c-88ec-65552ea37a55",
   "metadata": {},
   "outputs": [],
   "source": [
    "import numpy as np\n",
    "all_probs = np.zeros((5, 866446))"
   ]
  },
  {
   "cell_type": "code",
   "execution_count": 23,
   "id": "890eafab-f6aa-4a27-b56c-a41e10e03917",
   "metadata": {},
   "outputs": [],
   "source": [
    "all_probs[1] = pipeline.y_pred"
   ]
  },
  {
   "cell_type": "code",
   "execution_count": 27,
   "id": "dfa26061-dc72-49b3-a79b-154033a38971",
   "metadata": {},
   "outputs": [
    {
     "data": {
      "text/plain": [
       "array([0.62602884, 0.24449463, 0.48087469, ..., 0.57256263, 0.62974077,\n",
       "       0.63808727])"
      ]
     },
     "execution_count": 27,
     "metadata": {},
     "output_type": "execute_result"
    }
   ],
   "source": [
    "all_probs[1]"
   ]
  },
  {
   "cell_type": "code",
   "execution_count": 45,
   "id": "450a0a7a-2677-4208-befe-47dc1e7e7834",
   "metadata": {},
   "outputs": [
    {
     "data": {
      "text/plain": [
       "array([[0.65363115, 0.16831593, 0.43855852, ..., 0.6123927 , 0.6517285 ,\n",
       "        0.65503734],\n",
       "       [0.65363115, 0.16831593, 0.43855852, ..., 0.6123927 , 0.6517285 ,\n",
       "        0.65503734]], dtype=float32)"
      ]
     },
     "execution_count": 45,
     "metadata": {},
     "output_type": "execute_result"
    }
   ],
   "source": [
    "pipeline.y_pred_dropout"
   ]
  },
  {
   "cell_type": "code",
   "execution_count": 46,
   "id": "809a1e6d-8375-4362-8bd3-842f30b6dd5c",
   "metadata": {},
   "outputs": [
    {
     "data": {
      "text/plain": [
       "BinaryClassificationLightning(\n",
       "  (model): BinaryClassificationModel(\n",
       "    (custom_dropout1): CustomDropout()\n",
       "    (custom_dropout2): CustomDropout()\n",
       "    (model): Sequential(\n",
       "      (0): Linear(in_features=41, out_features=41, bias=True)\n",
       "      (1): ReLU()\n",
       "      (2): CustomDropout()\n",
       "      (3): Linear(in_features=41, out_features=20, bias=True)\n",
       "      (4): ReLU()\n",
       "      (5): CustomDropout()\n",
       "      (6): Linear(in_features=20, out_features=1, bias=True)\n",
       "      (7): Sigmoid()\n",
       "    )\n",
       "  )\n",
       "  (loss_fn): BCELoss()\n",
       "  (train_accuracy): BinaryAccuracy()\n",
       ")"
      ]
     },
     "execution_count": 46,
     "metadata": {},
     "output_type": "execute_result"
    }
   ],
   "source": [
    "pipeline.model"
   ]
  },
  {
   "cell_type": "code",
   "execution_count": null,
   "id": "614e01f0-a66c-4ecd-a6d6-7e0785ed41c3",
   "metadata": {},
   "outputs": [],
   "source": []
  }
 ],
 "metadata": {
  "kernelspec": {
   "display_name": "Python [conda env:tml]",
   "language": "python",
   "name": "conda-env-tml-py"
  },
  "language_info": {
   "codemirror_mode": {
    "name": "ipython",
    "version": 3
   },
   "file_extension": ".py",
   "mimetype": "text/x-python",
   "name": "python",
   "nbconvert_exporter": "python",
   "pygments_lexer": "ipython3",
   "version": "3.11.6"
  }
 },
 "nbformat": 4,
 "nbformat_minor": 5
}
