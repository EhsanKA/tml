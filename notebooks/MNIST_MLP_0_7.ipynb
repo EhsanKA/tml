{
 "cells": [
  {
   "cell_type": "markdown",
   "id": "9dfdbeaa-7d81-4913-a6e5-6520bb5272ff",
   "metadata": {},
   "source": [
    "# Example\n",
    "#### Model: MLP\n",
    "#### Data: MNIST (0,7) classes\n",
    "#### 10% switch labels rate"
   ]
  },
  {
   "cell_type": "code",
   "execution_count": 5,
   "id": "05c82464-7cf5-4198-9d71-f135b9f4b577",
   "metadata": {},
   "outputs": [
    {
     "name": "stdout",
     "output_type": "stream",
     "text": [
      "The autoreload extension is already loaded. To reload it, use:\n",
      "  %reload_ext autoreload\n"
     ]
    }
   ],
   "source": [
    "%load_ext autoreload\n",
    "%autoreload 2"
   ]
  },
  {
   "cell_type": "code",
   "execution_count": 6,
   "id": "2b5d7ccb-da23-4474-9826-783969af3679",
   "metadata": {},
   "outputs": [],
   "source": [
    "import torch\n",
    "from torch import nn\n",
    "from torch.utils.data import DataLoader, Subset\n",
    "from torchvision import datasets, transforms\n",
    "import pytorch_lightning as pl\n",
    "\n",
    "class BinaryMNISTClassifier(pl.LightningModule):\n",
    "    def __init__(self, input_size=28*28, hidden_sizes=[128,32], output_size=1, learning_rate=1e-3, dropout_rate=0.7):\n",
    "        super(BinaryMNISTClassifier, self).__init__()\n",
    "        self.learning_rate = learning_rate\n",
    "        self.model = nn.Sequential(\n",
    "            nn.Flatten(),\n",
    "            nn.Linear(input_size, hidden_sizes[0]),\n",
    "            nn.ReLU(),\n",
    "            nn.Dropout(dropout_rate),\n",
    "            nn.Linear(hidden_sizes[0], hidden_sizes[1]),\n",
    "            nn.ReLU(),\n",
    "            nn.Dropout(dropout_rate),\n",
    "            nn.Linear(hidden_sizes[1], output_size),\n",
    "            nn.Sigmoid()\n",
    "        )\n",
    "        self.loss_fn = nn.BCELoss()\n",
    "        \n",
    "    def forward(self, x):\n",
    "        return self.model(x)\n",
    "\n",
    "    def training_step(self, batch, batch_idx):\n",
    "        x, y = batch\n",
    "        y = y.float().unsqueeze(1)  # Adjust shape for BCELoss\n",
    "        logits = self(x)\n",
    "        loss = self.loss_fn(logits, y)\n",
    "        self.log(\"train_loss\", loss, on_step=False, on_epoch=True, prog_bar=True)\n",
    "        return loss\n",
    "\n",
    "    def test_step(self, batch, batch_idx):\n",
    "        x, y = batch\n",
    "        y = y.float().unsqueeze(1)\n",
    "        logits = self(x)\n",
    "        loss = self.loss_fn(logits, y)\n",
    "        \n",
    "        # Calculate accuracy\n",
    "        preds = (logits > 0.5).float()\n",
    "        accuracy = (preds == y).float().mean()\n",
    "        \n",
    "        self.log(\"test_loss\", loss, on_step=False, on_epoch=True, prog_bar=True)\n",
    "        self.log(\"test_accuracy\", accuracy, on_step=False, on_epoch=True)\n",
    "        return {\"test_loss\": loss, \"test_accuracy\": accuracy}\n",
    "\n",
    "    def configure_optimizers(self):\n",
    "        return torch.optim.Adam(self.parameters(), lr=self.learning_rate)\n"
   ]
  },
  {
   "cell_type": "code",
   "execution_count": 7,
   "id": "2b97ddc6-4d21-4788-8c07-81aecbe4b825",
   "metadata": {},
   "outputs": [],
   "source": [
    "import torch\n",
    "import torch.nn as nn\n",
    "import pytorch_lightning as pl\n",
    "import torch.optim as optim\n",
    "from torchmetrics.classification import Accuracy\n",
    "\n",
    "class CNNBinaryMNISTClassifier(pl.LightningModule):\n",
    "    def __init__(self, learning_rate=1e-3, dropout_rate=0.5):\n",
    "        super(CNNBinaryMNISTClassifier, self).__init__()\n",
    "        self.learning_rate = learning_rate\n",
    "        \n",
    "        # Define the CNN architecture using nn.Sequential\n",
    "        self.model = nn.Sequential(\n",
    "            nn.Conv2d(1, 32, kernel_size=5, stride=1, padding=2),  # (28, 28) -> (28, 28)\n",
    "            nn.ReLU(),\n",
    "            nn.Conv2d(32, 32, kernel_size=3, stride=1, padding=1),  # (28, 28) -> (28, 28)\n",
    "            nn.ReLU(),\n",
    "            nn.MaxPool2d(2, 2),  # (28, 28) -> (14, 14)\n",
    "            nn.Dropout(dropout_rate),\n",
    "            \n",
    "            nn.Conv2d(32, 64, kernel_size=5, stride=1, padding=2),  # (14, 14) -> (14, 14)\n",
    "            nn.ReLU(),\n",
    "            nn.Conv2d(64, 64, kernel_size=3, stride=1, padding=1),  # (14, 14) -> (14, 14)\n",
    "            nn.ReLU(),\n",
    "            nn.MaxPool2d(2, 2),  # (14, 14) -> (7, 7)\n",
    "            \n",
    "            nn.Flatten(),  # Flatten the output for the fully connected layers\n",
    "            nn.Linear(64 * 7 * 7, 128),\n",
    "            nn.ReLU(),\n",
    "            nn.Dropout(dropout_rate),\n",
    "            nn.Linear(128, 32),\n",
    "            nn.ReLU(),\n",
    "            nn.Dropout(dropout_rate),\n",
    "            nn.Linear(32, 1),  # Single output for binary classification\n",
    "            nn.Sigmoid()  # Apply sigmoid to get output between 0 and 1\n",
    "        )\n",
    "\n",
    "    def forward(self, x):\n",
    "        return self.model(x)\n",
    "\n",
    "    def training_step(self, batch, batch_idx):\n",
    "        x, y = batch\n",
    "        y = y.float().unsqueeze(1)  # Adjust shape for BCELoss\n",
    "        logits = self(x)\n",
    "        loss = nn.BCELoss()(logits, y)\n",
    "        self.log(\"train_loss\", loss, on_step=False, on_epoch=True, prog_bar=True)\n",
    "        return loss\n",
    "\n",
    "    def test_step(self, batch, batch_idx):\n",
    "        x, y = batch\n",
    "        y = y.float().unsqueeze(1)  # Adjust shape for BCELoss\n",
    "        logits = self(x)\n",
    "        loss = nn.BCELoss()(logits, y)\n",
    "        \n",
    "        # Calculate accuracy\n",
    "        preds = (logits > 0.5).float()  # Threshold logits at 0.5 to make binary predictions\n",
    "        accuracy = (preds == y).float().mean()\n",
    "\n",
    "        self.log(\"test_loss\", loss, on_step=False, on_epoch=True, prog_bar=True)\n",
    "        self.log(\"test_accuracy\", accuracy, on_step=False, on_epoch=True)\n",
    "        return {\"test_loss\": loss, \"test_accuracy\": accuracy}\n",
    "\n",
    "    def configure_optimizers(self):\n",
    "        optimizer = optim.Adam(self.parameters(), lr=self.learning_rate)\n",
    "        return optimizer\n"
   ]
  },
  {
   "cell_type": "code",
   "execution_count": null,
   "id": "5a696c03-416f-4d7f-87e1-07a35ddf5763",
   "metadata": {},
   "outputs": [],
   "source": []
  },
  {
   "cell_type": "code",
   "execution_count": 8,
   "id": "e02b4e53-35c5-4088-ad42-2a4885f4ec50",
   "metadata": {},
   "outputs": [],
   "source": [
    "def create_binary_subset(dataset, label1, label2):\n",
    "    # Filter for the two specified labels\n",
    "    idx = (dataset.targets == label1) | (dataset.targets == label2)\n",
    "    binary_subset = Subset(dataset, torch.where(idx)[0])\n",
    "    \n",
    "    # Map label1 to 0 and label2 to 1\n",
    "    mapped_targets = torch.tensor([0 if label == label1 else 1 for label in dataset.targets[idx]])\n",
    "    \n",
    "    # Update dataset targets to reflect the binary mapping\n",
    "    for i, original_idx in enumerate(torch.where(idx)[0]):\n",
    "        binary_subset.dataset.targets[original_idx] = mapped_targets[i]\n",
    "    \n",
    "    return binary_subset\n",
    "\n"
   ]
  },
  {
   "cell_type": "code",
   "execution_count": 10,
   "id": "d44ccc02-c8e8-46d6-ad3b-82dc3189be8f",
   "metadata": {},
   "outputs": [],
   "source": [
    "import torch\n",
    "import random\n",
    "import numpy as np\n",
    "random.seed(42)\n",
    "\n",
    "label1, label2 = 0, 7  # Choose any two labels here\n",
    "transform = transforms.Compose([transforms.ToTensor()])\n",
    "mnist_train = datasets.MNIST(root=\"../data/\", train=True, transform=transform, download=True)\n",
    "\n",
    "binary_mnist_train = create_binary_subset(mnist_train, label1, label2)\n",
    "\n",
    "# Step 1: Retrieve data and labels\n",
    "data = []\n",
    "labels = []\n",
    "for img, label in binary_mnist_train:\n",
    "    data.append(img)\n",
    "    labels.append(label)\n",
    "\n",
    "# Convert data and labels to tensors\n",
    "data = torch.stack(data)  # shape: [num_samples, channels, height, width]\n",
    "labels = torch.tensor(labels, dtype=torch.long)\n",
    "\n",
    "# Step 2: Generate fake labels by switching 5% of them\n",
    "fake_labels = labels.clone()  # Copy true labels\n",
    "num_samples = len(labels)\n",
    "num_switch = int(0.2 * num_samples)  # 20% of labels to switch\n",
    "# indices_to_switch = random.sample(range(num_samples), num_switch)\n",
    "indices_to_switch = random.sample(np.where(labels==1)[0].tolist(), num_switch)\n",
    "\n",
    "# for idx in indices_to_switch:\n",
    "#     fake_labels[idx] = label2 if fake_labels[idx] == label1 else label1\n",
    "for idx in indices_to_switch:\n",
    "    fake_labels[idx] = (fake_labels[idx] +1)%2\n",
    "    \n",
    "# Convert data and fake labels to tensors\n",
    "data = data.float()  # Convert data to float32 tensor if needed\n",
    "fake_labels = fake_labels.long()  # Convert fake_labels to long tensor\n"
   ]
  },
  {
   "cell_type": "code",
   "execution_count": 16,
   "id": "9586bdcf-e1ba-4568-8c71-27637bc1a6b2",
   "metadata": {
    "scrolled": true
   },
   "outputs": [],
   "source": [
    "from tml.pipeline import Pipeline, ModelHandler\n",
    "from tml.analysis import BinaryClassificationAnalysis\n"
   ]
  },
  {
   "cell_type": "code",
   "execution_count": 17,
   "id": "a6518823-c31a-4a1e-a964-aa5fe3af795e",
   "metadata": {},
   "outputs": [],
   "source": [
    "\n",
    "# model_instance = BinaryMNISTClassifier()\n",
    "model_instance = CNNBinaryMNISTClassifier(dropout_rate=0.7, learning_rate=1.0e-4)"
   ]
  },
  {
   "cell_type": "code",
   "execution_count": 18,
   "id": "e4ba37b7-f51c-445d-bdcd-37c4ed89c13f",
   "metadata": {},
   "outputs": [],
   "source": [
    "# Initialize the pipeline\n",
    "model_handler = ModelHandler(model_instance=model_instance)\n",
    "pipeline = Pipeline(model_handler, data=data, hard_targets=fake_labels, max_epochs=40, drop_iterations=100)"
   ]
  },
  {
   "cell_type": "code",
   "execution_count": null,
   "id": "8e02ffe0-1243-4e6a-aba5-2941dc0f930a",
   "metadata": {},
   "outputs": [
    {
     "name": "stderr",
     "output_type": "stream",
     "text": [
      "GPU available: True (cuda), used: True\n",
      "TPU available: False, using: 0 TPU cores\n",
      "HPU available: False, using: 0 HPUs\n",
      "LOCAL_RANK: 0 - CUDA_VISIBLE_DEVICES: [0]\n",
      "\n",
      "  | Name  | Type       | Params | Mode \n",
      "---------------------------------------------\n",
      "0 | model | Sequential | 503 K  | train\n",
      "---------------------------------------------\n",
      "503 K     Trainable params\n",
      "0         Non-trainable params\n",
      "503 K     Total params\n",
      "2.016     Total estimated model params size (MB)\n",
      "21        Modules in train mode\n",
      "0         Modules in eval mode\n"
     ]
    },
    {
     "name": "stdout",
     "output_type": "stream",
     "text": [
      "Seed: 42\n",
      "Level 1 init: subset 43\n",
      "Level 1 training: subset 43\n",
      "Epoch 34:  58%|█████▊    | 70/120 [00:00<00:00, 180.17it/s, v_num=27, train_loss=0.338] "
     ]
    }
   ],
   "source": [
    "pipeline.run(n_steps=25)"
   ]
  },
  {
   "cell_type": "code",
   "execution_count": null,
   "id": "7e03fddf-b29c-42ea-887f-2bad3ec2a60f",
   "metadata": {},
   "outputs": [],
   "source": []
  },
  {
   "cell_type": "code",
   "execution_count": 20,
   "id": "ecb291e8-31da-40c7-a0a1-45bed5254cfe",
   "metadata": {},
   "outputs": [
    {
     "data": {
      "text/plain": [
       "tensor([0, 1])"
      ]
     },
     "execution_count": 20,
     "metadata": {},
     "output_type": "execute_result"
    }
   ],
   "source": [
    "torch.unique(fake_labels)"
   ]
  },
  {
   "cell_type": "code",
   "execution_count": 21,
   "id": "9cd5c770-38f6-4546-84d5-bfbfba3b05cf",
   "metadata": {},
   "outputs": [
    {
     "data": {
      "text/plain": [
       "tensor(9751)"
      ]
     },
     "execution_count": 21,
     "metadata": {},
     "output_type": "execute_result"
    }
   ],
   "source": [
    "(labels == fake_labels).sum()"
   ]
  },
  {
   "cell_type": "code",
   "execution_count": 22,
   "id": "e62b03a8-2343-4577-81cf-0e07cc9fce2f",
   "metadata": {},
   "outputs": [
    {
     "data": {
      "text/plain": [
       "12188"
      ]
     },
     "execution_count": 22,
     "metadata": {},
     "output_type": "execute_result"
    }
   ],
   "source": [
    "len(labels)"
   ]
  },
  {
   "cell_type": "code",
   "execution_count": 23,
   "id": "18c11b7e-d168-4bf4-a5e2-db72c3e87483",
   "metadata": {},
   "outputs": [
    {
     "name": "stdout",
     "output_type": "stream",
     "text": [
      "ROC AUC: 0.9055958081474705, Brier Score: 0.18032222609816634\n"
     ]
    },
    {
     "data": {
      "image/png": "[encoded data removed]",
      "text/plain": [
       "<Figure size 640x480 with 1 Axes>"
      ]
     },
     "metadata": {},
     "output_type": "display_data"
    },
    {
     "data": {
      "image/png": "[encoded data removed]",
      "text/plain": [
       "<Figure size 640x480 with 1 Axes>"
      ]
     },
     "metadata": {},
     "output_type": "display_data"
    },
    {
     "data": {
      "image/png": "[encoded data removed]",
      "text/plain": [
       "<Figure size 640x480 with 1 Axes>"
      ]
     },
     "metadata": {},
     "output_type": "display_data"
    },
    {
     "data": {
      "image/png": "[encoded data removed]",
      "text/plain": [
       "<Figure size 640x480 with 1 Axes>"
      ]
     },
     "metadata": {},
     "output_type": "display_data"
    }
   ],
   "source": [
    "# Assuming labels, probability_scores, and uncertainty_scores are available\n",
    "analysis = BinaryClassificationAnalysis(pipeline.hard_targets.cpu().numpy(),\n",
    "                                        pipeline.probability_scores,\n",
    "                                        pipeline.uncertainty_scores)\n",
    "\n",
    "# Calculate metrics\n",
    "roc_auc = analysis.calculate_roc_auc()\n",
    "brier_score = analysis.calculate_brier_score()\n",
    "print(f\"ROC AUC: {roc_auc}, Brier Score: {brier_score}\")\n",
    "\n",
    "# Plotting\n",
    "analysis.plot_reliability_diagram()\n",
    "analysis.plot_roc_curve()\n",
    "analysis.plot_uncertainty_distribution()\n",
    "analysis.plot_uncertainty_vs_confidence()\n"
   ]
  },
  {
   "cell_type": "code",
   "execution_count": null,
   "id": "15df59e6-f485-4e84-82a7-481fb783743a",
   "metadata": {},
   "outputs": [],
   "source": []
  },
  {
   "cell_type": "code",
   "execution_count": 24,
   "id": "add14f16-d0f3-49d1-ab9a-c955298c1d85",
   "metadata": {},
   "outputs": [
    {
     "data": {
      "text/html": [
       "<div>\n",
       "<style scoped>\n",
       "    .dataframe tbody tr th:only-of-type {\n",
       "        vertical-align: middle;\n",
       "    }\n",
       "\n",
       "    .dataframe tbody tr th {\n",
       "        vertical-align: top;\n",
       "    }\n",
       "\n",
       "    .dataframe thead th {\n",
       "        text-align: right;\n",
       "    }\n",
       "</style>\n",
       "<table border=\"1\" class=\"dataframe\">\n",
       "  <thead>\n",
       "    <tr style=\"text-align: right;\">\n",
       "      <th></th>\n",
       "      <th>labels</th>\n",
       "      <th>fake_labels</th>\n",
       "      <th>probability_scores</th>\n",
       "      <th>uncertainty_scores</th>\n",
       "      <th>confidence_adjusted_scores</th>\n",
       "      <th>label_issue</th>\n",
       "    </tr>\n",
       "  </thead>\n",
       "  <tbody>\n",
       "    <tr>\n",
       "      <th>0</th>\n",
       "      <td>0</td>\n",
       "      <td>0</td>\n",
       "      <td>2.182494e-21</td>\n",
       "      <td>7.163676e-09</td>\n",
       "      <td>7.163676e-09</td>\n",
       "      <td>0</td>\n",
       "    </tr>\n",
       "    <tr>\n",
       "      <th>1</th>\n",
       "      <td>1</td>\n",
       "      <td>1</td>\n",
       "      <td>9.974081e-01</td>\n",
       "      <td>1.354426e-03</td>\n",
       "      <td>3.510481e-06</td>\n",
       "      <td>0</td>\n",
       "    </tr>\n",
       "    <tr>\n",
       "      <th>2</th>\n",
       "      <td>0</td>\n",
       "      <td>0</td>\n",
       "      <td>8.851457e-19</td>\n",
       "      <td>5.511817e-12</td>\n",
       "      <td>5.511817e-12</td>\n",
       "      <td>0</td>\n",
       "    </tr>\n",
       "    <tr>\n",
       "      <th>3</th>\n",
       "      <td>1</td>\n",
       "      <td>1</td>\n",
       "      <td>9.842063e-01</td>\n",
       "      <td>2.117820e-03</td>\n",
       "      <td>3.344818e-05</td>\n",
       "      <td>0</td>\n",
       "    </tr>\n",
       "    <tr>\n",
       "      <th>4</th>\n",
       "      <td>0</td>\n",
       "      <td>0</td>\n",
       "      <td>1.011282e-09</td>\n",
       "      <td>4.755325e-05</td>\n",
       "      <td>4.755325e-05</td>\n",
       "      <td>0</td>\n",
       "    </tr>\n",
       "  </tbody>\n",
       "</table>\n",
       "</div>"
      ],
      "text/plain": [
       "   labels  fake_labels  probability_scores  uncertainty_scores  \\\n",
       "0       0            0        2.182494e-21        7.163676e-09   \n",
       "1       1            1        9.974081e-01        1.354426e-03   \n",
       "2       0            0        8.851457e-19        5.511817e-12   \n",
       "3       1            1        9.842063e-01        2.117820e-03   \n",
       "4       0            0        1.011282e-09        4.755325e-05   \n",
       "\n",
       "   confidence_adjusted_scores  label_issue  \n",
       "0                7.163676e-09            0  \n",
       "1                3.510481e-06            0  \n",
       "2                5.511817e-12            0  \n",
       "3                3.344818e-05            0  \n",
       "4                4.755325e-05            0  "
      ]
     },
     "execution_count": 24,
     "metadata": {},
     "output_type": "execute_result"
    }
   ],
   "source": [
    "import pandas as pd\n",
    "\n",
    "# Assuming the variables labels, fake_labels, probability_scores, and uncertainty_scores are already defined\n",
    "\n",
    "# Convert each to a list or numpy array if they aren't already in those formats\n",
    "labels = labels.cpu().numpy() if torch.is_tensor(labels) else labels\n",
    "fake_labels = fake_labels.cpu().numpy() if torch.is_tensor(fake_labels) else fake_labels\n",
    "probability_scores = pipeline.probability_scores\n",
    "uncertainty_scores = pipeline.uncertainty_scores\n",
    "confidence_adjusted_scores = (1 - probability_scores) * uncertainty_scores\n",
    "\n",
    "# Ensure that all components have the same length\n",
    "assert len(labels) == len(fake_labels) == len(probability_scores) == len(uncertainty_scores), \"Mismatched lengths\"\n",
    "\n",
    "# Create the DataFrame\n",
    "df = pd.DataFrame({\n",
    "    'labels': labels,\n",
    "    'fake_labels': fake_labels,\n",
    "    'probability_scores': probability_scores,\n",
    "    'uncertainty_scores': uncertainty_scores,\n",
    "    'confidence_adjusted_scores': confidence_adjusted_scores,\n",
    "    'label_issue': (labels+fake_labels)%2\n",
    "})\n",
    "\n",
    "# Display the DataFrame\n",
    "df.head()\n"
   ]
  },
  {
   "cell_type": "code",
   "execution_count": 27,
   "id": "3bbda6eb-51da-45df-9d7c-554482273969",
   "metadata": {},
   "outputs": [
    {
     "data": {
      "text/plain": [
       "np.int64(592)"
      ]
     },
     "execution_count": 27,
     "metadata": {},
     "output_type": "execute_result"
    }
   ],
   "source": [
    "df.sort_values('confidence_adjusted_scores')[-1000:]['label_issue'].sum()"
   ]
  },
  {
   "cell_type": "code",
   "execution_count": 28,
   "id": "ec60d0c1-4251-491d-bfd6-27af5e781398",
   "metadata": {},
   "outputs": [],
   "source": [
    "# Assuming your DataFrame is named df and has 'predicted_probability' and 'uncertainty_score' columns\n",
    "\n",
    "# Set thresholds\n",
    "uncertainty_threshold = 0.01  # Adjust based on your data\n",
    "high_confidence_threshold = 0.90\n",
    "low_confidence_threshold = 0.1\n",
    "\n",
    "# Identify noisy labels\n",
    "df['high_uncert'] = (df['uncertainty_scores'] > uncertainty_threshold)\n",
    "df['low_conf'] = ((df['probability_scores'] > low_confidence_threshold) & (df['probability_scores'] < high_confidence_threshold))\n",
    "\n",
    "# Filter to see only noisy samples\n",
    "# noisy_labels_df = df[df['is_noisy']]\n",
    "\n",
    "# # Output or examine noisy labels\n",
    "# print(noisy_labels_df)\n"
   ]
  },
  {
   "cell_type": "code",
   "execution_count": 29,
   "id": "24865372-4c40-49b5-891f-ee275ad212df",
   "metadata": {},
   "outputs": [],
   "source": [
    "df_conf = df[~df['low_conf']]"
   ]
  },
  {
   "cell_type": "code",
   "execution_count": 30,
   "id": "a652b910-a4b3-4442-852b-fecedcca10ad",
   "metadata": {},
   "outputs": [
    {
     "data": {
      "text/plain": [
       "2437"
      ]
     },
     "execution_count": 30,
     "metadata": {},
     "output_type": "execute_result"
    }
   ],
   "source": [
    "sum(df['labels'] != df['fake_labels'])"
   ]
  },
  {
   "cell_type": "code",
   "execution_count": 31,
   "id": "fc1670e9-9502-4212-ad36-b1f77306ef23",
   "metadata": {},
   "outputs": [
    {
     "data": {
      "text/html": [
       "<div>\n",
       "<style scoped>\n",
       "    .dataframe tbody tr th:only-of-type {\n",
       "        vertical-align: middle;\n",
       "    }\n",
       "\n",
       "    .dataframe tbody tr th {\n",
       "        vertical-align: top;\n",
       "    }\n",
       "\n",
       "    .dataframe thead th {\n",
       "        text-align: right;\n",
       "    }\n",
       "</style>\n",
       "<table border=\"1\" class=\"dataframe\">\n",
       "  <thead>\n",
       "    <tr style=\"text-align: right;\">\n",
       "      <th></th>\n",
       "      <th>labels</th>\n",
       "      <th>fake_labels</th>\n",
       "      <th>probability_scores</th>\n",
       "      <th>uncertainty_scores</th>\n",
       "      <th>confidence_adjusted_scores</th>\n",
       "      <th>label_issue</th>\n",
       "      <th>high_uncert</th>\n",
       "      <th>low_conf</th>\n",
       "    </tr>\n",
       "  </thead>\n",
       "  <tbody>\n",
       "    <tr>\n",
       "      <th>0</th>\n",
       "      <td>0</td>\n",
       "      <td>0</td>\n",
       "      <td>2.182494e-21</td>\n",
       "      <td>7.163676e-09</td>\n",
       "      <td>7.163676e-09</td>\n",
       "      <td>0</td>\n",
       "      <td>False</td>\n",
       "      <td>False</td>\n",
       "    </tr>\n",
       "    <tr>\n",
       "      <th>1</th>\n",
       "      <td>1</td>\n",
       "      <td>1</td>\n",
       "      <td>9.974081e-01</td>\n",
       "      <td>1.354426e-03</td>\n",
       "      <td>3.510481e-06</td>\n",
       "      <td>0</td>\n",
       "      <td>False</td>\n",
       "      <td>False</td>\n",
       "    </tr>\n",
       "    <tr>\n",
       "      <th>2</th>\n",
       "      <td>0</td>\n",
       "      <td>0</td>\n",
       "      <td>8.851457e-19</td>\n",
       "      <td>5.511817e-12</td>\n",
       "      <td>5.511817e-12</td>\n",
       "      <td>0</td>\n",
       "      <td>False</td>\n",
       "      <td>False</td>\n",
       "    </tr>\n",
       "    <tr>\n",
       "      <th>3</th>\n",
       "      <td>1</td>\n",
       "      <td>1</td>\n",
       "      <td>9.842063e-01</td>\n",
       "      <td>2.117820e-03</td>\n",
       "      <td>3.344818e-05</td>\n",
       "      <td>0</td>\n",
       "      <td>False</td>\n",
       "      <td>False</td>\n",
       "    </tr>\n",
       "    <tr>\n",
       "      <th>4</th>\n",
       "      <td>0</td>\n",
       "      <td>0</td>\n",
       "      <td>1.011282e-09</td>\n",
       "      <td>4.755325e-05</td>\n",
       "      <td>4.755325e-05</td>\n",
       "      <td>0</td>\n",
       "      <td>False</td>\n",
       "      <td>False</td>\n",
       "    </tr>\n",
       "    <tr>\n",
       "      <th>...</th>\n",
       "      <td>...</td>\n",
       "      <td>...</td>\n",
       "      <td>...</td>\n",
       "      <td>...</td>\n",
       "      <td>...</td>\n",
       "      <td>...</td>\n",
       "      <td>...</td>\n",
       "      <td>...</td>\n",
       "    </tr>\n",
       "    <tr>\n",
       "      <th>12183</th>\n",
       "      <td>1</td>\n",
       "      <td>1</td>\n",
       "      <td>9.993153e-01</td>\n",
       "      <td>3.976261e-04</td>\n",
       "      <td>2.722385e-07</td>\n",
       "      <td>0</td>\n",
       "      <td>False</td>\n",
       "      <td>False</td>\n",
       "    </tr>\n",
       "    <tr>\n",
       "      <th>12184</th>\n",
       "      <td>0</td>\n",
       "      <td>0</td>\n",
       "      <td>8.471793e-15</td>\n",
       "      <td>3.068728e-09</td>\n",
       "      <td>3.068728e-09</td>\n",
       "      <td>0</td>\n",
       "      <td>False</td>\n",
       "      <td>False</td>\n",
       "    </tr>\n",
       "    <tr>\n",
       "      <th>12185</th>\n",
       "      <td>1</td>\n",
       "      <td>1</td>\n",
       "      <td>9.999458e-01</td>\n",
       "      <td>7.316794e-05</td>\n",
       "      <td>3.966029e-09</td>\n",
       "      <td>0</td>\n",
       "      <td>False</td>\n",
       "      <td>False</td>\n",
       "    </tr>\n",
       "    <tr>\n",
       "      <th>12186</th>\n",
       "      <td>0</td>\n",
       "      <td>0</td>\n",
       "      <td>2.283311e-20</td>\n",
       "      <td>2.346372e-08</td>\n",
       "      <td>2.346372e-08</td>\n",
       "      <td>0</td>\n",
       "      <td>False</td>\n",
       "      <td>False</td>\n",
       "    </tr>\n",
       "    <tr>\n",
       "      <th>12187</th>\n",
       "      <td>1</td>\n",
       "      <td>0</td>\n",
       "      <td>9.994130e-01</td>\n",
       "      <td>1.246562e-03</td>\n",
       "      <td>7.317092e-07</td>\n",
       "      <td>1</td>\n",
       "      <td>False</td>\n",
       "      <td>False</td>\n",
       "    </tr>\n",
       "  </tbody>\n",
       "</table>\n",
       "<p>11760 rows × 8 columns</p>\n",
       "</div>"
      ],
      "text/plain": [
       "       labels  fake_labels  probability_scores  uncertainty_scores  \\\n",
       "0           0            0        2.182494e-21        7.163676e-09   \n",
       "1           1            1        9.974081e-01        1.354426e-03   \n",
       "2           0            0        8.851457e-19        5.511817e-12   \n",
       "3           1            1        9.842063e-01        2.117820e-03   \n",
       "4           0            0        1.011282e-09        4.755325e-05   \n",
       "...       ...          ...                 ...                 ...   \n",
       "12183       1            1        9.993153e-01        3.976261e-04   \n",
       "12184       0            0        8.471793e-15        3.068728e-09   \n",
       "12185       1            1        9.999458e-01        7.316794e-05   \n",
       "12186       0            0        2.283311e-20        2.346372e-08   \n",
       "12187       1            0        9.994130e-01        1.246562e-03   \n",
       "\n",
       "       confidence_adjusted_scores  label_issue  high_uncert  low_conf  \n",
       "0                    7.163676e-09            0        False     False  \n",
       "1                    3.510481e-06            0        False     False  \n",
       "2                    5.511817e-12            0        False     False  \n",
       "3                    3.344818e-05            0        False     False  \n",
       "4                    4.755325e-05            0        False     False  \n",
       "...                           ...          ...          ...       ...  \n",
       "12183                2.722385e-07            0        False     False  \n",
       "12184                3.068728e-09            0        False     False  \n",
       "12185                3.966029e-09            0        False     False  \n",
       "12186                2.346372e-08            0        False     False  \n",
       "12187                7.317092e-07            1        False     False  \n",
       "\n",
       "[11760 rows x 8 columns]"
      ]
     },
     "execution_count": 31,
     "metadata": {},
     "output_type": "execute_result"
    }
   ],
   "source": [
    "df_conf"
   ]
  },
  {
   "cell_type": "code",
   "execution_count": null,
   "id": "e37426b6-ecea-44a3-81e1-1a25afceb13b",
   "metadata": {},
   "outputs": [],
   "source": []
  },
  {
   "cell_type": "code",
   "execution_count": 32,
   "id": "94a40fa7-5d4b-464d-85e6-c5de4f29da9e",
   "metadata": {},
   "outputs": [],
   "source": [
    "from tml.plotting import tml_plots\n",
    "import os\n",
    "import numpy as np\n",
    "\n",
    "label_type = (labels == fake_labels)"
   ]
  },
  {
   "cell_type": "markdown",
   "id": "1e005aea-50d0-411e-bead-09b082567a1d",
   "metadata": {},
   "source": [
    "### Extra plots and metrics"
   ]
  },
  {
   "cell_type": "code",
   "execution_count": 33,
   "id": "fe832dbe-210a-4a94-ab31-6bab3d4b09d3",
   "metadata": {},
   "outputs": [],
   "source": [
    "df_cert = df[~df['high_uncert']]"
   ]
  },
  {
   "cell_type": "code",
   "execution_count": 34,
   "id": "31758878-9fea-44f8-896c-99ea1197a8e3",
   "metadata": {},
   "outputs": [],
   "source": [
    "df_cert_conf = df_cert[~df_cert['low_conf']]"
   ]
  },
  {
   "cell_type": "code",
   "execution_count": 35,
   "id": "f5f44071-ab0a-4277-b964-704ee7e489fb",
   "metadata": {},
   "outputs": [
    {
     "name": "stdout",
     "output_type": "stream",
     "text": [
      "0.8286376911183645\n",
      "0.823153045555366\n",
      "0.8278061224489796\n"
     ]
    }
   ],
   "source": [
    "print(sum(df_cert_conf['labels']== df_cert_conf['fake_labels']) / df_cert_conf.shape[0])\n",
    "print(sum(df_cert['labels']== df_cert['fake_labels']) / df_cert.shape[0])\n",
    "print(sum(df_conf['labels']== df_conf['fake_labels']) / df_conf.shape[0])"
   ]
  },
  {
   "cell_type": "code",
   "execution_count": null,
   "id": "d7a6074b-5f93-4c19-a6f0-93d262486230",
   "metadata": {},
   "outputs": [],
   "source": []
  },
  {
   "cell_type": "code",
   "execution_count": null,
   "id": "8a41a36b-f759-425c-85b1-77e4b0fc8573",
   "metadata": {},
   "outputs": [],
   "source": []
  },
  {
   "cell_type": "code",
   "execution_count": null,
   "id": "60936eb4-db05-4bed-876a-6ac0db1ac277",
   "metadata": {},
   "outputs": [],
   "source": []
  },
  {
   "cell_type": "code",
   "execution_count": null,
   "id": "25ba8f2b-078e-47ca-a70c-be1448a5f0cc",
   "metadata": {},
   "outputs": [],
   "source": []
  },
  {
   "cell_type": "code",
   "execution_count": 204,
   "id": "b887959c-46d1-481e-ab7c-7040171ba0f7",
   "metadata": {},
   "outputs": [
    {
     "data": {
      "text/plain": [
       "np.float64(0.8000492287495897)"
      ]
     },
     "execution_count": 204,
     "metadata": {},
     "output_type": "execute_result"
    }
   ],
   "source": [
    "sum(labels == fake_labels) / labels.shape[0]"
   ]
  },
  {
   "cell_type": "code",
   "execution_count": 205,
   "id": "47d57983-52f4-4563-b2f2-214dd45a12f4",
   "metadata": {},
   "outputs": [
    {
     "data": {
      "text/plain": [
       "np.float64(0.004999999999999782)"
      ]
     },
     "execution_count": 205,
     "metadata": {},
     "output_type": "execute_result"
    }
   ],
   "source": [
    "out_path = 'results'\n",
    "sample_name = 'mnist_0_1'\n",
    "pscore_cf = 0.1\n",
    "auc_cf = 0.9\n",
    "tpr_cf = 0.95\n",
    "\n",
    "pos_ind = np.where(fake_labels == 1)[0]\n",
    "neg_ind = np.where(fake_labels == 0)[0]\n",
    "\n",
    "final = np.column_stack((pipeline.probability_scores, pipeline.uncertainty_scores))\n",
    "\n",
    "\n",
    "# Plot and calculate thresholds\n",
    "os.makedirs(out_path, exist_ok=True)\n",
    "\n",
    "\n",
    "thr = tml_plots(final,\n",
    "                neg_ind,\n",
    "                pos_ind,\n",
    "                pscore_cf,\n",
    "                auc_cf,\n",
    "                tpr_cf,\n",
    "                f\"{out_path}/{sample_name}\"\n",
    "                )\n",
    "\n",
    "final = np.column_stack((final, np.repeat(\"PASS\", len(pipeline.uncertainty_scores))))\n",
    "final[final[:,1].astype(float) > thr, 2] = \"FAIL_Uncertain\"\n",
    "final[final[:,0].astype(float) <= pscore_cf, 2] = \"FAIL_LowScore\"\n",
    "\n",
    "# final = np.column_stack((final, np.repeat(1, len(pipeline.uncertainty_scores))))\n",
    "# final[final[:,1].astype(float) > thr, 2] = 0 #\"FAIL_Uncertain\"\n",
    "# final[final[:,0].astype(float) <= pscore_cf, 2] = 0 # \"FAIL_LowScore\"\n",
    "\n",
    "final = np.column_stack((label_type, final))\n",
    "# final = np.column_stack((labels, final))\n",
    "final_df = pd.DataFrame(final, columns=['true_label_or_not', 'Probability_Score', 'Uncertainty_Score', 'Result'])\n",
    "# save = np.column_stack((names, final))\n",
    "# header = ['Mutation', 'Type', 'Probability_Score', 'Uncertainty_Score', 'Result']\n",
    "# pd.DataFrame(save.astype(str)).to_csv(f\"{out_path}/{sample_name}_scores.csv\", header=header, index=None)\n",
    "thr"
   ]
  },
  {
   "cell_type": "code",
   "execution_count": 206,
   "id": "3039e22e-5438-4f26-a398-885984f14ce5",
   "metadata": {},
   "outputs": [
    {
     "data": {
      "text/plain": [
       "array([2.60668409e-05, 2.33212975e-07, 5.35430105e-06, ...,\n",
       "       6.75959279e-03, 8.35189763e-08, 0.00000000e+00])"
      ]
     },
     "execution_count": 206,
     "metadata": {},
     "output_type": "execute_result"
    }
   ],
   "source": [
    "confidence_adjusted_score"
   ]
  },
  {
   "cell_type": "code",
   "execution_count": 207,
   "id": "9fe99f8e-131a-41ca-abea-247a5e83cc65",
   "metadata": {},
   "outputs": [
    {
     "data": {
      "text/html": [
       "<div>\n",
       "<style scoped>\n",
       "    .dataframe tbody tr th:only-of-type {\n",
       "        vertical-align: middle;\n",
       "    }\n",
       "\n",
       "    .dataframe tbody tr th {\n",
       "        vertical-align: top;\n",
       "    }\n",
       "\n",
       "    .dataframe thead th {\n",
       "        text-align: right;\n",
       "    }\n",
       "</style>\n",
       "<table border=\"1\" class=\"dataframe\">\n",
       "  <thead>\n",
       "    <tr style=\"text-align: right;\">\n",
       "      <th></th>\n",
       "      <th>labels</th>\n",
       "      <th>fake_labels</th>\n",
       "      <th>probability_scores</th>\n",
       "      <th>uncertainty_scores</th>\n",
       "      <th>confidence_adjusted_scores</th>\n",
       "      <th>label_issue</th>\n",
       "      <th>high_uncert</th>\n",
       "      <th>low_conf</th>\n",
       "    </tr>\n",
       "  </thead>\n",
       "  <tbody>\n",
       "    <tr>\n",
       "      <th>0</th>\n",
       "      <td>0</td>\n",
       "      <td>0</td>\n",
       "      <td>8.262042e-19</td>\n",
       "      <td>1.168010e-15</td>\n",
       "      <td>1.168010e-15</td>\n",
       "      <td>0</td>\n",
       "      <td>False</td>\n",
       "      <td>False</td>\n",
       "    </tr>\n",
       "    <tr>\n",
       "      <th>1</th>\n",
       "      <td>1</td>\n",
       "      <td>1</td>\n",
       "      <td>9.999810e-01</td>\n",
       "      <td>3.770837e-05</td>\n",
       "      <td>7.169825e-10</td>\n",
       "      <td>0</td>\n",
       "      <td>False</td>\n",
       "      <td>False</td>\n",
       "    </tr>\n",
       "    <tr>\n",
       "      <th>2</th>\n",
       "      <td>0</td>\n",
       "      <td>0</td>\n",
       "      <td>6.724625e-21</td>\n",
       "      <td>4.811537e-13</td>\n",
       "      <td>4.811537e-13</td>\n",
       "      <td>0</td>\n",
       "      <td>False</td>\n",
       "      <td>False</td>\n",
       "    </tr>\n",
       "    <tr>\n",
       "      <th>3</th>\n",
       "      <td>1</td>\n",
       "      <td>1</td>\n",
       "      <td>9.999785e-01</td>\n",
       "      <td>5.536017e-05</td>\n",
       "      <td>1.187900e-09</td>\n",
       "      <td>0</td>\n",
       "      <td>False</td>\n",
       "      <td>False</td>\n",
       "    </tr>\n",
       "    <tr>\n",
       "      <th>4</th>\n",
       "      <td>0</td>\n",
       "      <td>0</td>\n",
       "      <td>4.018435e-13</td>\n",
       "      <td>5.082252e-06</td>\n",
       "      <td>5.082252e-06</td>\n",
       "      <td>0</td>\n",
       "      <td>False</td>\n",
       "      <td>False</td>\n",
       "    </tr>\n",
       "    <tr>\n",
       "      <th>...</th>\n",
       "      <td>...</td>\n",
       "      <td>...</td>\n",
       "      <td>...</td>\n",
       "      <td>...</td>\n",
       "      <td>...</td>\n",
       "      <td>...</td>\n",
       "      <td>...</td>\n",
       "      <td>...</td>\n",
       "    </tr>\n",
       "    <tr>\n",
       "      <th>12183</th>\n",
       "      <td>1</td>\n",
       "      <td>1</td>\n",
       "      <td>1.000000e+00</td>\n",
       "      <td>2.752934e-07</td>\n",
       "      <td>0.000000e+00</td>\n",
       "      <td>0</td>\n",
       "      <td>False</td>\n",
       "      <td>False</td>\n",
       "    </tr>\n",
       "    <tr>\n",
       "      <th>12184</th>\n",
       "      <td>0</td>\n",
       "      <td>0</td>\n",
       "      <td>1.201842e-15</td>\n",
       "      <td>1.003143e-10</td>\n",
       "      <td>1.003143e-10</td>\n",
       "      <td>0</td>\n",
       "      <td>False</td>\n",
       "      <td>False</td>\n",
       "    </tr>\n",
       "    <tr>\n",
       "      <th>12185</th>\n",
       "      <td>1</td>\n",
       "      <td>1</td>\n",
       "      <td>1.000000e+00</td>\n",
       "      <td>3.744260e-08</td>\n",
       "      <td>0.000000e+00</td>\n",
       "      <td>0</td>\n",
       "      <td>False</td>\n",
       "      <td>False</td>\n",
       "    </tr>\n",
       "    <tr>\n",
       "      <th>12186</th>\n",
       "      <td>0</td>\n",
       "      <td>0</td>\n",
       "      <td>8.395036e-18</td>\n",
       "      <td>1.080943e-10</td>\n",
       "      <td>1.080943e-10</td>\n",
       "      <td>0</td>\n",
       "      <td>False</td>\n",
       "      <td>False</td>\n",
       "    </tr>\n",
       "    <tr>\n",
       "      <th>12187</th>\n",
       "      <td>1</td>\n",
       "      <td>0</td>\n",
       "      <td>1.000000e+00</td>\n",
       "      <td>2.065092e-08</td>\n",
       "      <td>0.000000e+00</td>\n",
       "      <td>1</td>\n",
       "      <td>False</td>\n",
       "      <td>False</td>\n",
       "    </tr>\n",
       "  </tbody>\n",
       "</table>\n",
       "<p>12188 rows × 8 columns</p>\n",
       "</div>"
      ],
      "text/plain": [
       "       labels  fake_labels  probability_scores  uncertainty_scores  \\\n",
       "0           0            0        8.262042e-19        1.168010e-15   \n",
       "1           1            1        9.999810e-01        3.770837e-05   \n",
       "2           0            0        6.724625e-21        4.811537e-13   \n",
       "3           1            1        9.999785e-01        5.536017e-05   \n",
       "4           0            0        4.018435e-13        5.082252e-06   \n",
       "...       ...          ...                 ...                 ...   \n",
       "12183       1            1        1.000000e+00        2.752934e-07   \n",
       "12184       0            0        1.201842e-15        1.003143e-10   \n",
       "12185       1            1        1.000000e+00        3.744260e-08   \n",
       "12186       0            0        8.395036e-18        1.080943e-10   \n",
       "12187       1            0        1.000000e+00        2.065092e-08   \n",
       "\n",
       "       confidence_adjusted_scores  label_issue  high_uncert  low_conf  \n",
       "0                    1.168010e-15            0        False     False  \n",
       "1                    7.169825e-10            0        False     False  \n",
       "2                    4.811537e-13            0        False     False  \n",
       "3                    1.187900e-09            0        False     False  \n",
       "4                    5.082252e-06            0        False     False  \n",
       "...                           ...          ...          ...       ...  \n",
       "12183                0.000000e+00            0        False     False  \n",
       "12184                1.003143e-10            0        False     False  \n",
       "12185                0.000000e+00            0        False     False  \n",
       "12186                1.080943e-10            0        False     False  \n",
       "12187                0.000000e+00            1        False     False  \n",
       "\n",
       "[12188 rows x 8 columns]"
      ]
     },
     "execution_count": 207,
     "metadata": {},
     "output_type": "execute_result"
    }
   ],
   "source": [
    "df"
   ]
  },
  {
   "cell_type": "code",
   "execution_count": 208,
   "id": "9a9f9c3c-ad03-46e0-840d-4c35aa958b93",
   "metadata": {},
   "outputs": [
    {
     "data": {
      "text/html": [
       "<div>\n",
       "<style scoped>\n",
       "    .dataframe tbody tr th:only-of-type {\n",
       "        vertical-align: middle;\n",
       "    }\n",
       "\n",
       "    .dataframe tbody tr th {\n",
       "        vertical-align: top;\n",
       "    }\n",
       "\n",
       "    .dataframe thead th {\n",
       "        text-align: right;\n",
       "    }\n",
       "</style>\n",
       "<table border=\"1\" class=\"dataframe\">\n",
       "  <thead>\n",
       "    <tr style=\"text-align: right;\">\n",
       "      <th></th>\n",
       "      <th>true_label_or_not</th>\n",
       "      <th>Probability_Score</th>\n",
       "      <th>Uncertainty_Score</th>\n",
       "      <th>Result</th>\n",
       "    </tr>\n",
       "  </thead>\n",
       "  <tbody>\n",
       "    <tr>\n",
       "      <th>0</th>\n",
       "      <td>True</td>\n",
       "      <td>8.262042292374897e-19</td>\n",
       "      <td>1.1680095181153958e-15</td>\n",
       "      <td>FAIL_LowScore</td>\n",
       "    </tr>\n",
       "    <tr>\n",
       "      <th>1</th>\n",
       "      <td>True</td>\n",
       "      <td>0.9999809861183167</td>\n",
       "      <td>3.770837065545152e-05</td>\n",
       "      <td>PASS</td>\n",
       "    </tr>\n",
       "    <tr>\n",
       "      <th>2</th>\n",
       "      <td>True</td>\n",
       "      <td>6.7246253742673595e-21</td>\n",
       "      <td>4.811536911086539e-13</td>\n",
       "      <td>FAIL_LowScore</td>\n",
       "    </tr>\n",
       "    <tr>\n",
       "      <th>3</th>\n",
       "      <td>True</td>\n",
       "      <td>0.9999785423278809</td>\n",
       "      <td>5.5360172893870185e-05</td>\n",
       "      <td>PASS</td>\n",
       "    </tr>\n",
       "    <tr>\n",
       "      <th>4</th>\n",
       "      <td>True</td>\n",
       "      <td>4.0184350020477994e-13</td>\n",
       "      <td>5.08225223993066e-06</td>\n",
       "      <td>FAIL_LowScore</td>\n",
       "    </tr>\n",
       "    <tr>\n",
       "      <th>...</th>\n",
       "      <td>...</td>\n",
       "      <td>...</td>\n",
       "      <td>...</td>\n",
       "      <td>...</td>\n",
       "    </tr>\n",
       "    <tr>\n",
       "      <th>12183</th>\n",
       "      <td>True</td>\n",
       "      <td>1.0</td>\n",
       "      <td>2.7529335078213535e-07</td>\n",
       "      <td>PASS</td>\n",
       "    </tr>\n",
       "    <tr>\n",
       "      <th>12184</th>\n",
       "      <td>True</td>\n",
       "      <td>1.2018421316079818e-15</td>\n",
       "      <td>1.003142874387067e-10</td>\n",
       "      <td>FAIL_LowScore</td>\n",
       "    </tr>\n",
       "    <tr>\n",
       "      <th>12185</th>\n",
       "      <td>True</td>\n",
       "      <td>1.0</td>\n",
       "      <td>3.7442597466963434e-08</td>\n",
       "      <td>PASS</td>\n",
       "    </tr>\n",
       "    <tr>\n",
       "      <th>12186</th>\n",
       "      <td>True</td>\n",
       "      <td>8.395036184475677e-18</td>\n",
       "      <td>1.0809431825216435e-10</td>\n",
       "      <td>FAIL_LowScore</td>\n",
       "    </tr>\n",
       "    <tr>\n",
       "      <th>12187</th>\n",
       "      <td>False</td>\n",
       "      <td>1.0</td>\n",
       "      <td>2.0650920477122137e-08</td>\n",
       "      <td>PASS</td>\n",
       "    </tr>\n",
       "  </tbody>\n",
       "</table>\n",
       "<p>12188 rows × 4 columns</p>\n",
       "</div>"
      ],
      "text/plain": [
       "      true_label_or_not       Probability_Score       Uncertainty_Score  \\\n",
       "0                  True   8.262042292374897e-19  1.1680095181153958e-15   \n",
       "1                  True      0.9999809861183167   3.770837065545152e-05   \n",
       "2                  True  6.7246253742673595e-21   4.811536911086539e-13   \n",
       "3                  True      0.9999785423278809  5.5360172893870185e-05   \n",
       "4                  True  4.0184350020477994e-13    5.08225223993066e-06   \n",
       "...                 ...                     ...                     ...   \n",
       "12183              True                     1.0  2.7529335078213535e-07   \n",
       "12184              True  1.2018421316079818e-15   1.003142874387067e-10   \n",
       "12185              True                     1.0  3.7442597466963434e-08   \n",
       "12186              True   8.395036184475677e-18  1.0809431825216435e-10   \n",
       "12187             False                     1.0  2.0650920477122137e-08   \n",
       "\n",
       "              Result  \n",
       "0      FAIL_LowScore  \n",
       "1               PASS  \n",
       "2      FAIL_LowScore  \n",
       "3               PASS  \n",
       "4      FAIL_LowScore  \n",
       "...              ...  \n",
       "12183           PASS  \n",
       "12184  FAIL_LowScore  \n",
       "12185           PASS  \n",
       "12186  FAIL_LowScore  \n",
       "12187           PASS  \n",
       "\n",
       "[12188 rows x 4 columns]"
      ]
     },
     "execution_count": 208,
     "metadata": {},
     "output_type": "execute_result"
    }
   ],
   "source": [
    "# print(final_df['Result'].sum())\n",
    "# print(final_df['true_label_or_not'].sum())\n",
    "final_df"
   ]
  },
  {
   "cell_type": "code",
   "execution_count": null,
   "id": "cdd0e318-706e-4318-91d7-950b17bc385e",
   "metadata": {},
   "outputs": [],
   "source": []
  },
  {
   "cell_type": "code",
   "execution_count": 209,
   "id": "2c8b0c46-ee3b-46c2-ba6e-4384220c1ee5",
   "metadata": {},
   "outputs": [
    {
     "data": {
      "image/png": "[encoded data removed]",
      "text/plain": [
       "<Figure size 1000x800 with 2 Axes>"
      ]
     },
     "metadata": {},
     "output_type": "display_data"
    }
   ],
   "source": [
    "from sklearn.metrics import confusion_matrix\n",
    "import matplotlib.pyplot as plt\n",
    "import seaborn as sns\n",
    "\n",
    "# Create the confusion matrix\n",
    "# cm = confusion_matrix(labels, fake_labels)\n",
    "cm = confusion_matrix(final_df['true_label_or_not'], final_df['Result'])\n",
    "\n",
    "# # Get unique labels (sorted to ensure consistent order)\n",
    "# labels = sorted(set(df['torch_Result'].unique()) | set(df['tf_Result'].unique()))\n",
    "\n",
    "# Create a DataFrame for better labeling\n",
    "cm_df = pd.DataFrame(cm)\n",
    "\n",
    "# Create the heatmap\n",
    "plt.figure(figsize=(10, 8))\n",
    "sns.heatmap(cm_df, annot=True, fmt='d', cmap='Blues')\n",
    "\n",
    "plt.title('Confusion Matrix: true_label_or_not vs Result')\n",
    "plt.ylabel('true_label_or_not')\n",
    "plt.xlabel('Result')\n",
    "\n",
    "plt.tight_layout()\n",
    "plt.show()"
   ]
  },
  {
   "cell_type": "code",
   "execution_count": null,
   "id": "195e892c-b1dc-43a2-979e-2ddad45776d7",
   "metadata": {},
   "outputs": [],
   "source": [
    "\n"
   ]
  },
  {
   "cell_type": "code",
   "execution_count": 50,
   "id": "489f75c8-5b95-423a-9a4f-caae55bf8050",
   "metadata": {},
   "outputs": [
    {
     "data": {
      "text/html": [
       "<div>\n",
       "<style scoped>\n",
       "    .dataframe tbody tr th:only-of-type {\n",
       "        vertical-align: middle;\n",
       "    }\n",
       "\n",
       "    .dataframe tbody tr th {\n",
       "        vertical-align: top;\n",
       "    }\n",
       "\n",
       "    .dataframe thead th {\n",
       "        text-align: right;\n",
       "    }\n",
       "</style>\n",
       "<table border=\"1\" class=\"dataframe\">\n",
       "  <thead>\n",
       "    <tr style=\"text-align: right;\">\n",
       "      <th></th>\n",
       "      <th>0</th>\n",
       "      <th>1</th>\n",
       "      <th>2</th>\n",
       "    </tr>\n",
       "  </thead>\n",
       "  <tbody>\n",
       "    <tr>\n",
       "      <th>0</th>\n",
       "      <td>8.387348701006659e-06</td>\n",
       "      <td>1.2232086308250843e-08</td>\n",
       "      <td>FAIL_LowScore</td>\n",
       "    </tr>\n",
       "    <tr>\n",
       "      <th>1</th>\n",
       "      <td>0.9999599242210389</td>\n",
       "      <td>1.1726959658499032e-07</td>\n",
       "      <td>PASS</td>\n",
       "    </tr>\n",
       "    <tr>\n",
       "      <th>2</th>\n",
       "      <td>9.877120785084515e-07</td>\n",
       "      <td>2.610262283011096e-10</td>\n",
       "      <td>FAIL_LowScore</td>\n",
       "    </tr>\n",
       "    <tr>\n",
       "      <th>3</th>\n",
       "      <td>0.8914120054244995</td>\n",
       "      <td>0.002638387476331445</td>\n",
       "      <td>PASS</td>\n",
       "    </tr>\n",
       "    <tr>\n",
       "      <th>4</th>\n",
       "      <td>1.1175813570218906e-06</td>\n",
       "      <td>7.853789958439314e-10</td>\n",
       "      <td>FAIL_LowScore</td>\n",
       "    </tr>\n",
       "    <tr>\n",
       "      <th>...</th>\n",
       "      <td>...</td>\n",
       "      <td>...</td>\n",
       "      <td>...</td>\n",
       "    </tr>\n",
       "    <tr>\n",
       "      <th>12183</th>\n",
       "      <td>0.9999658107757569</td>\n",
       "      <td>2.949663296718946e-07</td>\n",
       "      <td>PASS</td>\n",
       "    </tr>\n",
       "    <tr>\n",
       "      <th>12184</th>\n",
       "      <td>1.1274932241889245e-05</td>\n",
       "      <td>1.4232550551286725e-08</td>\n",
       "      <td>FAIL_LowScore</td>\n",
       "    </tr>\n",
       "    <tr>\n",
       "      <th>12185</th>\n",
       "      <td>0.9983529376983643</td>\n",
       "      <td>8.375123980105315e-05</td>\n",
       "      <td>PASS</td>\n",
       "    </tr>\n",
       "    <tr>\n",
       "      <th>12186</th>\n",
       "      <td>3.445205039795951e-06</td>\n",
       "      <td>1.3616517492449215e-09</td>\n",
       "      <td>FAIL_LowScore</td>\n",
       "    </tr>\n",
       "    <tr>\n",
       "      <th>12187</th>\n",
       "      <td>0.9989686870574951</td>\n",
       "      <td>1.0074134898061526e-05</td>\n",
       "      <td>PASS</td>\n",
       "    </tr>\n",
       "  </tbody>\n",
       "</table>\n",
       "<p>12188 rows × 3 columns</p>\n",
       "</div>"
      ],
      "text/plain": [
       "                            0                       1              2\n",
       "0       8.387348701006659e-06  1.2232086308250843e-08  FAIL_LowScore\n",
       "1          0.9999599242210389  1.1726959658499032e-07           PASS\n",
       "2       9.877120785084515e-07   2.610262283011096e-10  FAIL_LowScore\n",
       "3          0.8914120054244995    0.002638387476331445           PASS\n",
       "4      1.1175813570218906e-06   7.853789958439314e-10  FAIL_LowScore\n",
       "...                       ...                     ...            ...\n",
       "12183      0.9999658107757569   2.949663296718946e-07           PASS\n",
       "12184  1.1274932241889245e-05  1.4232550551286725e-08  FAIL_LowScore\n",
       "12185      0.9983529376983643   8.375123980105315e-05           PASS\n",
       "12186   3.445205039795951e-06  1.3616517492449215e-09  FAIL_LowScore\n",
       "12187      0.9989686870574951  1.0074134898061526e-05           PASS\n",
       "\n",
       "[12188 rows x 3 columns]"
      ]
     },
     "execution_count": 50,
     "metadata": {},
     "output_type": "execute_result"
    }
   ],
   "source": [
    "pd.DataFrame(final)"
   ]
  },
  {
   "cell_type": "code",
   "execution_count": null,
   "id": "500d95d3-bcb2-465f-aa0a-84c4476e13df",
   "metadata": {},
   "outputs": [],
   "source": []
  }
 ],
 "metadata": {
  "kernelspec": {
   "display_name": "Python [conda env:tml]",
   "language": "python",
   "name": "conda-env-tml-py"
  },
  "language_info": {
   "codemirror_mode": {
    "name": "ipython",
    "version": 3
   },
   "file_extension": ".py",
   "mimetype": "text/x-python",
   "name": "python",
   "nbconvert_exporter": "python",
   "pygments_lexer": "ipython3",
   "version": "3.11.6"
  }
 },
 "nbformat": 4,
 "nbformat_minor": 5
}
