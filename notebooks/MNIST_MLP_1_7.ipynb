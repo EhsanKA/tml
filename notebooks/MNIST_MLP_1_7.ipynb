{
 "cells": [
  {
   "cell_type": "markdown",
   "id": "9dfdbeaa-7d81-4913-a6e5-6520bb5272ff",
   "metadata": {},
   "source": [
    "# Example\n",
    "#### Model: MLP\n",
    "#### Data: MNIST (1,7) classes\n",
    "#### 10% switch labels rate"
   ]
  },
  {
   "cell_type": "code",
   "execution_count": 2,
   "id": "05c82464-7cf5-4198-9d71-f135b9f4b577",
   "metadata": {},
   "outputs": [
    {
     "name": "stdout",
     "output_type": "stream",
     "text": [
      "The autoreload extension is already loaded. To reload it, use:\n",
      "  %reload_ext autoreload\n"
     ]
    }
   ],
   "source": [
    "%load_ext autoreload\n",
    "%autoreload 2"
   ]
  },
  {
   "cell_type": "code",
   "execution_count": 3,
   "id": "2b5d7ccb-da23-4474-9826-783969af3679",
   "metadata": {},
   "outputs": [],
   "source": [
    "import torch\n",
    "from torch import nn\n",
    "from torch.utils.data import DataLoader, Subset\n",
    "from torchvision import datasets, transforms\n",
    "import pytorch_lightning as pl\n",
    "\n",
    "class BinaryMNISTClassifier(pl.LightningModule):\n",
    "    def __init__(self, input_size=28*28, hidden_size=128, output_size=1, learning_rate=1e-3, dropout_rate=0.4):\n",
    "        super(BinaryMNISTClassifier, self).__init__()\n",
    "        self.learning_rate = learning_rate\n",
    "        self.model = nn.Sequential(\n",
    "            nn.Flatten(),\n",
    "            nn.Linear(input_size, hidden_size),\n",
    "            nn.ReLU(),\n",
    "            nn.Dropout(dropout_rate),\n",
    "            nn.Linear(hidden_size, output_size),\n",
    "            nn.Sigmoid()\n",
    "        )\n",
    "        self.loss_fn = nn.BCELoss()\n",
    "        \n",
    "    def forward(self, x):\n",
    "        return self.model(x)\n",
    "\n",
    "    def training_step(self, batch, batch_idx):\n",
    "        x, y = batch\n",
    "        y = y.float().unsqueeze(1)  # Adjust shape for BCELoss\n",
    "        logits = self(x)\n",
    "        loss = self.loss_fn(logits, y)\n",
    "        self.log(\"train_loss\", loss, on_step=False, on_epoch=True, prog_bar=True)\n",
    "        return loss\n",
    "\n",
    "    def test_step(self, batch, batch_idx):\n",
    "        x, y = batch\n",
    "        y = y.float().unsqueeze(1)\n",
    "        logits = self(x)\n",
    "        loss = self.loss_fn(logits, y)\n",
    "        \n",
    "        # Calculate accuracy\n",
    "        preds = (logits > 0.5).float()\n",
    "        accuracy = (preds == y).float().mean()\n",
    "        \n",
    "        self.log(\"test_loss\", loss, on_step=False, on_epoch=True, prog_bar=True)\n",
    "        self.log(\"test_accuracy\", accuracy, on_step=False, on_epoch=True)\n",
    "        return {\"test_loss\": loss, \"test_accuracy\": accuracy}\n",
    "\n",
    "    def configure_optimizers(self):\n",
    "        return torch.optim.Adam(self.parameters(), lr=self.learning_rate)\n"
   ]
  },
  {
   "cell_type": "code",
   "execution_count": null,
   "id": "2b97ddc6-4d21-4788-8c07-81aecbe4b825",
   "metadata": {},
   "outputs": [],
   "source": []
  },
  {
   "cell_type": "code",
   "execution_count": 4,
   "id": "e02b4e53-35c5-4088-ad42-2a4885f4ec50",
   "metadata": {},
   "outputs": [],
   "source": [
    "def create_binary_subset(dataset, label1, label2):\n",
    "    # Filter for the two specified labels\n",
    "    idx = (dataset.targets == label1) | (dataset.targets == label2)\n",
    "    binary_subset = Subset(dataset, torch.where(idx)[0])\n",
    "    \n",
    "    # Map label1 to 0 and label2 to 1\n",
    "    mapped_targets = torch.tensor([0 if label == label1 else 1 for label in dataset.targets[idx]])\n",
    "    \n",
    "    # Update dataset targets to reflect the binary mapping\n",
    "    for i, original_idx in enumerate(torch.where(idx)[0]):\n",
    "        binary_subset.dataset.targets[original_idx] = mapped_targets[i]\n",
    "    \n",
    "    return binary_subset\n",
    "\n"
   ]
  },
  {
   "cell_type": "code",
   "execution_count": 6,
   "id": "d44ccc02-c8e8-46d6-ad3b-82dc3189be8f",
   "metadata": {},
   "outputs": [],
   "source": [
    "import torch\n",
    "import random\n",
    "\n",
    "random.seed(42)\n",
    "\n",
    "label1, label2 = 1, 7  # Choose any two labels here\n",
    "transform = transforms.Compose([transforms.ToTensor()])\n",
    "mnist_train = datasets.MNIST(root=\"../data/\", train=True, transform=transform, download=True)\n",
    "\n",
    "binary_mnist_train = create_binary_subset(mnist_train, label1, label2)\n",
    "\n",
    "# Step 1: Retrieve data and labels\n",
    "data = []\n",
    "labels = []\n",
    "for img, label in binary_mnist_train:\n",
    "    data.append(img)\n",
    "    labels.append(label)\n",
    "\n",
    "# Convert data and labels to tensors\n",
    "data = torch.stack(data)  # shape: [num_samples, channels, height, width]\n",
    "labels = torch.tensor(labels, dtype=torch.long)\n",
    "\n",
    "# Step 2: Generate fake labels by switching 5% of them\n",
    "fake_labels = labels.clone()  # Copy true labels\n",
    "num_samples = len(labels)\n",
    "num_switch = int(0.1 * num_samples)  # 5% of labels to switch\n",
    "indices_to_switch = random.sample(range(num_samples), num_switch)\n",
    "\n",
    "# for idx in indices_to_switch:\n",
    "#     fake_labels[idx] = label2 if fake_labels[idx] == label1 else label1\n",
    "for idx in indices_to_switch:\n",
    "    fake_labels[idx] = (fake_labels[idx] +1)%2\n",
    "    \n",
    "# Convert data and fake labels to tensors\n",
    "data = data.float()  # Convert data to float32 tensor if needed\n",
    "fake_labels = fake_labels.long()  # Convert fake_labels to long tensor\n"
   ]
  },
  {
   "cell_type": "code",
   "execution_count": 7,
   "id": "9586bdcf-e1ba-4568-8c71-27637bc1a6b2",
   "metadata": {},
   "outputs": [],
   "source": [
    "from tml.pipeline import Pipeline, ModelHandler\n",
    "from tml.analysis import BinaryClassificationAnalysis\n"
   ]
  },
  {
   "cell_type": "code",
   "execution_count": 9,
   "id": "e4ba37b7-f51c-445d-bdcd-37c4ed89c13f",
   "metadata": {},
   "outputs": [],
   "source": [
    "model_instance = BinaryMNISTClassifier()\n",
    "\n",
    "# Initialize the pipeline\n",
    "model_handler = ModelHandler(model_instance=model_instance)\n",
    "pipeline = Pipeline(model_handler, data=data, hard_targets=fake_labels, max_epochs=10, drop_iterations=100)\n",
    "pipeline.run(n_steps=25)"
   ]
  },
  {
   "cell_type": "code",
   "execution_count": null,
   "id": "8e02ffe0-1243-4e6a-aba5-2941dc0f930a",
   "metadata": {
    "scrolled": true
   },
   "outputs": [
    {
     "name": "stderr",
     "output_type": "stream",
     "text": [
      "GPU available: True (cuda), used: True\n",
      "TPU available: False, using: 0 TPU cores\n",
      "HPU available: False, using: 0 HPUs\n"
     ]
    },
    {
     "name": "stdout",
     "output_type": "stream",
     "text": [
      "Seed: 42\n",
      "Level 1 init: subset 43\n",
      "Level 1 training: subset 43\n"
     ]
    },
    {
     "name": "stderr",
     "output_type": "stream",
     "text": [
      "You are using a CUDA device ('NVIDIA A40') that has Tensor Cores. To properly utilize them, you should set `torch.set_float32_matmul_precision('medium' | 'high')` which will trade-off precision for performance. For more details, read https://pytorch.org/docs/stable/generated/torch.set_float32_matmul_precision.html#torch.set_float32_matmul_precision\n",
      "LOCAL_RANK: 0 - CUDA_VISIBLE_DEVICES: [0]\n",
      "\n",
      "  | Name    | Type       | Params | Mode \n",
      "-----------------------------------------------\n",
      "0 | model   | Sequential | 100 K  | train\n",
      "1 | loss_fn | BCELoss    | 0      | train\n",
      "-----------------------------------------------\n",
      "100 K     Trainable params\n",
      "0         Non-trainable params\n",
      "100 K     Total params\n",
      "0.402     Total estimated model params size (MB)\n",
      "8         Modules in train mode\n",
      "0         Modules in eval mode\n"
     ]
    },
    {
     "name": "stdout",
     "output_type": "stream",
     "text": [
      "Epoch 9: 100%|██████████| 199/199 [00:00<00:00, 230.59it/s, v_num=10, train_loss=0.327]"
     ]
    },
    {
     "name": "stderr",
     "output_type": "stream",
     "text": [
      "`Trainer.fit` stopped: `max_epochs=10` reached.\n"
     ]
    },
    {
     "name": "stdout",
     "output_type": "stream",
     "text": [
      "Epoch 9: 100%|██████████| 199/199 [00:00<00:00, 230.04it/s, v_num=10, train_loss=0.327]\n",
      "Level 1 predict: subset 43\n",
      "Pruning: subset 43\n"
     ]
    },
    {
     "name": "stderr",
     "output_type": "stream",
     "text": [
      "GPU available: True (cuda), used: True\n",
      "TPU available: False, using: 0 TPU cores\n",
      "HPU available: False, using: 0 HPUs\n",
      "LOCAL_RANK: 0 - CUDA_VISIBLE_DEVICES: [0]\n",
      "\n",
      "  | Name    | Type       | Params | Mode \n",
      "-----------------------------------------------\n",
      "0 | model   | Sequential | 100 K  | train\n",
      "1 | loss_fn | BCELoss    | 0      | train\n",
      "-----------------------------------------------\n",
      "100 K     Trainable params\n",
      "0         Non-trainable params\n",
      "100 K     Total params\n",
      "0.402     Total estimated model params size (MB)\n",
      "8         Modules in train mode\n",
      "0         Modules in eval mode\n"
     ]
    },
    {
     "name": "stdout",
     "output_type": "stream",
     "text": [
      "Level 2 init: subset 43\n",
      "Level 2 training: subset 43\n",
      "Epoch 9: 100%|██████████| 178/178 [00:00<00:00, 234.14it/s, v_num=10, train_loss=0.0117]"
     ]
    },
    {
     "name": "stderr",
     "output_type": "stream",
     "text": [
      "`Trainer.fit` stopped: `max_epochs=10` reached.\n"
     ]
    },
    {
     "name": "stdout",
     "output_type": "stream",
     "text": [
      "Epoch 9: 100%|██████████| 178/178 [00:00<00:00, 233.56it/s, v_num=10, train_loss=0.0117]\n",
      "Level 2 predict: subset 43\n",
      "Level 2 prediction with dropout: subset 43\n"
     ]
    },
    {
     "name": "stderr",
     "output_type": "stream",
     "text": [
      "GPU available: True (cuda), used: True\n",
      "TPU available: False, using: 0 TPU cores\n",
      "HPU available: False, using: 0 HPUs\n",
      "LOCAL_RANK: 0 - CUDA_VISIBLE_DEVICES: [0]\n",
      "\n",
      "  | Name    | Type       | Params | Mode \n",
      "-----------------------------------------------\n",
      "0 | model   | Sequential | 100 K  | train\n",
      "1 | loss_fn | BCELoss    | 0      | train\n",
      "-----------------------------------------------\n",
      "100 K     Trainable params\n",
      "0         Non-trainable params\n",
      "100 K     Total params\n",
      "0.402     Total estimated model params size (MB)\n",
      "8         Modules in train mode\n",
      "0         Modules in eval mode\n"
     ]
    },
    {
     "name": "stdout",
     "output_type": "stream",
     "text": [
      "Seed: 43\n",
      "Level 1 init: subset 44\n",
      "Level 1 training: subset 44\n",
      "Epoch 9: 100%|██████████| 199/199 [00:00<00:00, 233.70it/s, v_num=10, train_loss=0.326]"
     ]
    },
    {
     "name": "stderr",
     "output_type": "stream",
     "text": [
      "`Trainer.fit` stopped: `max_epochs=10` reached.\n"
     ]
    },
    {
     "name": "stdout",
     "output_type": "stream",
     "text": [
      "Epoch 9: 100%|██████████| 199/199 [00:00<00:00, 233.08it/s, v_num=10, train_loss=0.326]\n",
      "Level 1 predict: subset 44\n",
      "Pruning: subset 44\n"
     ]
    },
    {
     "name": "stderr",
     "output_type": "stream",
     "text": [
      "GPU available: True (cuda), used: True\n",
      "TPU available: False, using: 0 TPU cores\n",
      "HPU available: False, using: 0 HPUs\n",
      "LOCAL_RANK: 0 - CUDA_VISIBLE_DEVICES: [0]\n",
      "\n",
      "  | Name    | Type       | Params | Mode \n",
      "-----------------------------------------------\n",
      "0 | model   | Sequential | 100 K  | train\n",
      "1 | loss_fn | BCELoss    | 0      | train\n",
      "-----------------------------------------------\n",
      "100 K     Trainable params\n",
      "0         Non-trainable params\n",
      "100 K     Total params\n",
      "0.402     Total estimated model params size (MB)\n",
      "8         Modules in train mode\n",
      "0         Modules in eval mode\n"
     ]
    },
    {
     "name": "stdout",
     "output_type": "stream",
     "text": [
      "Level 2 init: subset 44\n",
      "Level 2 training: subset 44\n",
      "Epoch 9: 100%|██████████| 178/178 [00:00<00:00, 229.15it/s, v_num=10, train_loss=0.00911]"
     ]
    },
    {
     "name": "stderr",
     "output_type": "stream",
     "text": [
      "`Trainer.fit` stopped: `max_epochs=10` reached.\n"
     ]
    },
    {
     "name": "stdout",
     "output_type": "stream",
     "text": [
      "Epoch 9: 100%|██████████| 178/178 [00:00<00:00, 228.55it/s, v_num=10, train_loss=0.00911]\n",
      "Level 2 predict: subset 44\n",
      "Level 2 prediction with dropout: subset 44\n"
     ]
    },
    {
     "name": "stderr",
     "output_type": "stream",
     "text": [
      "GPU available: True (cuda), used: True\n",
      "TPU available: False, using: 0 TPU cores\n",
      "HPU available: False, using: 0 HPUs\n",
      "LOCAL_RANK: 0 - CUDA_VISIBLE_DEVICES: [0]\n",
      "\n",
      "  | Name    | Type       | Params | Mode \n",
      "-----------------------------------------------\n",
      "0 | model   | Sequential | 100 K  | train\n",
      "1 | loss_fn | BCELoss    | 0      | train\n",
      "-----------------------------------------------\n",
      "100 K     Trainable params\n",
      "0         Non-trainable params\n",
      "100 K     Total params\n",
      "0.402     Total estimated model params size (MB)\n",
      "8         Modules in train mode\n",
      "0         Modules in eval mode\n"
     ]
    },
    {
     "name": "stdout",
     "output_type": "stream",
     "text": [
      "Seed: 44\n",
      "Level 1 init: subset 45\n",
      "Level 1 training: subset 45\n",
      "Epoch 9: 100%|██████████| 199/199 [00:00<00:00, 230.46it/s, v_num=10, train_loss=0.325]"
     ]
    },
    {
     "name": "stderr",
     "output_type": "stream",
     "text": [
      "`Trainer.fit` stopped: `max_epochs=10` reached.\n"
     ]
    },
    {
     "name": "stdout",
     "output_type": "stream",
     "text": [
      "Epoch 9: 100%|██████████| 199/199 [00:00<00:00, 229.95it/s, v_num=10, train_loss=0.325]\n",
      "Level 1 predict: subset 45\n",
      "Pruning: subset 45\n"
     ]
    },
    {
     "name": "stderr",
     "output_type": "stream",
     "text": [
      "GPU available: True (cuda), used: True\n",
      "TPU available: False, using: 0 TPU cores\n",
      "HPU available: False, using: 0 HPUs\n",
      "LOCAL_RANK: 0 - CUDA_VISIBLE_DEVICES: [0]\n",
      "\n",
      "  | Name    | Type       | Params | Mode \n",
      "-----------------------------------------------\n",
      "0 | model   | Sequential | 100 K  | train\n",
      "1 | loss_fn | BCELoss    | 0      | train\n",
      "-----------------------------------------------\n",
      "100 K     Trainable params\n",
      "0         Non-trainable params\n",
      "100 K     Total params\n",
      "0.402     Total estimated model params size (MB)\n",
      "8         Modules in train mode\n",
      "0         Modules in eval mode\n"
     ]
    },
    {
     "name": "stdout",
     "output_type": "stream",
     "text": [
      "Level 2 init: subset 45\n",
      "Level 2 training: subset 45\n",
      "Epoch 9: 100%|██████████| 178/178 [00:00<00:00, 233.87it/s, v_num=10, train_loss=0.0117]"
     ]
    },
    {
     "name": "stderr",
     "output_type": "stream",
     "text": [
      "`Trainer.fit` stopped: `max_epochs=10` reached.\n"
     ]
    },
    {
     "name": "stdout",
     "output_type": "stream",
     "text": [
      "Epoch 9: 100%|██████████| 178/178 [00:00<00:00, 233.29it/s, v_num=10, train_loss=0.0117]\n",
      "Level 2 predict: subset 45\n",
      "Level 2 prediction with dropout: subset 45\n"
     ]
    },
    {
     "name": "stderr",
     "output_type": "stream",
     "text": [
      "GPU available: True (cuda), used: True\n",
      "TPU available: False, using: 0 TPU cores\n",
      "HPU available: False, using: 0 HPUs\n",
      "LOCAL_RANK: 0 - CUDA_VISIBLE_DEVICES: [0]\n"
     ]
    },
    {
     "name": "stdout",
     "output_type": "stream",
     "text": [
      "Seed: 45\n",
      "Level 1 init: subset 46\n",
      "Level 1 training: subset 46\n"
     ]
    },
    {
     "name": "stderr",
     "output_type": "stream",
     "text": [
      "\n",
      "  | Name    | Type       | Params | Mode \n",
      "-----------------------------------------------\n",
      "0 | model   | Sequential | 100 K  | train\n",
      "1 | loss_fn | BCELoss    | 0      | train\n",
      "-----------------------------------------------\n",
      "100 K     Trainable params\n",
      "0         Non-trainable params\n",
      "100 K     Total params\n",
      "0.402     Total estimated model params size (MB)\n",
      "8         Modules in train mode\n",
      "0         Modules in eval mode\n"
     ]
    },
    {
     "name": "stdout",
     "output_type": "stream",
     "text": [
      "Epoch 9: 100%|██████████| 199/199 [00:00<00:00, 230.31it/s, v_num=10, train_loss=0.327]"
     ]
    },
    {
     "name": "stderr",
     "output_type": "stream",
     "text": [
      "`Trainer.fit` stopped: `max_epochs=10` reached.\n"
     ]
    },
    {
     "name": "stdout",
     "output_type": "stream",
     "text": [
      "Epoch 9: 100%|██████████| 199/199 [00:00<00:00, 229.81it/s, v_num=10, train_loss=0.327]\n",
      "Level 1 predict: subset 46\n",
      "Pruning: subset 46\n"
     ]
    },
    {
     "name": "stderr",
     "output_type": "stream",
     "text": [
      "GPU available: True (cuda), used: True\n",
      "TPU available: False, using: 0 TPU cores\n",
      "HPU available: False, using: 0 HPUs\n",
      "LOCAL_RANK: 0 - CUDA_VISIBLE_DEVICES: [0]\n",
      "\n",
      "  | Name    | Type       | Params | Mode \n",
      "-----------------------------------------------\n",
      "0 | model   | Sequential | 100 K  | train\n",
      "1 | loss_fn | BCELoss    | 0      | train\n",
      "-----------------------------------------------\n",
      "100 K     Trainable params\n",
      "0         Non-trainable params\n",
      "100 K     Total params\n",
      "0.402     Total estimated model params size (MB)\n",
      "8         Modules in train mode\n",
      "0         Modules in eval mode\n"
     ]
    },
    {
     "name": "stdout",
     "output_type": "stream",
     "text": [
      "Level 2 init: subset 46\n",
      "Level 2 training: subset 46\n",
      "Epoch 9: 100%|██████████| 178/178 [00:00<00:00, 234.28it/s, v_num=10, train_loss=0.0114]"
     ]
    },
    {
     "name": "stderr",
     "output_type": "stream",
     "text": [
      "`Trainer.fit` stopped: `max_epochs=10` reached.\n"
     ]
    },
    {
     "name": "stdout",
     "output_type": "stream",
     "text": [
      "Epoch 9: 100%|██████████| 178/178 [00:00<00:00, 233.57it/s, v_num=10, train_loss=0.0114]\n",
      "Level 2 predict: subset 46\n",
      "Level 2 prediction with dropout: subset 46\n"
     ]
    },
    {
     "name": "stderr",
     "output_type": "stream",
     "text": [
      "GPU available: True (cuda), used: True\n",
      "TPU available: False, using: 0 TPU cores\n",
      "HPU available: False, using: 0 HPUs\n",
      "LOCAL_RANK: 0 - CUDA_VISIBLE_DEVICES: [0]\n",
      "\n",
      "  | Name    | Type       | Params | Mode \n",
      "-----------------------------------------------\n",
      "0 | model   | Sequential | 100 K  | train\n",
      "1 | loss_fn | BCELoss    | 0      | train\n",
      "-----------------------------------------------\n",
      "100 K     Trainable params\n",
      "0         Non-trainable params\n",
      "100 K     Total params\n",
      "0.402     Total estimated model params size (MB)\n",
      "8         Modules in train mode\n",
      "0         Modules in eval mode\n"
     ]
    },
    {
     "name": "stdout",
     "output_type": "stream",
     "text": [
      "Seed: 46\n",
      "Level 1 init: subset 47\n",
      "Level 1 training: subset 47\n",
      "Epoch 9: 100%|██████████| 199/199 [00:00<00:00, 234.28it/s, v_num=10, train_loss=0.325]"
     ]
    },
    {
     "name": "stderr",
     "output_type": "stream",
     "text": [
      "`Trainer.fit` stopped: `max_epochs=10` reached.\n"
     ]
    },
    {
     "name": "stdout",
     "output_type": "stream",
     "text": [
      "Epoch 9: 100%|██████████| 199/199 [00:00<00:00, 233.73it/s, v_num=10, train_loss=0.325]\n",
      "Level 1 predict: subset 47\n",
      "Pruning: subset 47\n"
     ]
    },
    {
     "name": "stderr",
     "output_type": "stream",
     "text": [
      "GPU available: True (cuda), used: True\n",
      "TPU available: False, using: 0 TPU cores\n",
      "HPU available: False, using: 0 HPUs\n",
      "LOCAL_RANK: 0 - CUDA_VISIBLE_DEVICES: [0]\n",
      "\n",
      "  | Name    | Type       | Params | Mode \n",
      "-----------------------------------------------\n",
      "0 | model   | Sequential | 100 K  | train\n",
      "1 | loss_fn | BCELoss    | 0      | train\n",
      "-----------------------------------------------\n",
      "100 K     Trainable params\n",
      "0         Non-trainable params\n",
      "100 K     Total params\n",
      "0.402     Total estimated model params size (MB)\n",
      "8         Modules in train mode\n",
      "0         Modules in eval mode\n"
     ]
    },
    {
     "name": "stdout",
     "output_type": "stream",
     "text": [
      "Level 2 init: subset 47\n",
      "Level 2 training: subset 47\n",
      "Epoch 9: 100%|██████████| 177/177 [00:00<00:00, 233.79it/s, v_num=10, train_loss=0.0106]"
     ]
    },
    {
     "name": "stderr",
     "output_type": "stream",
     "text": [
      "`Trainer.fit` stopped: `max_epochs=10` reached.\n"
     ]
    },
    {
     "name": "stdout",
     "output_type": "stream",
     "text": [
      "Epoch 9: 100%|██████████| 177/177 [00:00<00:00, 233.21it/s, v_num=10, train_loss=0.0106]\n",
      "Level 2 predict: subset 47\n",
      "Level 2 prediction with dropout: subset 47\n"
     ]
    },
    {
     "name": "stderr",
     "output_type": "stream",
     "text": [
      "GPU available: True (cuda), used: True\n",
      "TPU available: False, using: 0 TPU cores\n",
      "HPU available: False, using: 0 HPUs\n",
      "LOCAL_RANK: 0 - CUDA_VISIBLE_DEVICES: [0]\n",
      "\n",
      "  | Name    | Type       | Params | Mode \n",
      "-----------------------------------------------\n",
      "0 | model   | Sequential | 100 K  | train\n",
      "1 | loss_fn | BCELoss    | 0      | train\n",
      "-----------------------------------------------\n",
      "100 K     Trainable params\n",
      "0         Non-trainable params\n",
      "100 K     Total params\n",
      "0.402     Total estimated model params size (MB)\n",
      "8         Modules in train mode\n",
      "0         Modules in eval mode\n"
     ]
    },
    {
     "name": "stdout",
     "output_type": "stream",
     "text": [
      "Seed: 47\n",
      "Level 1 init: subset 48\n",
      "Level 1 training: subset 48\n",
      "Epoch 6:  71%|███████   | 141/199 [00:00<00:00, 231.47it/s, v_num=10, train_loss=0.335]"
     ]
    }
   ],
   "source": []
  },
  {
   "cell_type": "code",
   "execution_count": null,
   "id": "7e03fddf-b29c-42ea-887f-2bad3ec2a60f",
   "metadata": {},
   "outputs": [],
   "source": []
  },
  {
   "cell_type": "code",
   "execution_count": 11,
   "id": "ecb291e8-31da-40c7-a0a1-45bed5254cfe",
   "metadata": {},
   "outputs": [
    {
     "data": {
      "text/plain": [
       "tensor([0, 1])"
      ]
     },
     "execution_count": 11,
     "metadata": {},
     "output_type": "execute_result"
    }
   ],
   "source": [
    "torch.unique(fake_labels)"
   ]
  },
  {
   "cell_type": "code",
   "execution_count": 12,
   "id": "9cd5c770-38f6-4546-84d5-bfbfba3b05cf",
   "metadata": {},
   "outputs": [
    {
     "data": {
      "text/plain": [
       "tensor(11707)"
      ]
     },
     "execution_count": 12,
     "metadata": {},
     "output_type": "execute_result"
    }
   ],
   "source": [
    "(labels == fake_labels).sum()"
   ]
  },
  {
   "cell_type": "code",
   "execution_count": null,
   "id": "18c11b7e-d168-4bf4-a5e2-db72c3e87483",
   "metadata": {},
   "outputs": [],
   "source": []
  },
  {
   "cell_type": "code",
   "execution_count": 13,
   "id": "b51bbd0a-7aa3-4f0b-b4f7-16c84d2368ce",
   "metadata": {},
   "outputs": [
    {
     "name": "stdout",
     "output_type": "stream",
     "text": [
      "ROC AUC: 0.9031086062844464, Brier Score: 0.09880720900334665\n"
     ]
    },
    {
     "data": {
      "image/png": "[encoded data removed]",
      "text/plain": [
       "<Figure size 640x480 with 1 Axes>"
      ]
     },
     "metadata": {},
     "output_type": "display_data"
    },
    {
     "data": {
      "image/png": "[encoded data removed]",
      "text/plain": [
       "<Figure size 640x480 with 1 Axes>"
      ]
     },
     "metadata": {},
     "output_type": "display_data"
    },
    {
     "data": {
      "image/png": "[encoded data removed]",
      "text/plain": [
       "<Figure size 640x480 with 1 Axes>"
      ]
     },
     "metadata": {},
     "output_type": "display_data"
    },
    {
     "data": {
      "image/png": "[encoded data removed]",
      "text/plain": [
       "<Figure size 640x480 with 1 Axes>"
      ]
     },
     "metadata": {},
     "output_type": "display_data"
    }
   ],
   "source": [
    "# Assuming labels, probability_scores, and uncertainty_scores are available\n",
    "analysis = BinaryClassificationAnalysis(pipeline.hard_targets.numpy(),\n",
    "                                        pipeline.probability_scores,\n",
    "                                        pipeline.uncertainty_scores)\n",
    "\n",
    "# Calculate metrics\n",
    "roc_auc = analysis.calculate_roc_auc()\n",
    "brier_score = analysis.calculate_brier_score()\n",
    "print(f\"ROC AUC: {roc_auc}, Brier Score: {brier_score}\")\n",
    "\n",
    "# Plotting\n",
    "analysis.plot_reliability_diagram()\n",
    "analysis.plot_roc_curve()\n",
    "analysis.plot_uncertainty_distribution()\n",
    "analysis.plot_uncertainty_vs_confidence()\n"
   ]
  },
  {
   "cell_type": "code",
   "execution_count": null,
   "id": "48b08aa9-f399-4fca-a49a-48763d3c0042",
   "metadata": {},
   "outputs": [],
   "source": []
  },
  {
   "cell_type": "code",
   "execution_count": 14,
   "id": "cb33339a-521c-4dfc-892a-db877a7f985f",
   "metadata": {},
   "outputs": [
    {
     "data": {
      "text/html": [
       "<div>\n",
       "<style scoped>\n",
       "    .dataframe tbody tr th:only-of-type {\n",
       "        vertical-align: middle;\n",
       "    }\n",
       "\n",
       "    .dataframe tbody tr th {\n",
       "        vertical-align: top;\n",
       "    }\n",
       "\n",
       "    .dataframe thead th {\n",
       "        text-align: right;\n",
       "    }\n",
       "</style>\n",
       "<table border=\"1\" class=\"dataframe\">\n",
       "  <thead>\n",
       "    <tr style=\"text-align: right;\">\n",
       "      <th></th>\n",
       "      <th>labels</th>\n",
       "      <th>fake_labels</th>\n",
       "      <th>probability_scores</th>\n",
       "      <th>uncertainty_scores</th>\n",
       "    </tr>\n",
       "  </thead>\n",
       "  <tbody>\n",
       "    <tr>\n",
       "      <th>0</th>\n",
       "      <td>0</td>\n",
       "      <td>0</td>\n",
       "      <td>0.000060</td>\n",
       "      <td>7.598644e-08</td>\n",
       "    </tr>\n",
       "    <tr>\n",
       "      <th>1</th>\n",
       "      <td>0</td>\n",
       "      <td>0</td>\n",
       "      <td>0.000014</td>\n",
       "      <td>1.289661e-08</td>\n",
       "    </tr>\n",
       "    <tr>\n",
       "      <th>2</th>\n",
       "      <td>0</td>\n",
       "      <td>0</td>\n",
       "      <td>0.002308</td>\n",
       "      <td>1.166511e-05</td>\n",
       "    </tr>\n",
       "    <tr>\n",
       "      <th>3</th>\n",
       "      <td>0</td>\n",
       "      <td>0</td>\n",
       "      <td>0.001375</td>\n",
       "      <td>8.517796e-06</td>\n",
       "    </tr>\n",
       "    <tr>\n",
       "      <th>4</th>\n",
       "      <td>1</td>\n",
       "      <td>1</td>\n",
       "      <td>1.000000</td>\n",
       "      <td>3.520886e-11</td>\n",
       "    </tr>\n",
       "  </tbody>\n",
       "</table>\n",
       "</div>"
      ],
      "text/plain": [
       "   labels  fake_labels  probability_scores  uncertainty_scores\n",
       "0       0            0            0.000060        7.598644e-08\n",
       "1       0            0            0.000014        1.289661e-08\n",
       "2       0            0            0.002308        1.166511e-05\n",
       "3       0            0            0.001375        8.517796e-06\n",
       "4       1            1            1.000000        3.520886e-11"
      ]
     },
     "execution_count": 14,
     "metadata": {},
     "output_type": "execute_result"
    }
   ],
   "source": [
    "import pandas as pd\n",
    "\n",
    "# Assuming the variables labels, fake_labels, probability_scores, and uncertainty_scores are already defined\n",
    "\n",
    "# Convert each to a list or numpy array if they aren't already in those formats\n",
    "labels = labels.cpu().numpy() if torch.is_tensor(labels) else labels\n",
    "fake_labels = fake_labels.cpu().numpy() if torch.is_tensor(fake_labels) else fake_labels\n",
    "probability_scores = pipeline.probability_scores\n",
    "uncertainty_scores = pipeline.uncertainty_scores\n",
    "\n",
    "# Ensure that all components have the same length\n",
    "assert len(labels) == len(fake_labels) == len(probability_scores) == len(uncertainty_scores), \"Mismatched lengths\"\n",
    "\n",
    "# Create the DataFrame\n",
    "df = pd.DataFrame({\n",
    "    'labels': labels,\n",
    "    'fake_labels': fake_labels,\n",
    "    'probability_scores': probability_scores,\n",
    "    'uncertainty_scores': uncertainty_scores\n",
    "})\n",
    "\n",
    "# Display the DataFrame\n",
    "df.head()\n"
   ]
  },
  {
   "cell_type": "code",
   "execution_count": 15,
   "id": "88dd8923-75e0-422e-8253-b01725651552",
   "metadata": {},
   "outputs": [
    {
     "data": {
      "text/html": [
       "<div>\n",
       "<style scoped>\n",
       "    .dataframe tbody tr th:only-of-type {\n",
       "        vertical-align: middle;\n",
       "    }\n",
       "\n",
       "    .dataframe tbody tr th {\n",
       "        vertical-align: top;\n",
       "    }\n",
       "\n",
       "    .dataframe thead th {\n",
       "        text-align: right;\n",
       "    }\n",
       "</style>\n",
       "<table border=\"1\" class=\"dataframe\">\n",
       "  <thead>\n",
       "    <tr style=\"text-align: right;\">\n",
       "      <th></th>\n",
       "      <th>labels</th>\n",
       "      <th>fake_labels</th>\n",
       "      <th>probability_scores</th>\n",
       "      <th>uncertainty_scores</th>\n",
       "    </tr>\n",
       "  </thead>\n",
       "  <tbody>\n",
       "    <tr>\n",
       "      <th>6</th>\n",
       "      <td>0</td>\n",
       "      <td>1</td>\n",
       "      <td>0.389005</td>\n",
       "      <td>0.016853</td>\n",
       "    </tr>\n",
       "    <tr>\n",
       "      <th>7</th>\n",
       "      <td>1</td>\n",
       "      <td>1</td>\n",
       "      <td>0.893538</td>\n",
       "      <td>0.004851</td>\n",
       "    </tr>\n",
       "    <tr>\n",
       "      <th>23</th>\n",
       "      <td>0</td>\n",
       "      <td>0</td>\n",
       "      <td>0.056280</td>\n",
       "      <td>0.003843</td>\n",
       "    </tr>\n",
       "    <tr>\n",
       "      <th>34</th>\n",
       "      <td>0</td>\n",
       "      <td>0</td>\n",
       "      <td>0.129494</td>\n",
       "      <td>0.007280</td>\n",
       "    </tr>\n",
       "    <tr>\n",
       "      <th>55</th>\n",
       "      <td>0</td>\n",
       "      <td>0</td>\n",
       "      <td>0.106044</td>\n",
       "      <td>0.014547</td>\n",
       "    </tr>\n",
       "    <tr>\n",
       "      <th>...</th>\n",
       "      <td>...</td>\n",
       "      <td>...</td>\n",
       "      <td>...</td>\n",
       "      <td>...</td>\n",
       "    </tr>\n",
       "    <tr>\n",
       "      <th>12729</th>\n",
       "      <td>0</td>\n",
       "      <td>0</td>\n",
       "      <td>0.122466</td>\n",
       "      <td>0.007357</td>\n",
       "    </tr>\n",
       "    <tr>\n",
       "      <th>12884</th>\n",
       "      <td>0</td>\n",
       "      <td>1</td>\n",
       "      <td>0.117779</td>\n",
       "      <td>0.009261</td>\n",
       "    </tr>\n",
       "    <tr>\n",
       "      <th>12889</th>\n",
       "      <td>0</td>\n",
       "      <td>0</td>\n",
       "      <td>0.140298</td>\n",
       "      <td>0.013132</td>\n",
       "    </tr>\n",
       "    <tr>\n",
       "      <th>12963</th>\n",
       "      <td>0</td>\n",
       "      <td>1</td>\n",
       "      <td>0.514940</td>\n",
       "      <td>0.024607</td>\n",
       "    </tr>\n",
       "    <tr>\n",
       "      <th>12991</th>\n",
       "      <td>0</td>\n",
       "      <td>1</td>\n",
       "      <td>0.356317</td>\n",
       "      <td>0.018459</td>\n",
       "    </tr>\n",
       "  </tbody>\n",
       "</table>\n",
       "<p>265 rows × 4 columns</p>\n",
       "</div>"
      ],
      "text/plain": [
       "       labels  fake_labels  probability_scores  uncertainty_scores\n",
       "6           0            1            0.389005            0.016853\n",
       "7           1            1            0.893538            0.004851\n",
       "23          0            0            0.056280            0.003843\n",
       "34          0            0            0.129494            0.007280\n",
       "55          0            0            0.106044            0.014547\n",
       "...       ...          ...                 ...                 ...\n",
       "12729       0            0            0.122466            0.007357\n",
       "12884       0            1            0.117779            0.009261\n",
       "12889       0            0            0.140298            0.013132\n",
       "12963       0            1            0.514940            0.024607\n",
       "12991       0            1            0.356317            0.018459\n",
       "\n",
       "[265 rows x 4 columns]"
      ]
     },
     "execution_count": 15,
     "metadata": {},
     "output_type": "execute_result"
    }
   ],
   "source": [
    "df[df['uncertainty_scores']>0.002]"
   ]
  },
  {
   "cell_type": "code",
   "execution_count": 16,
   "id": "8bcddda9-76b1-43da-9972-125fe74dbf14",
   "metadata": {},
   "outputs": [],
   "source": [
    "# Assuming your DataFrame is named df and has 'predicted_probability' and 'uncertainty_score' columns\n",
    "\n",
    "# Set thresholds\n",
    "uncertainty_threshold = 0.002  # Adjust based on your data\n",
    "high_confidence_threshold = 0.9\n",
    "low_confidence_threshold = 0.1\n",
    "\n",
    "# Identify noisy labels\n",
    "df['high_uncert'] = (df['uncertainty_scores'] > uncertainty_threshold)\n",
    "df['low_conf'] = ((df['probability_scores'] > low_confidence_threshold) & (df['probability_scores'] < high_confidence_threshold))\n",
    "\n",
    "# Filter to see only noisy samples\n",
    "# noisy_labels_df = df[df['is_noisy']]\n",
    "\n",
    "# # Output or examine noisy labels\n",
    "# print(noisy_labels_df)\n"
   ]
  },
  {
   "cell_type": "code",
   "execution_count": 17,
   "id": "0e666b21-3eed-472b-8977-c6d167c8130d",
   "metadata": {},
   "outputs": [
    {
     "data": {
      "text/html": [
       "<div>\n",
       "<style scoped>\n",
       "    .dataframe tbody tr th:only-of-type {\n",
       "        vertical-align: middle;\n",
       "    }\n",
       "\n",
       "    .dataframe tbody tr th {\n",
       "        vertical-align: top;\n",
       "    }\n",
       "\n",
       "    .dataframe thead th {\n",
       "        text-align: right;\n",
       "    }\n",
       "</style>\n",
       "<table border=\"1\" class=\"dataframe\">\n",
       "  <thead>\n",
       "    <tr style=\"text-align: right;\">\n",
       "      <th></th>\n",
       "      <th>labels</th>\n",
       "      <th>fake_labels</th>\n",
       "      <th>probability_scores</th>\n",
       "      <th>uncertainty_scores</th>\n",
       "      <th>high_uncert</th>\n",
       "      <th>low_conf</th>\n",
       "    </tr>\n",
       "  </thead>\n",
       "  <tbody>\n",
       "    <tr>\n",
       "      <th>6</th>\n",
       "      <td>0</td>\n",
       "      <td>1</td>\n",
       "      <td>0.389005</td>\n",
       "      <td>0.016853</td>\n",
       "      <td>True</td>\n",
       "      <td>True</td>\n",
       "    </tr>\n",
       "    <tr>\n",
       "      <th>7</th>\n",
       "      <td>1</td>\n",
       "      <td>1</td>\n",
       "      <td>0.893538</td>\n",
       "      <td>0.004851</td>\n",
       "      <td>True</td>\n",
       "      <td>True</td>\n",
       "    </tr>\n",
       "    <tr>\n",
       "      <th>34</th>\n",
       "      <td>0</td>\n",
       "      <td>0</td>\n",
       "      <td>0.129494</td>\n",
       "      <td>0.007280</td>\n",
       "      <td>True</td>\n",
       "      <td>True</td>\n",
       "    </tr>\n",
       "    <tr>\n",
       "      <th>55</th>\n",
       "      <td>0</td>\n",
       "      <td>0</td>\n",
       "      <td>0.106044</td>\n",
       "      <td>0.014547</td>\n",
       "      <td>True</td>\n",
       "      <td>True</td>\n",
       "    </tr>\n",
       "    <tr>\n",
       "      <th>85</th>\n",
       "      <td>1</td>\n",
       "      <td>1</td>\n",
       "      <td>0.764255</td>\n",
       "      <td>0.017781</td>\n",
       "      <td>True</td>\n",
       "      <td>True</td>\n",
       "    </tr>\n",
       "    <tr>\n",
       "      <th>...</th>\n",
       "      <td>...</td>\n",
       "      <td>...</td>\n",
       "      <td>...</td>\n",
       "      <td>...</td>\n",
       "      <td>...</td>\n",
       "      <td>...</td>\n",
       "    </tr>\n",
       "    <tr>\n",
       "      <th>12729</th>\n",
       "      <td>0</td>\n",
       "      <td>0</td>\n",
       "      <td>0.122466</td>\n",
       "      <td>0.007357</td>\n",
       "      <td>True</td>\n",
       "      <td>True</td>\n",
       "    </tr>\n",
       "    <tr>\n",
       "      <th>12884</th>\n",
       "      <td>0</td>\n",
       "      <td>1</td>\n",
       "      <td>0.117779</td>\n",
       "      <td>0.009261</td>\n",
       "      <td>True</td>\n",
       "      <td>True</td>\n",
       "    </tr>\n",
       "    <tr>\n",
       "      <th>12889</th>\n",
       "      <td>0</td>\n",
       "      <td>0</td>\n",
       "      <td>0.140298</td>\n",
       "      <td>0.013132</td>\n",
       "      <td>True</td>\n",
       "      <td>True</td>\n",
       "    </tr>\n",
       "    <tr>\n",
       "      <th>12963</th>\n",
       "      <td>0</td>\n",
       "      <td>1</td>\n",
       "      <td>0.514940</td>\n",
       "      <td>0.024607</td>\n",
       "      <td>True</td>\n",
       "      <td>True</td>\n",
       "    </tr>\n",
       "    <tr>\n",
       "      <th>12991</th>\n",
       "      <td>0</td>\n",
       "      <td>1</td>\n",
       "      <td>0.356317</td>\n",
       "      <td>0.018459</td>\n",
       "      <td>True</td>\n",
       "      <td>True</td>\n",
       "    </tr>\n",
       "  </tbody>\n",
       "</table>\n",
       "<p>144 rows × 6 columns</p>\n",
       "</div>"
      ],
      "text/plain": [
       "       labels  fake_labels  probability_scores  uncertainty_scores  \\\n",
       "6           0            1            0.389005            0.016853   \n",
       "7           1            1            0.893538            0.004851   \n",
       "34          0            0            0.129494            0.007280   \n",
       "55          0            0            0.106044            0.014547   \n",
       "85          1            1            0.764255            0.017781   \n",
       "...       ...          ...                 ...                 ...   \n",
       "12729       0            0            0.122466            0.007357   \n",
       "12884       0            1            0.117779            0.009261   \n",
       "12889       0            0            0.140298            0.013132   \n",
       "12963       0            1            0.514940            0.024607   \n",
       "12991       0            1            0.356317            0.018459   \n",
       "\n",
       "       high_uncert  low_conf  \n",
       "6             True      True  \n",
       "7             True      True  \n",
       "34            True      True  \n",
       "55            True      True  \n",
       "85            True      True  \n",
       "...            ...       ...  \n",
       "12729         True      True  \n",
       "12884         True      True  \n",
       "12889         True      True  \n",
       "12963         True      True  \n",
       "12991         True      True  \n",
       "\n",
       "[144 rows x 6 columns]"
      ]
     },
     "execution_count": 17,
     "metadata": {},
     "output_type": "execute_result"
    }
   ],
   "source": [
    "df[df['low_conf']]"
   ]
  },
  {
   "cell_type": "code",
   "execution_count": 18,
   "id": "90ee889c-cc33-420e-a8ef-0e3458ea21f8",
   "metadata": {},
   "outputs": [
    {
     "data": {
      "text/plain": [
       "1300"
      ]
     },
     "execution_count": 18,
     "metadata": {},
     "output_type": "execute_result"
    }
   ],
   "source": [
    "sum(df['labels'] != df['fake_labels'])"
   ]
  },
  {
   "cell_type": "code",
   "execution_count": null,
   "id": "e83762b7-735f-4c66-8e4d-13370e1cfd01",
   "metadata": {},
   "outputs": [],
   "source": []
  }
 ],
 "metadata": {
  "kernelspec": {
   "display_name": "Python [conda env:tml]",
   "language": "python",
   "name": "conda-env-tml-py"
  },
  "language_info": {
   "codemirror_mode": {
    "name": "ipython",
    "version": 3
   },
   "file_extension": ".py",
   "mimetype": "text/x-python",
   "name": "python",
   "nbconvert_exporter": "python",
   "pygments_lexer": "ipython3",
   "version": "3.11.6"
  }
 },
 "nbformat": 4,
 "nbformat_minor": 5
}
