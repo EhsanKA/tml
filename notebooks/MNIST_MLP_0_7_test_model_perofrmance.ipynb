{
 "cells": [
  {
   "cell_type": "markdown",
   "id": "9dfdbeaa-7d81-4913-a6e5-6520bb5272ff",
   "metadata": {},
   "source": [
    "# Example\n",
    "#### Model: CNN\n",
    "#### Data: MNIST (0,7) classes\n",
    "#### 40% of label==0 are switched "
   ]
  },
  {
   "cell_type": "code",
   "execution_count": 1,
   "id": "05c82464-7cf5-4198-9d71-f135b9f4b577",
   "metadata": {},
   "outputs": [],
   "source": [
    "%load_ext autoreload\n",
    "%autoreload 2"
   ]
  },
  {
   "cell_type": "code",
   "execution_count": 2,
   "id": "2b5d7ccb-da23-4474-9826-783969af3679",
   "metadata": {},
   "outputs": [],
   "source": [
    "import torch\n",
    "from torch import nn\n",
    "from torch.utils.data import DataLoader, Subset\n",
    "from torchvision import datasets, transforms\n",
    "import pytorch_lightning as pl\n",
    "\n",
    "class BinaryMNISTClassifier(pl.LightningModule):\n",
    "    def __init__(self, input_size=28*28, hidden_sizes=[128,32], output_size=1, learning_rate=1e-3, dropout_rate=0.7):\n",
    "        super(BinaryMNISTClassifier, self).__init__()\n",
    "        self.learning_rate = learning_rate\n",
    "        self.model = nn.Sequential(\n",
    "            nn.Flatten(),\n",
    "            nn.Linear(input_size, hidden_sizes[0]),\n",
    "            nn.ReLU(),\n",
    "            nn.Dropout(dropout_rate),\n",
    "            nn.Linear(hidden_sizes[0], hidden_sizes[1]),\n",
    "            nn.ReLU(),\n",
    "            nn.Dropout(dropout_rate),\n",
    "            nn.Linear(hidden_sizes[1], output_size),\n",
    "            nn.Sigmoid()\n",
    "        )\n",
    "        self.loss_fn = nn.BCELoss()\n",
    "        \n",
    "    def forward(self, x):\n",
    "        return self.model(x)\n",
    "\n",
    "    def training_step(self, batch, batch_idx):\n",
    "        x, y = batch\n",
    "        y = y.float().unsqueeze(1)  # Adjust shape for BCELoss\n",
    "        logits = self(x)\n",
    "        loss = self.loss_fn(logits, y)\n",
    "        self.log(\"train_loss\", loss, on_step=False, on_epoch=True, prog_bar=True)\n",
    "        return loss\n",
    "\n",
    "    def test_step(self, batch, batch_idx):\n",
    "        x, y = batch\n",
    "        y = y.float().unsqueeze(1)\n",
    "        logits = self(x)\n",
    "        loss = self.loss_fn(logits, y)\n",
    "        \n",
    "        # Calculate accuracy\n",
    "        preds = (logits > 0.5).float()\n",
    "        accuracy = (preds == y).float().mean()\n",
    "        \n",
    "        self.log(\"test_loss\", loss, on_step=False, on_epoch=True, prog_bar=True)\n",
    "        self.log(\"test_accuracy\", accuracy, on_step=False, on_epoch=True)\n",
    "        return {\"test_loss\": loss, \"test_accuracy\": accuracy}\n",
    "\n",
    "    def configure_optimizers(self):\n",
    "        return torch.optim.Adam(self.parameters(), lr=self.learning_rate)\n"
   ]
  },
  {
   "cell_type": "code",
   "execution_count": 3,
   "id": "2b97ddc6-4d21-4788-8c07-81aecbe4b825",
   "metadata": {},
   "outputs": [],
   "source": [
    "import torch\n",
    "import torch.nn as nn\n",
    "import pytorch_lightning as pl\n",
    "import torch.optim as optim\n",
    "from torchmetrics.classification import Accuracy\n",
    "\n",
    "class CNNBinaryMNISTClassifier(pl.LightningModule):\n",
    "    def __init__(self, learning_rate=1e-3, dropout_rate=0.5):\n",
    "        super(CNNBinaryMNISTClassifier, self).__init__()\n",
    "        self.learning_rate = learning_rate\n",
    "        \n",
    "        # Define the CNN architecture using nn.Sequential\n",
    "        self.model = nn.Sequential(\n",
    "            nn.Conv2d(1, 32, kernel_size=5, stride=1, padding=2),  # (28, 28) -> (28, 28)\n",
    "            nn.ReLU(),\n",
    "            nn.Conv2d(32, 32, kernel_size=3, stride=1, padding=1),  # (28, 28) -> (28, 28)\n",
    "            nn.ReLU(),\n",
    "            nn.MaxPool2d(2, 2),  # (28, 28) -> (14, 14)\n",
    "            nn.Dropout(dropout_rate),\n",
    "            \n",
    "            nn.Conv2d(32, 64, kernel_size=5, stride=1, padding=2),  # (14, 14) -> (14, 14)\n",
    "            nn.ReLU(),\n",
    "            nn.Conv2d(64, 64, kernel_size=3, stride=1, padding=1),  # (14, 14) -> (14, 14)\n",
    "            nn.ReLU(),\n",
    "            nn.MaxPool2d(2, 2),  # (14, 14) -> (7, 7)\n",
    "            \n",
    "            nn.Flatten(),  # Flatten the output for the fully connected layers\n",
    "            nn.Linear(64 * 7 * 7, 128),\n",
    "            nn.ReLU(),\n",
    "            nn.Dropout(dropout_rate),\n",
    "            nn.Linear(128, 32),\n",
    "            nn.ReLU(),\n",
    "            nn.Dropout(dropout_rate),\n",
    "            nn.Linear(32, 1),  # Single output for binary classification\n",
    "            nn.Sigmoid()  # Apply sigmoid to get output between 0 and 1\n",
    "        )\n",
    "\n",
    "    def forward(self, x):\n",
    "        return self.model(x)\n",
    "\n",
    "    def training_step(self, batch, batch_idx):\n",
    "        x, y = batch\n",
    "        y = y.float().unsqueeze(1)  # Adjust shape for BCELoss\n",
    "        logits = self(x)\n",
    "        loss = nn.BCELoss()(logits, y)\n",
    "        self.log(\"train_loss\", loss, on_step=False, on_epoch=True, prog_bar=True)\n",
    "        return loss\n",
    "\n",
    "    def test_step(self, batch, batch_idx):\n",
    "        x, y = batch\n",
    "        y = y.float().unsqueeze(1)  # Adjust shape for BCELoss\n",
    "        logits = self(x)\n",
    "        loss = nn.BCELoss()(logits, y)\n",
    "        \n",
    "        # Calculate accuracy\n",
    "        preds = (logits > 0.5).float()  # Threshold logits at 0.5 to make binary predictions\n",
    "        accuracy = (preds == y).float().mean()\n",
    "\n",
    "        self.log(\"test_loss\", loss, on_step=False, on_epoch=True, prog_bar=True)\n",
    "        self.log(\"test_accuracy\", accuracy, on_step=False, on_epoch=True)\n",
    "        return {\"test_loss\": loss, \"test_accuracy\": accuracy}\n",
    "\n",
    "    def configure_optimizers(self):\n",
    "        optimizer = optim.Adam(self.parameters(), lr=self.learning_rate)\n",
    "        return optimizer\n"
   ]
  },
  {
   "cell_type": "code",
   "execution_count": null,
   "id": "5a696c03-416f-4d7f-87e1-07a35ddf5763",
   "metadata": {},
   "outputs": [],
   "source": []
  },
  {
   "cell_type": "code",
   "execution_count": 4,
   "id": "e02b4e53-35c5-4088-ad42-2a4885f4ec50",
   "metadata": {},
   "outputs": [],
   "source": [
    "def create_binary_subset(dataset, label1, label2):\n",
    "    # Filter for the two specified labels\n",
    "    idx = (dataset.targets == label1) | (dataset.targets == label2)\n",
    "    binary_subset = Subset(dataset, torch.where(idx)[0])\n",
    "    \n",
    "    # Map label1 to 0 and label2 to 1\n",
    "    mapped_targets = torch.tensor([0 if label == label1 else 1 for label in dataset.targets[idx]])\n",
    "    \n",
    "    # Update dataset targets to reflect the binary mapping\n",
    "    for i, original_idx in enumerate(torch.where(idx)[0]):\n",
    "        binary_subset.dataset.targets[original_idx] = mapped_targets[i]\n",
    "    \n",
    "    return binary_subset\n",
    "\n"
   ]
  },
  {
   "cell_type": "code",
   "execution_count": 5,
   "id": "d44ccc02-c8e8-46d6-ad3b-82dc3189be8f",
   "metadata": {},
   "outputs": [],
   "source": [
    "import torch\n",
    "import random\n",
    "import numpy as np\n",
    "random.seed(42)\n",
    "\n",
    "label1, label2 = 0, 7  # Choose any two labels here\n",
    "transform = transforms.Compose([transforms.ToTensor()])\n",
    "mnist_train = datasets.MNIST(root=\"../data/\", train=True, transform=transform, download=True)\n",
    "\n",
    "binary_mnist_train = create_binary_subset(mnist_train, label1, label2)\n",
    "\n",
    "# Step 1: Retrieve data and labels\n",
    "data = []\n",
    "labels = []\n",
    "for img, label in binary_mnist_train:\n",
    "    data.append(img)\n",
    "    labels.append(label)\n",
    "\n",
    "# Convert data and labels to tensors\n",
    "data = torch.stack(data)  # shape: [num_samples, channels, height, width]\n",
    "labels = torch.tensor(labels, dtype=torch.long)\n",
    "\n",
    "# Step 2: Generate fake labels by switching 5% of them\n",
    "fake_labels = labels.clone()  # Copy true labels\n",
    "num_samples = len(labels)\n",
    "num_switch = int(0.4 * np.where(labels==0)[0].shape[0])  # 20% of labels to switch\n",
    "# indices_to_switch = random.sample(range(num_samples), num_switch)\n",
    "indices_to_switch = random.sample(np.where(labels==0)[0].tolist(), num_switch)\n",
    "\n",
    "# for idx in indices_to_switch:\n",
    "#     fake_labels[idx] = label2 if fake_labels[idx] == label1 else label1\n",
    "for idx in indices_to_switch:\n",
    "    fake_labels[idx] = (fake_labels[idx] +1)%2\n",
    "    \n",
    "# Convert data and fake labels to tensors\n",
    "data = data.float()  # Convert data to float32 tensor if needed\n",
    "fake_labels = fake_labels.long()  # Convert fake_labels to long tensor\n"
   ]
  },
  {
   "cell_type": "code",
   "execution_count": 6,
   "id": "9586bdcf-e1ba-4568-8c71-27637bc1a6b2",
   "metadata": {
    "scrolled": true
   },
   "outputs": [],
   "source": [
    "from tml.pipeline import Pipeline, ModelHandler\n",
    "from tml.analysis import BinaryClassificationAnalysis\n"
   ]
  },
  {
   "cell_type": "code",
   "execution_count": 7,
   "id": "a6518823-c31a-4a1e-a964-aa5fe3af795e",
   "metadata": {},
   "outputs": [],
   "source": [
    "\n",
    "model_instance = BinaryMNISTClassifier(dropout_rate=0.3, learning_rate=1.0e-4)\n",
    "# model_instance = CNNBinaryMNISTClassifier(dropout_rate=0.3, learning_rate=1.0e-4)"
   ]
  },
  {
   "cell_type": "code",
   "execution_count": 8,
   "id": "e4ba37b7-f51c-445d-bdcd-37c4ed89c13f",
   "metadata": {},
   "outputs": [],
   "source": [
    "# Initialize the pipeline\n",
    "model_handler = ModelHandler(model_instance=model_instance)\n",
    "pipeline = Pipeline(model_handler, data=data, hard_targets=fake_labels, max_epochs=40, drop_iterations=100)"
   ]
  },
  {
   "cell_type": "code",
   "execution_count": null,
   "id": "8e02ffe0-1243-4e6a-aba5-2941dc0f930a",
   "metadata": {},
   "outputs": [
    {
     "name": "stderr",
     "output_type": "stream",
     "text": [
      "GPU available: True (cuda), used: True\n",
      "TPU available: False, using: 0 TPU cores\n",
      "HPU available: False, using: 0 HPUs\n",
      "You are using a CUDA device ('NVIDIA A40') that has Tensor Cores. To properly utilize them, you should set `torch.set_float32_matmul_precision('medium' | 'high')` which will trade-off precision for performance. For more details, read https://pytorch.org/docs/stable/generated/torch.set_float32_matmul_precision.html#torch.set_float32_matmul_precision\n",
      "LOCAL_RANK: 0 - CUDA_VISIBLE_DEVICES: [0]\n",
      "\n",
      "  | Name    | Type       | Params | Mode \n",
      "-----------------------------------------------\n",
      "0 | model   | Sequential | 104 K  | train\n",
      "1 | loss_fn | BCELoss    | 0      | train\n",
      "-----------------------------------------------\n",
      "104 K     Trainable params\n",
      "0         Non-trainable params\n",
      "104 K     Total params\n",
      "0.419     Total estimated model params size (MB)\n",
      "11        Modules in train mode\n",
      "0         Modules in eval mode\n"
     ]
    },
    {
     "name": "stdout",
     "output_type": "stream",
     "text": [
      "Seed: 42\n",
      "Level 1 init: subset 43\n",
      "Level 1 training: subset 43\n",
      "Epoch 39: 100%|██████████| 122/122 [00:00<00:00, 224.04it/s, v_num=33, train_loss=0.336]"
     ]
    },
    {
     "name": "stderr",
     "output_type": "stream",
     "text": [
      "`Trainer.fit` stopped: `max_epochs=40` reached.\n"
     ]
    },
    {
     "name": "stdout",
     "output_type": "stream",
     "text": [
      "Epoch 39: 100%|██████████| 122/122 [00:00<00:00, 223.14it/s, v_num=33, train_loss=0.336]\n",
      "Level 1 predict: subset 43\n",
      "Pruning: subset 43\n"
     ]
    },
    {
     "name": "stderr",
     "output_type": "stream",
     "text": [
      "GPU available: True (cuda), used: True\n",
      "TPU available: False, using: 0 TPU cores\n",
      "HPU available: False, using: 0 HPUs\n",
      "LOCAL_RANK: 0 - CUDA_VISIBLE_DEVICES: [0]\n",
      "\n",
      "  | Name    | Type       | Params | Mode \n",
      "-----------------------------------------------\n",
      "0 | model   | Sequential | 104 K  | train\n",
      "1 | loss_fn | BCELoss    | 0      | train\n",
      "-----------------------------------------------\n",
      "104 K     Trainable params\n",
      "0         Non-trainable params\n",
      "104 K     Total params\n",
      "0.419     Total estimated model params size (MB)\n",
      "11        Modules in train mode\n",
      "0         Modules in eval mode\n"
     ]
    },
    {
     "name": "stdout",
     "output_type": "stream",
     "text": [
      "Level 2 init: subset 43\n",
      "Level 2 training: subset 43\n",
      "Epoch 37:  89%|████████▊ | 108/122 [00:00<00:00, 225.07it/s, v_num=33, train_loss=0.0155]"
     ]
    }
   ],
   "source": [
    "pipeline.run(n_steps=25)"
   ]
  },
  {
   "cell_type": "code",
   "execution_count": null,
   "id": "7e03fddf-b29c-42ea-887f-2bad3ec2a60f",
   "metadata": {},
   "outputs": [],
   "source": []
  },
  {
   "cell_type": "code",
   "execution_count": 10,
   "id": "ecb291e8-31da-40c7-a0a1-45bed5254cfe",
   "metadata": {},
   "outputs": [
    {
     "data": {
      "text/plain": [
       "tensor([0, 1])"
      ]
     },
     "execution_count": 10,
     "metadata": {},
     "output_type": "execute_result"
    }
   ],
   "source": [
    "torch.unique(fake_labels)"
   ]
  },
  {
   "cell_type": "code",
   "execution_count": 11,
   "id": "9cd5c770-38f6-4546-84d5-bfbfba3b05cf",
   "metadata": {},
   "outputs": [
    {
     "data": {
      "text/plain": [
       "tensor(9819)"
      ]
     },
     "execution_count": 11,
     "metadata": {},
     "output_type": "execute_result"
    }
   ],
   "source": [
    "(labels == fake_labels).sum()"
   ]
  },
  {
   "cell_type": "code",
   "execution_count": 13,
   "id": "57be3174-a9a6-4b19-9536-6a42cea111d1",
   "metadata": {},
   "outputs": [
    {
     "data": {
      "text/plain": [
       "5923"
      ]
     },
     "execution_count": 13,
     "metadata": {},
     "output_type": "execute_result"
    }
   ],
   "source": [
    "np.where(labels==0)[0].shape[0]"
   ]
  },
  {
   "cell_type": "code",
   "execution_count": 14,
   "id": "e62b03a8-2343-4577-81cf-0e07cc9fce2f",
   "metadata": {},
   "outputs": [
    {
     "data": {
      "text/plain": [
       "12188"
      ]
     },
     "execution_count": 14,
     "metadata": {},
     "output_type": "execute_result"
    }
   ],
   "source": [
    "len(labels)"
   ]
  },
  {
   "cell_type": "code",
   "execution_count": 15,
   "id": "18c11b7e-d168-4bf4-a5e2-db72c3e87483",
   "metadata": {},
   "outputs": [
    {
     "name": "stdout",
     "output_type": "stream",
     "text": [
      "ROC AUC: 0.8642363659686336, Brier Score: 0.18719524886011643\n"
     ]
    },
    {
     "data": {
      "image/png": "[encoded data removed]",
      "text/plain": [
       "<Figure size 640x480 with 1 Axes>"
      ]
     },
     "metadata": {},
     "output_type": "display_data"
    },
    {
     "data": {
      "image/png": "[encoded data removed]",
      "text/plain": [
       "<Figure size 640x480 with 1 Axes>"
      ]
     },
     "metadata": {},
     "output_type": "display_data"
    },
    {
     "data": {
      "image/png": "[encoded data removed]",
      "text/plain": [
       "<Figure size 640x480 with 1 Axes>"
      ]
     },
     "metadata": {},
     "output_type": "display_data"
    }
   ],
   "source": [
    "# Assuming labels, probability_scores, and uncertainty_scores are available\n",
    "analysis = BinaryClassificationAnalysis(pipeline.hard_targets.cpu().numpy(),\n",
    "                                        pipeline.probability_scores,\n",
    "                                        pipeline.uncertainty_scores)\n",
    "\n",
    "# Calculate metrics\n",
    "roc_auc = analysis.calculate_roc_auc()\n",
    "brier_score = analysis.calculate_brier_score()\n",
    "print(f\"ROC AUC: {roc_auc}, Brier Score: {brier_score}\")\n",
    "\n",
    "# Plotting\n",
    "# analysis.plot_reliability_diagram()\n",
    "analysis.plot_roc_curve()\n",
    "analysis.plot_uncertainty_distribution()\n",
    "analysis.plot_uncertainty_vs_confidence()\n"
   ]
  },
  {
   "cell_type": "code",
   "execution_count": null,
   "id": "15df59e6-f485-4e84-82a7-481fb783743a",
   "metadata": {},
   "outputs": [],
   "source": []
  },
  {
   "cell_type": "code",
   "execution_count": 16,
   "id": "add14f16-d0f3-49d1-ab9a-c955298c1d85",
   "metadata": {},
   "outputs": [
    {
     "data": {
      "text/html": [
       "<div>\n",
       "<style scoped>\n",
       "    .dataframe tbody tr th:only-of-type {\n",
       "        vertical-align: middle;\n",
       "    }\n",
       "\n",
       "    .dataframe tbody tr th {\n",
       "        vertical-align: top;\n",
       "    }\n",
       "\n",
       "    .dataframe thead th {\n",
       "        text-align: right;\n",
       "    }\n",
       "</style>\n",
       "<table border=\"1\" class=\"dataframe\">\n",
       "  <thead>\n",
       "    <tr style=\"text-align: right;\">\n",
       "      <th></th>\n",
       "      <th>labels</th>\n",
       "      <th>fake_labels</th>\n",
       "      <th>probability_scores</th>\n",
       "      <th>uncertainty_scores</th>\n",
       "      <th>confidence_adjusted_scores</th>\n",
       "      <th>label_issue</th>\n",
       "    </tr>\n",
       "  </thead>\n",
       "  <tbody>\n",
       "    <tr>\n",
       "      <th>0</th>\n",
       "      <td>0</td>\n",
       "      <td>0</td>\n",
       "      <td>3.881275e-20</td>\n",
       "      <td>0.001283</td>\n",
       "      <td>1.283462e-03</td>\n",
       "      <td>0</td>\n",
       "    </tr>\n",
       "    <tr>\n",
       "      <th>1</th>\n",
       "      <td>1</td>\n",
       "      <td>1</td>\n",
       "      <td>9.999993e-01</td>\n",
       "      <td>0.000928</td>\n",
       "      <td>6.771972e-10</td>\n",
       "      <td>0</td>\n",
       "    </tr>\n",
       "    <tr>\n",
       "      <th>2</th>\n",
       "      <td>0</td>\n",
       "      <td>0</td>\n",
       "      <td>3.467434e-20</td>\n",
       "      <td>0.001359</td>\n",
       "      <td>1.359214e-03</td>\n",
       "      <td>0</td>\n",
       "    </tr>\n",
       "    <tr>\n",
       "      <th>3</th>\n",
       "      <td>1</td>\n",
       "      <td>1</td>\n",
       "      <td>9.932219e-01</td>\n",
       "      <td>0.005291</td>\n",
       "      <td>3.586023e-05</td>\n",
       "      <td>0</td>\n",
       "    </tr>\n",
       "    <tr>\n",
       "      <th>4</th>\n",
       "      <td>0</td>\n",
       "      <td>0</td>\n",
       "      <td>9.329674e-15</td>\n",
       "      <td>0.000771</td>\n",
       "      <td>7.711684e-04</td>\n",
       "      <td>0</td>\n",
       "    </tr>\n",
       "  </tbody>\n",
       "</table>\n",
       "</div>"
      ],
      "text/plain": [
       "   labels  fake_labels  probability_scores  uncertainty_scores  \\\n",
       "0       0            0        3.881275e-20            0.001283   \n",
       "1       1            1        9.999993e-01            0.000928   \n",
       "2       0            0        3.467434e-20            0.001359   \n",
       "3       1            1        9.932219e-01            0.005291   \n",
       "4       0            0        9.329674e-15            0.000771   \n",
       "\n",
       "   confidence_adjusted_scores  label_issue  \n",
       "0                1.283462e-03            0  \n",
       "1                6.771972e-10            0  \n",
       "2                1.359214e-03            0  \n",
       "3                3.586023e-05            0  \n",
       "4                7.711684e-04            0  "
      ]
     },
     "execution_count": 16,
     "metadata": {},
     "output_type": "execute_result"
    }
   ],
   "source": [
    "import pandas as pd\n",
    "\n",
    "# Assuming the variables labels, fake_labels, probability_scores, and uncertainty_scores are already defined\n",
    "\n",
    "# Convert each to a list or numpy array if they aren't already in those formats\n",
    "labels = labels.cpu().numpy() if torch.is_tensor(labels) else labels\n",
    "fake_labels = fake_labels.cpu().numpy() if torch.is_tensor(fake_labels) else fake_labels\n",
    "probability_scores = pipeline.probability_scores\n",
    "uncertainty_scores = pipeline.uncertainty_scores\n",
    "confidence_adjusted_scores = (1 - probability_scores) * uncertainty_scores\n",
    "\n",
    "# Ensure that all components have the same length\n",
    "assert len(labels) == len(fake_labels) == len(probability_scores) == len(uncertainty_scores), \"Mismatched lengths\"\n",
    "\n",
    "# Create the DataFrame\n",
    "df = pd.DataFrame({\n",
    "    'labels': labels,\n",
    "    'fake_labels': fake_labels,\n",
    "    'probability_scores': probability_scores,\n",
    "    'uncertainty_scores': uncertainty_scores,\n",
    "    'confidence_adjusted_scores': confidence_adjusted_scores,\n",
    "    'label_issue': (labels+fake_labels)%2\n",
    "})\n",
    "\n",
    "# Display the DataFrame\n",
    "df.head()\n"
   ]
  },
  {
   "cell_type": "code",
   "execution_count": 17,
   "id": "3bbda6eb-51da-45df-9d7c-554482273969",
   "metadata": {},
   "outputs": [
    {
     "data": {
      "text/plain": [
       "np.int64(134)"
      ]
     },
     "execution_count": 17,
     "metadata": {},
     "output_type": "execute_result"
    }
   ],
   "source": [
    "df.sort_values('confidence_adjusted_scores')[-500:]['label_issue'].sum()"
   ]
  },
  {
   "cell_type": "code",
   "execution_count": 18,
   "id": "ec60d0c1-4251-491d-bfd6-27af5e781398",
   "metadata": {},
   "outputs": [],
   "source": [
    "# Assuming your DataFrame is named df and has 'predicted_probability' and 'uncertainty_score' columns\n",
    "\n",
    "# Set thresholds\n",
    "uncertainty_threshold = 0.003 #1  # Adjust based on your data\n",
    "high_confidence_threshold = 0.95\n",
    "low_confidence_threshold = 0.05\n",
    "\n",
    "# Identify noisy labels\n",
    "df['high_uncert'] = (df['uncertainty_scores'] > uncertainty_threshold)\n",
    "df['low_conf'] = ((df['probability_scores'] > low_confidence_threshold) & (df['probability_scores'] < high_confidence_threshold))\n",
    "\n",
    "# Filter to see only noisy samples\n",
    "# noisy_labels_df = df[df['is_noisy']]\n",
    "\n",
    "# # Output or examine noisy labels\n",
    "# print(noisy_labels_df)\n"
   ]
  },
  {
   "cell_type": "code",
   "execution_count": 19,
   "id": "24865372-4c40-49b5-891f-ee275ad212df",
   "metadata": {},
   "outputs": [],
   "source": [
    "df_conf = df[~df['low_conf']]"
   ]
  },
  {
   "cell_type": "code",
   "execution_count": 20,
   "id": "a652b910-a4b3-4442-852b-fecedcca10ad",
   "metadata": {},
   "outputs": [
    {
     "data": {
      "text/plain": [
       "2369"
      ]
     },
     "execution_count": 20,
     "metadata": {},
     "output_type": "execute_result"
    }
   ],
   "source": [
    "sum(df['labels'] != df['fake_labels'])"
   ]
  },
  {
   "cell_type": "code",
   "execution_count": 21,
   "id": "fc1670e9-9502-4212-ad36-b1f77306ef23",
   "metadata": {},
   "outputs": [
    {
     "data": {
      "text/html": [
       "<div>\n",
       "<style scoped>\n",
       "    .dataframe tbody tr th:only-of-type {\n",
       "        vertical-align: middle;\n",
       "    }\n",
       "\n",
       "    .dataframe tbody tr th {\n",
       "        vertical-align: top;\n",
       "    }\n",
       "\n",
       "    .dataframe thead th {\n",
       "        text-align: right;\n",
       "    }\n",
       "</style>\n",
       "<table border=\"1\" class=\"dataframe\">\n",
       "  <thead>\n",
       "    <tr style=\"text-align: right;\">\n",
       "      <th></th>\n",
       "      <th>labels</th>\n",
       "      <th>fake_labels</th>\n",
       "      <th>probability_scores</th>\n",
       "      <th>uncertainty_scores</th>\n",
       "      <th>confidence_adjusted_scores</th>\n",
       "      <th>label_issue</th>\n",
       "      <th>high_uncert</th>\n",
       "      <th>low_conf</th>\n",
       "    </tr>\n",
       "  </thead>\n",
       "  <tbody>\n",
       "    <tr>\n",
       "      <th>0</th>\n",
       "      <td>0</td>\n",
       "      <td>0</td>\n",
       "      <td>3.881275e-20</td>\n",
       "      <td>0.001283</td>\n",
       "      <td>1.283462e-03</td>\n",
       "      <td>0</td>\n",
       "      <td>False</td>\n",
       "      <td>False</td>\n",
       "    </tr>\n",
       "    <tr>\n",
       "      <th>1</th>\n",
       "      <td>1</td>\n",
       "      <td>1</td>\n",
       "      <td>9.999993e-01</td>\n",
       "      <td>0.000928</td>\n",
       "      <td>6.771972e-10</td>\n",
       "      <td>0</td>\n",
       "      <td>False</td>\n",
       "      <td>False</td>\n",
       "    </tr>\n",
       "    <tr>\n",
       "      <th>2</th>\n",
       "      <td>0</td>\n",
       "      <td>0</td>\n",
       "      <td>3.467434e-20</td>\n",
       "      <td>0.001359</td>\n",
       "      <td>1.359214e-03</td>\n",
       "      <td>0</td>\n",
       "      <td>False</td>\n",
       "      <td>False</td>\n",
       "    </tr>\n",
       "    <tr>\n",
       "      <th>3</th>\n",
       "      <td>1</td>\n",
       "      <td>1</td>\n",
       "      <td>9.932219e-01</td>\n",
       "      <td>0.005291</td>\n",
       "      <td>3.586023e-05</td>\n",
       "      <td>0</td>\n",
       "      <td>True</td>\n",
       "      <td>False</td>\n",
       "    </tr>\n",
       "    <tr>\n",
       "      <th>4</th>\n",
       "      <td>0</td>\n",
       "      <td>0</td>\n",
       "      <td>9.329674e-15</td>\n",
       "      <td>0.000771</td>\n",
       "      <td>7.711684e-04</td>\n",
       "      <td>0</td>\n",
       "      <td>False</td>\n",
       "      <td>False</td>\n",
       "    </tr>\n",
       "    <tr>\n",
       "      <th>...</th>\n",
       "      <td>...</td>\n",
       "      <td>...</td>\n",
       "      <td>...</td>\n",
       "      <td>...</td>\n",
       "      <td>...</td>\n",
       "      <td>...</td>\n",
       "      <td>...</td>\n",
       "      <td>...</td>\n",
       "    </tr>\n",
       "    <tr>\n",
       "      <th>12183</th>\n",
       "      <td>1</td>\n",
       "      <td>1</td>\n",
       "      <td>9.999737e-01</td>\n",
       "      <td>0.000611</td>\n",
       "      <td>1.609615e-08</td>\n",
       "      <td>0</td>\n",
       "      <td>False</td>\n",
       "      <td>False</td>\n",
       "    </tr>\n",
       "    <tr>\n",
       "      <th>12184</th>\n",
       "      <td>0</td>\n",
       "      <td>0</td>\n",
       "      <td>3.250459e-17</td>\n",
       "      <td>0.000890</td>\n",
       "      <td>8.898287e-04</td>\n",
       "      <td>0</td>\n",
       "      <td>False</td>\n",
       "      <td>False</td>\n",
       "    </tr>\n",
       "    <tr>\n",
       "      <th>12185</th>\n",
       "      <td>1</td>\n",
       "      <td>1</td>\n",
       "      <td>9.993754e-01</td>\n",
       "      <td>0.004230</td>\n",
       "      <td>2.641658e-06</td>\n",
       "      <td>0</td>\n",
       "      <td>True</td>\n",
       "      <td>False</td>\n",
       "    </tr>\n",
       "    <tr>\n",
       "      <th>12186</th>\n",
       "      <td>0</td>\n",
       "      <td>0</td>\n",
       "      <td>2.018831e-22</td>\n",
       "      <td>0.001016</td>\n",
       "      <td>1.016193e-03</td>\n",
       "      <td>0</td>\n",
       "      <td>False</td>\n",
       "      <td>False</td>\n",
       "    </tr>\n",
       "    <tr>\n",
       "      <th>12187</th>\n",
       "      <td>1</td>\n",
       "      <td>0</td>\n",
       "      <td>9.928211e-01</td>\n",
       "      <td>0.002977</td>\n",
       "      <td>2.137316e-05</td>\n",
       "      <td>1</td>\n",
       "      <td>False</td>\n",
       "      <td>False</td>\n",
       "    </tr>\n",
       "  </tbody>\n",
       "</table>\n",
       "<p>11984 rows × 8 columns</p>\n",
       "</div>"
      ],
      "text/plain": [
       "       labels  fake_labels  probability_scores  uncertainty_scores  \\\n",
       "0           0            0        3.881275e-20            0.001283   \n",
       "1           1            1        9.999993e-01            0.000928   \n",
       "2           0            0        3.467434e-20            0.001359   \n",
       "3           1            1        9.932219e-01            0.005291   \n",
       "4           0            0        9.329674e-15            0.000771   \n",
       "...       ...          ...                 ...                 ...   \n",
       "12183       1            1        9.999737e-01            0.000611   \n",
       "12184       0            0        3.250459e-17            0.000890   \n",
       "12185       1            1        9.993754e-01            0.004230   \n",
       "12186       0            0        2.018831e-22            0.001016   \n",
       "12187       1            0        9.928211e-01            0.002977   \n",
       "\n",
       "       confidence_adjusted_scores  label_issue  high_uncert  low_conf  \n",
       "0                    1.283462e-03            0        False     False  \n",
       "1                    6.771972e-10            0        False     False  \n",
       "2                    1.359214e-03            0        False     False  \n",
       "3                    3.586023e-05            0         True     False  \n",
       "4                    7.711684e-04            0        False     False  \n",
       "...                           ...          ...          ...       ...  \n",
       "12183                1.609615e-08            0        False     False  \n",
       "12184                8.898287e-04            0        False     False  \n",
       "12185                2.641658e-06            0         True     False  \n",
       "12186                1.016193e-03            0        False     False  \n",
       "12187                2.137316e-05            1        False     False  \n",
       "\n",
       "[11984 rows x 8 columns]"
      ]
     },
     "execution_count": 21,
     "metadata": {},
     "output_type": "execute_result"
    }
   ],
   "source": [
    "df_conf"
   ]
  },
  {
   "cell_type": "code",
   "execution_count": null,
   "id": "e37426b6-ecea-44a3-81e1-1a25afceb13b",
   "metadata": {},
   "outputs": [],
   "source": []
  },
  {
   "cell_type": "code",
   "execution_count": 22,
   "id": "94a40fa7-5d4b-464d-85e6-c5de4f29da9e",
   "metadata": {},
   "outputs": [],
   "source": [
    "from tml.plotting import tml_plots\n",
    "import os\n",
    "import numpy as np\n",
    "\n",
    "label_type = (labels == fake_labels)"
   ]
  },
  {
   "cell_type": "markdown",
   "id": "1e005aea-50d0-411e-bead-09b082567a1d",
   "metadata": {},
   "source": [
    "### Ratio of true/noisy labels"
   ]
  },
  {
   "cell_type": "code",
   "execution_count": 23,
   "id": "fe832dbe-210a-4a94-ab31-6bab3d4b09d3",
   "metadata": {},
   "outputs": [],
   "source": [
    "df_cert = df[~df['high_uncert']]"
   ]
  },
  {
   "cell_type": "code",
   "execution_count": 24,
   "id": "31758878-9fea-44f8-896c-99ea1197a8e3",
   "metadata": {},
   "outputs": [],
   "source": [
    "df_cert_conf = df_cert[~df_cert['low_conf']]"
   ]
  },
  {
   "cell_type": "code",
   "execution_count": 25,
   "id": "f5f44071-ab0a-4277-b964-704ee7e489fb",
   "metadata": {},
   "outputs": [
    {
     "name": "stdout",
     "output_type": "stream",
     "text": [
      "Low Certainty and High Confidence Samples:  0.8210120143821801\n",
      "Low Certainty Samples:  0.8210120143821801\n",
      "High Confidence Samples:  0.8162550066755674\n",
      "Overall Samples:  0.8056284870364293\n"
     ]
    }
   ],
   "source": [
    "print(\"Low Certainty and High Confidence Samples: \", sum(df_cert_conf['labels'] == df_cert_conf['fake_labels']) / df_cert_conf.shape[0])\n",
    "print(\"Low Certainty Samples: \", sum(df_cert['labels'] == df_cert['fake_labels']) / df_cert.shape[0])\n",
    "print(\"High Confidence Samples: \", sum(df_conf['labels'] == df_conf['fake_labels']) / df_conf.shape[0])\n",
    "print(\"Overall Samples: \", sum(df['labels'] == df['fake_labels']) / df.shape[0])\n"
   ]
  },
  {
   "cell_type": "code",
   "execution_count": null,
   "id": "d7a6074b-5f93-4c19-a6f0-93d262486230",
   "metadata": {},
   "outputs": [],
   "source": []
  },
  {
   "cell_type": "code",
   "execution_count": 26,
   "id": "8a41a36b-f759-425c-85b1-77e4b0fc8573",
   "metadata": {},
   "outputs": [
    {
     "data": {
      "text/html": [
       "<div>\n",
       "<style scoped>\n",
       "    .dataframe tbody tr th:only-of-type {\n",
       "        vertical-align: middle;\n",
       "    }\n",
       "\n",
       "    .dataframe tbody tr th {\n",
       "        vertical-align: top;\n",
       "    }\n",
       "\n",
       "    .dataframe thead th {\n",
       "        text-align: right;\n",
       "    }\n",
       "</style>\n",
       "<table border=\"1\" class=\"dataframe\">\n",
       "  <thead>\n",
       "    <tr style=\"text-align: right;\">\n",
       "      <th></th>\n",
       "      <th>labels</th>\n",
       "      <th>fake_labels</th>\n",
       "      <th>probability_scores</th>\n",
       "      <th>uncertainty_scores</th>\n",
       "      <th>confidence_adjusted_scores</th>\n",
       "      <th>label_issue</th>\n",
       "      <th>high_uncert</th>\n",
       "      <th>low_conf</th>\n",
       "    </tr>\n",
       "  </thead>\n",
       "  <tbody>\n",
       "    <tr>\n",
       "      <th>3</th>\n",
       "      <td>1</td>\n",
       "      <td>1</td>\n",
       "      <td>0.993222</td>\n",
       "      <td>0.005291</td>\n",
       "      <td>0.000036</td>\n",
       "      <td>0</td>\n",
       "      <td>True</td>\n",
       "      <td>False</td>\n",
       "    </tr>\n",
       "    <tr>\n",
       "      <th>6</th>\n",
       "      <td>1</td>\n",
       "      <td>1</td>\n",
       "      <td>0.987546</td>\n",
       "      <td>0.008702</td>\n",
       "      <td>0.000108</td>\n",
       "      <td>0</td>\n",
       "      <td>True</td>\n",
       "      <td>False</td>\n",
       "    </tr>\n",
       "    <tr>\n",
       "      <th>31</th>\n",
       "      <td>1</td>\n",
       "      <td>0</td>\n",
       "      <td>0.994842</td>\n",
       "      <td>0.007177</td>\n",
       "      <td>0.000037</td>\n",
       "      <td>1</td>\n",
       "      <td>True</td>\n",
       "      <td>False</td>\n",
       "    </tr>\n",
       "    <tr>\n",
       "      <th>33</th>\n",
       "      <td>1</td>\n",
       "      <td>1</td>\n",
       "      <td>0.974361</td>\n",
       "      <td>0.028868</td>\n",
       "      <td>0.000740</td>\n",
       "      <td>0</td>\n",
       "      <td>True</td>\n",
       "      <td>False</td>\n",
       "    </tr>\n",
       "    <tr>\n",
       "      <th>71</th>\n",
       "      <td>1</td>\n",
       "      <td>1</td>\n",
       "      <td>0.995110</td>\n",
       "      <td>0.010028</td>\n",
       "      <td>0.000049</td>\n",
       "      <td>0</td>\n",
       "      <td>True</td>\n",
       "      <td>False</td>\n",
       "    </tr>\n",
       "    <tr>\n",
       "      <th>...</th>\n",
       "      <td>...</td>\n",
       "      <td>...</td>\n",
       "      <td>...</td>\n",
       "      <td>...</td>\n",
       "      <td>...</td>\n",
       "      <td>...</td>\n",
       "      <td>...</td>\n",
       "      <td>...</td>\n",
       "    </tr>\n",
       "    <tr>\n",
       "      <th>12134</th>\n",
       "      <td>1</td>\n",
       "      <td>1</td>\n",
       "      <td>0.997505</td>\n",
       "      <td>0.003148</td>\n",
       "      <td>0.000008</td>\n",
       "      <td>0</td>\n",
       "      <td>True</td>\n",
       "      <td>False</td>\n",
       "    </tr>\n",
       "    <tr>\n",
       "      <th>12137</th>\n",
       "      <td>1</td>\n",
       "      <td>0</td>\n",
       "      <td>0.998657</td>\n",
       "      <td>0.004091</td>\n",
       "      <td>0.000005</td>\n",
       "      <td>1</td>\n",
       "      <td>True</td>\n",
       "      <td>False</td>\n",
       "    </tr>\n",
       "    <tr>\n",
       "      <th>12145</th>\n",
       "      <td>1</td>\n",
       "      <td>1</td>\n",
       "      <td>0.996701</td>\n",
       "      <td>0.003378</td>\n",
       "      <td>0.000011</td>\n",
       "      <td>0</td>\n",
       "      <td>True</td>\n",
       "      <td>False</td>\n",
       "    </tr>\n",
       "    <tr>\n",
       "      <th>12175</th>\n",
       "      <td>0</td>\n",
       "      <td>0</td>\n",
       "      <td>0.000395</td>\n",
       "      <td>0.006670</td>\n",
       "      <td>0.006667</td>\n",
       "      <td>0</td>\n",
       "      <td>True</td>\n",
       "      <td>False</td>\n",
       "    </tr>\n",
       "    <tr>\n",
       "      <th>12185</th>\n",
       "      <td>1</td>\n",
       "      <td>1</td>\n",
       "      <td>0.999375</td>\n",
       "      <td>0.004230</td>\n",
       "      <td>0.000003</td>\n",
       "      <td>0</td>\n",
       "      <td>True</td>\n",
       "      <td>False</td>\n",
       "    </tr>\n",
       "  </tbody>\n",
       "</table>\n",
       "<p>785 rows × 8 columns</p>\n",
       "</div>"
      ],
      "text/plain": [
       "       labels  fake_labels  probability_scores  uncertainty_scores  \\\n",
       "3           1            1            0.993222            0.005291   \n",
       "6           1            1            0.987546            0.008702   \n",
       "31          1            0            0.994842            0.007177   \n",
       "33          1            1            0.974361            0.028868   \n",
       "71          1            1            0.995110            0.010028   \n",
       "...       ...          ...                 ...                 ...   \n",
       "12134       1            1            0.997505            0.003148   \n",
       "12137       1            0            0.998657            0.004091   \n",
       "12145       1            1            0.996701            0.003378   \n",
       "12175       0            0            0.000395            0.006670   \n",
       "12185       1            1            0.999375            0.004230   \n",
       "\n",
       "       confidence_adjusted_scores  label_issue  high_uncert  low_conf  \n",
       "3                        0.000036            0         True     False  \n",
       "6                        0.000108            0         True     False  \n",
       "31                       0.000037            1         True     False  \n",
       "33                       0.000740            0         True     False  \n",
       "71                       0.000049            0         True     False  \n",
       "...                           ...          ...          ...       ...  \n",
       "12134                    0.000008            0         True     False  \n",
       "12137                    0.000005            1         True     False  \n",
       "12145                    0.000011            0         True     False  \n",
       "12175                    0.006667            0         True     False  \n",
       "12185                    0.000003            0         True     False  \n",
       "\n",
       "[785 rows x 8 columns]"
      ]
     },
     "execution_count": 26,
     "metadata": {},
     "output_type": "execute_result"
    }
   ],
   "source": [
    "df[df['high_uncert']]"
   ]
  },
  {
   "cell_type": "code",
   "execution_count": 27,
   "id": "60936eb4-db05-4bed-876a-6ac0db1ac277",
   "metadata": {},
   "outputs": [
    {
     "data": {
      "text/plain": [
       "np.int64(328)"
      ]
     },
     "execution_count": 27,
     "metadata": {},
     "output_type": "execute_result"
    }
   ],
   "source": [
    "(df[df['high_uncert']]['labels'] != df[df['high_uncert']]['fake_labels']).sum()"
   ]
  },
  {
   "cell_type": "code",
   "execution_count": 28,
   "id": "25ba8f2b-078e-47ca-a70c-be1448a5f0cc",
   "metadata": {},
   "outputs": [
    {
     "data": {
      "text/html": [
       "<div>\n",
       "<style scoped>\n",
       "    .dataframe tbody tr th:only-of-type {\n",
       "        vertical-align: middle;\n",
       "    }\n",
       "\n",
       "    .dataframe tbody tr th {\n",
       "        vertical-align: top;\n",
       "    }\n",
       "\n",
       "    .dataframe thead th {\n",
       "        text-align: right;\n",
       "    }\n",
       "</style>\n",
       "<table border=\"1\" class=\"dataframe\">\n",
       "  <thead>\n",
       "    <tr style=\"text-align: right;\">\n",
       "      <th></th>\n",
       "      <th>labels</th>\n",
       "      <th>fake_labels</th>\n",
       "      <th>probability_scores</th>\n",
       "      <th>uncertainty_scores</th>\n",
       "      <th>confidence_adjusted_scores</th>\n",
       "      <th>label_issue</th>\n",
       "      <th>high_uncert</th>\n",
       "      <th>low_conf</th>\n",
       "    </tr>\n",
       "  </thead>\n",
       "  <tbody>\n",
       "    <tr>\n",
       "      <th>96</th>\n",
       "      <td>1</td>\n",
       "      <td>0</td>\n",
       "      <td>0.779214</td>\n",
       "      <td>0.021769</td>\n",
       "      <td>0.004806</td>\n",
       "      <td>1</td>\n",
       "      <td>True</td>\n",
       "      <td>True</td>\n",
       "    </tr>\n",
       "    <tr>\n",
       "      <th>192</th>\n",
       "      <td>1</td>\n",
       "      <td>0</td>\n",
       "      <td>0.819549</td>\n",
       "      <td>0.021466</td>\n",
       "      <td>0.003874</td>\n",
       "      <td>1</td>\n",
       "      <td>True</td>\n",
       "      <td>True</td>\n",
       "    </tr>\n",
       "    <tr>\n",
       "      <th>219</th>\n",
       "      <td>1</td>\n",
       "      <td>1</td>\n",
       "      <td>0.845602</td>\n",
       "      <td>0.073150</td>\n",
       "      <td>0.011294</td>\n",
       "      <td>0</td>\n",
       "      <td>True</td>\n",
       "      <td>True</td>\n",
       "    </tr>\n",
       "    <tr>\n",
       "      <th>221</th>\n",
       "      <td>1</td>\n",
       "      <td>0</td>\n",
       "      <td>0.712846</td>\n",
       "      <td>0.027673</td>\n",
       "      <td>0.007946</td>\n",
       "      <td>1</td>\n",
       "      <td>True</td>\n",
       "      <td>True</td>\n",
       "    </tr>\n",
       "    <tr>\n",
       "      <th>271</th>\n",
       "      <td>1</td>\n",
       "      <td>0</td>\n",
       "      <td>0.890015</td>\n",
       "      <td>0.005531</td>\n",
       "      <td>0.000608</td>\n",
       "      <td>1</td>\n",
       "      <td>True</td>\n",
       "      <td>True</td>\n",
       "    </tr>\n",
       "    <tr>\n",
       "      <th>...</th>\n",
       "      <td>...</td>\n",
       "      <td>...</td>\n",
       "      <td>...</td>\n",
       "      <td>...</td>\n",
       "      <td>...</td>\n",
       "      <td>...</td>\n",
       "      <td>...</td>\n",
       "      <td>...</td>\n",
       "    </tr>\n",
       "    <tr>\n",
       "      <th>11654</th>\n",
       "      <td>1</td>\n",
       "      <td>0</td>\n",
       "      <td>0.610306</td>\n",
       "      <td>0.048685</td>\n",
       "      <td>0.018972</td>\n",
       "      <td>1</td>\n",
       "      <td>True</td>\n",
       "      <td>True</td>\n",
       "    </tr>\n",
       "    <tr>\n",
       "      <th>11709</th>\n",
       "      <td>1</td>\n",
       "      <td>1</td>\n",
       "      <td>0.942686</td>\n",
       "      <td>0.027283</td>\n",
       "      <td>0.001564</td>\n",
       "      <td>0</td>\n",
       "      <td>True</td>\n",
       "      <td>True</td>\n",
       "    </tr>\n",
       "    <tr>\n",
       "      <th>11723</th>\n",
       "      <td>1</td>\n",
       "      <td>0</td>\n",
       "      <td>0.471780</td>\n",
       "      <td>0.066042</td>\n",
       "      <td>0.034885</td>\n",
       "      <td>1</td>\n",
       "      <td>True</td>\n",
       "      <td>True</td>\n",
       "    </tr>\n",
       "    <tr>\n",
       "      <th>11899</th>\n",
       "      <td>1</td>\n",
       "      <td>0</td>\n",
       "      <td>0.713312</td>\n",
       "      <td>0.035486</td>\n",
       "      <td>0.010173</td>\n",
       "      <td>1</td>\n",
       "      <td>True</td>\n",
       "      <td>True</td>\n",
       "    </tr>\n",
       "    <tr>\n",
       "      <th>12118</th>\n",
       "      <td>0</td>\n",
       "      <td>0</td>\n",
       "      <td>0.506637</td>\n",
       "      <td>0.047675</td>\n",
       "      <td>0.023521</td>\n",
       "      <td>0</td>\n",
       "      <td>True</td>\n",
       "      <td>True</td>\n",
       "    </tr>\n",
       "  </tbody>\n",
       "</table>\n",
       "<p>204 rows × 8 columns</p>\n",
       "</div>"
      ],
      "text/plain": [
       "       labels  fake_labels  probability_scores  uncertainty_scores  \\\n",
       "96          1            0            0.779214            0.021769   \n",
       "192         1            0            0.819549            0.021466   \n",
       "219         1            1            0.845602            0.073150   \n",
       "221         1            0            0.712846            0.027673   \n",
       "271         1            0            0.890015            0.005531   \n",
       "...       ...          ...                 ...                 ...   \n",
       "11654       1            0            0.610306            0.048685   \n",
       "11709       1            1            0.942686            0.027283   \n",
       "11723       1            0            0.471780            0.066042   \n",
       "11899       1            0            0.713312            0.035486   \n",
       "12118       0            0            0.506637            0.047675   \n",
       "\n",
       "       confidence_adjusted_scores  label_issue  high_uncert  low_conf  \n",
       "96                       0.004806            1         True      True  \n",
       "192                      0.003874            1         True      True  \n",
       "219                      0.011294            0         True      True  \n",
       "221                      0.007946            1         True      True  \n",
       "271                      0.000608            1         True      True  \n",
       "...                           ...          ...          ...       ...  \n",
       "11654                    0.018972            1         True      True  \n",
       "11709                    0.001564            0         True      True  \n",
       "11723                    0.034885            1         True      True  \n",
       "11899                    0.010173            1         True      True  \n",
       "12118                    0.023521            0         True      True  \n",
       "\n",
       "[204 rows x 8 columns]"
      ]
     },
     "execution_count": 28,
     "metadata": {},
     "output_type": "execute_result"
    }
   ],
   "source": [
    "df[df['low_conf']]"
   ]
  },
  {
   "cell_type": "code",
   "execution_count": 29,
   "id": "1cbe8612-62f4-4fa8-899b-66f262c34513",
   "metadata": {},
   "outputs": [
    {
     "data": {
      "text/plain": [
       "np.int64(167)"
      ]
     },
     "execution_count": 29,
     "metadata": {},
     "output_type": "execute_result"
    }
   ],
   "source": [
    "(df[df['low_conf']]['labels'] != df[df['low_conf']]['fake_labels']).sum()"
   ]
  },
  {
   "cell_type": "code",
   "execution_count": 30,
   "id": "708abd04-c423-40db-aa55-8b6c81fce420",
   "metadata": {},
   "outputs": [
    {
     "data": {
      "text/plain": [
       "np.int64(2369)"
      ]
     },
     "execution_count": 30,
     "metadata": {},
     "output_type": "execute_result"
    }
   ],
   "source": [
    "df['label_issue'].sum()"
   ]
  },
  {
   "cell_type": "code",
   "execution_count": 31,
   "id": "f1f91f41-57c9-47a8-b26a-e4a4f8eb3527",
   "metadata": {},
   "outputs": [
    {
     "data": {
      "text/plain": [
       "torch.Size([12188, 1, 28, 28])"
      ]
     },
     "execution_count": 31,
     "metadata": {},
     "output_type": "execute_result"
    }
   ],
   "source": [
    "data.shape"
   ]
  },
  {
   "cell_type": "markdown",
   "id": "53db7b1a-1381-41b3-a12e-9687b94e4c64",
   "metadata": {},
   "source": [
    "## Train model on original data vs. on the pruned data"
   ]
  },
  {
   "cell_type": "code",
   "execution_count": 33,
   "id": "2a88df23-1873-4a73-be00-0919b9010f3e",
   "metadata": {},
   "outputs": [],
   "source": [
    "import torch\n",
    "from torch.utils.data import Dataset, DataLoader\n",
    "import pytorch_lightning as pl\n",
    "\n",
    "# Define a custom dataset\n",
    "class ImageDataset(Dataset):\n",
    "    def __init__(self, images, labels):\n",
    "        self.images = images  # Tensor with shape [N, 1, 28, 28]\n",
    "        self.labels = torch.tensor(labels, dtype=torch.float32)  # Binary labels as a 1D tensor\n",
    "\n",
    "    def __len__(self):\n",
    "        return len(self.labels)\n",
    "\n",
    "    def __getitem__(self, idx):\n",
    "        return self.images[idx], self.labels[idx]\n",
    "\n",
    "\n",
    "def train_model(train_data, train_labels, test_data=None, test_labels=None, learning_rate=1e-4, dropout_rate=0.7, batch_size=128, max_epochs=40, model_type='cnn'):\n",
    "    train_dataset = ImageDataset(train_data, train_labels)\n",
    "    train_loader = DataLoader(train_dataset, batch_size=batch_size, shuffle=True)\n",
    "    \n",
    "    if test_data != None:\n",
    "        test_dataset = ImageDataset(test_data, test_labels)\n",
    "        test_loader = DataLoader(test_dataset, batch_size=batch_size, shuffle=False)\n",
    "    else:\n",
    "        test_loader = DataLoader(train_dataset, batch_size=batch_size, shuffle=False)\n",
    "        \n",
    "    if model_type == 'mlp':\n",
    "        model = BinaryMNISTClassifier(learning_rate=learning_rate, dropout_rate=dropout_rate)\n",
    "    elif model_type == 'cnn':\n",
    "        model = CNNBinaryMNISTClassifier(learning_rate=learning_rate, dropout_rate=dropout_rate)\n",
    "    \n",
    "    trainer = pl.Trainer(\n",
    "        max_epochs=max_epochs,\n",
    "        log_every_n_steps=10,\n",
    "        enable_checkpointing=False, \n",
    "        accelerator=\"auto\",\n",
    "        devices=\"auto\"\n",
    "    )\n",
    "    \n",
    "    trainer.fit(model, train_loader)\n",
    "\n",
    "    trainer.test(model, test_loader)"
   ]
  },
  {
   "cell_type": "markdown",
   "id": "a66b411c-f49c-40c2-ad8e-512a827d068f",
   "metadata": {},
   "source": [
    "### Train and Prediction on the original data with no noise"
   ]
  },
  {
   "cell_type": "code",
   "execution_count": 34,
   "id": "9bcb262e-2917-4329-9959-caa1d69cfa15",
   "metadata": {},
   "outputs": [
    {
     "name": "stderr",
     "output_type": "stream",
     "text": [
      "GPU available: True (cuda), used: True\n",
      "TPU available: False, using: 0 TPU cores\n",
      "HPU available: False, using: 0 HPUs\n",
      "LOCAL_RANK: 0 - CUDA_VISIBLE_DEVICES: [0]\n",
      "\n",
      "  | Name    | Type       | Params | Mode \n",
      "-----------------------------------------------\n",
      "0 | model   | Sequential | 104 K  | train\n",
      "1 | loss_fn | BCELoss    | 0      | train\n",
      "-----------------------------------------------\n",
      "104 K     Trainable params\n",
      "0         Non-trainable params\n",
      "104 K     Total params\n",
      "0.419     Total estimated model params size (MB)\n",
      "11        Modules in train mode\n",
      "0         Modules in eval mode\n"
     ]
    },
    {
     "name": "stdout",
     "output_type": "stream",
     "text": [
      "Epoch 39: 100%|██████████| 96/96 [00:00<00:00, 202.81it/s, v_num=49, train_loss=0.0133]"
     ]
    },
    {
     "name": "stderr",
     "output_type": "stream",
     "text": [
      "`Trainer.fit` stopped: `max_epochs=40` reached.\n"
     ]
    },
    {
     "name": "stdout",
     "output_type": "stream",
     "text": [
      "Epoch 39: 100%|██████████| 96/96 [00:00<00:00, 201.86it/s, v_num=49, train_loss=0.0133]\n"
     ]
    },
    {
     "name": "stderr",
     "output_type": "stream",
     "text": [
      "LOCAL_RANK: 0 - CUDA_VISIBLE_DEVICES: [0]\n"
     ]
    },
    {
     "name": "stdout",
     "output_type": "stream",
     "text": [
      "Testing DataLoader 0: 100%|██████████| 96/96 [00:00<00:00, 298.03it/s]\n",
      "────────────────────────────────────────────────────────────────────────────────────────────────────────────────────────\n",
      "       Test metric             DataLoader 0\n",
      "────────────────────────────────────────────────────────────────────────────────────────────────────────────────────────\n",
      "      test_accuracy         0.9985231161117554\n",
      "        test_loss           0.00431372644379735\n",
      "────────────────────────────────────────────────────────────────────────────────────────────────────────────────────────\n"
     ]
    }
   ],
   "source": [
    "model_type= 'mlp'\n",
    "train_model(data, labels, test_data=data, test_labels=labels, model_type=model_type)"
   ]
  },
  {
   "cell_type": "markdown",
   "id": "0763a47f-191e-43b7-a7b3-9c84b2f80c4c",
   "metadata": {},
   "source": [
    "### Train and Prediction on the original data with noisy labels"
   ]
  },
  {
   "cell_type": "code",
   "execution_count": 35,
   "id": "ff889551-6e13-49c1-80f9-aa2110521fdc",
   "metadata": {},
   "outputs": [
    {
     "name": "stderr",
     "output_type": "stream",
     "text": [
      "GPU available: True (cuda), used: True\n",
      "TPU available: False, using: 0 TPU cores\n",
      "HPU available: False, using: 0 HPUs\n",
      "LOCAL_RANK: 0 - CUDA_VISIBLE_DEVICES: [0]\n",
      "\n",
      "  | Name    | Type       | Params | Mode \n",
      "-----------------------------------------------\n",
      "0 | model   | Sequential | 104 K  | train\n",
      "1 | loss_fn | BCELoss    | 0      | train\n",
      "-----------------------------------------------\n",
      "104 K     Trainable params\n",
      "0         Non-trainable params\n",
      "104 K     Total params\n",
      "0.419     Total estimated model params size (MB)\n",
      "11        Modules in train mode\n",
      "0         Modules in eval mode\n"
     ]
    },
    {
     "name": "stdout",
     "output_type": "stream",
     "text": [
      "Epoch 39: 100%|██████████| 96/96 [00:00<00:00, 201.72it/s, v_num=50, train_loss=0.345]"
     ]
    },
    {
     "name": "stderr",
     "output_type": "stream",
     "text": [
      "`Trainer.fit` stopped: `max_epochs=40` reached.\n"
     ]
    },
    {
     "name": "stdout",
     "output_type": "stream",
     "text": [
      "Epoch 39: 100%|██████████| 96/96 [00:00<00:00, 200.85it/s, v_num=50, train_loss=0.345]\n"
     ]
    },
    {
     "name": "stderr",
     "output_type": "stream",
     "text": [
      "LOCAL_RANK: 0 - CUDA_VISIBLE_DEVICES: [0]\n"
     ]
    },
    {
     "name": "stdout",
     "output_type": "stream",
     "text": [
      "Testing DataLoader 0: 100%|██████████| 96/96 [00:00<00:00, 298.50it/s]\n",
      "────────────────────────────────────────────────────────────────────────────────────────────────────────────────────────\n",
      "       Test metric             DataLoader 0\n",
      "────────────────────────────────────────────────────────────────────────────────────────────────────────────────────────\n",
      "      test_accuracy         0.9931900501251221\n",
      "        test_loss           0.2704441249370575\n",
      "────────────────────────────────────────────────────────────────────────────────────────────────────────────────────────\n"
     ]
    }
   ],
   "source": [
    "train_model(data, fake_labels,  test_data=data, test_labels=labels, model_type=model_type)"
   ]
  },
  {
   "cell_type": "markdown",
   "id": "1c8d9849-b8a5-4e7f-ad3b-fcbd06bce5f0",
   "metadata": {},
   "source": [
    "### Train and Prediction on the cleaned data \n",
    "(based on confidence_adjusted_scores (1 - probability_scores) * uncertainty_scores and drop the top 500 samples )"
   ]
  },
  {
   "cell_type": "code",
   "execution_count": 36,
   "id": "5ce65141-ca7e-4c92-aba3-8c9f433b455d",
   "metadata": {
    "scrolled": true
   },
   "outputs": [],
   "source": [
    "# Get all indices from the DataFrame\n",
    "all_indices = set(df.index)\n",
    "\n",
    "# Indices to drop (from your code)\n",
    "drop_ind = df.sort_values('confidence_adjusted_scores')[-500:]['label_issue'].index.tolist()\n",
    "\n",
    "# Convert drop_ind to a set\n",
    "drop_ind_set = set(drop_ind)\n",
    "\n",
    "# Get the indices NOT to drop\n",
    "retain_ind = list(all_indices - drop_ind_set)\n",
    "\n",
    "clean_fake_labels = fake_labels[retain_ind]\n",
    "clean_data = data[retain_ind]"
   ]
  },
  {
   "cell_type": "code",
   "execution_count": 37,
   "id": "7dff6fbb-d5eb-40fc-88a7-f1bafdd74c12",
   "metadata": {},
   "outputs": [
    {
     "name": "stderr",
     "output_type": "stream",
     "text": [
      "GPU available: True (cuda), used: True\n",
      "TPU available: False, using: 0 TPU cores\n",
      "HPU available: False, using: 0 HPUs\n",
      "LOCAL_RANK: 0 - CUDA_VISIBLE_DEVICES: [0]\n",
      "\n",
      "  | Name    | Type       | Params | Mode \n",
      "-----------------------------------------------\n",
      "0 | model   | Sequential | 104 K  | train\n",
      "1 | loss_fn | BCELoss    | 0      | train\n",
      "-----------------------------------------------\n",
      "104 K     Trainable params\n",
      "0         Non-trainable params\n",
      "104 K     Total params\n",
      "0.419     Total estimated model params size (MB)\n",
      "11        Modules in train mode\n",
      "0         Modules in eval mode\n"
     ]
    },
    {
     "name": "stdout",
     "output_type": "stream",
     "text": [
      "Epoch 39: 100%|██████████| 92/92 [00:00<00:00, 201.33it/s, v_num=51, train_loss=0.347]"
     ]
    },
    {
     "name": "stderr",
     "output_type": "stream",
     "text": [
      "`Trainer.fit` stopped: `max_epochs=40` reached.\n"
     ]
    },
    {
     "name": "stdout",
     "output_type": "stream",
     "text": [
      "Epoch 39: 100%|██████████| 92/92 [00:00<00:00, 200.48it/s, v_num=51, train_loss=0.347]\n"
     ]
    },
    {
     "name": "stderr",
     "output_type": "stream",
     "text": [
      "LOCAL_RANK: 0 - CUDA_VISIBLE_DEVICES: [0]\n"
     ]
    },
    {
     "name": "stdout",
     "output_type": "stream",
     "text": [
      "Testing DataLoader 0: 100%|██████████| 96/96 [00:00<00:00, 298.10it/s]\n",
      "────────────────────────────────────────────────────────────────────────────────────────────────────────────────────────\n",
      "       Test metric             DataLoader 0\n",
      "────────────────────────────────────────────────────────────────────────────────────────────────────────────────────────\n",
      "      test_accuracy         0.9949950575828552\n",
      "        test_loss           0.2690085470676422\n",
      "────────────────────────────────────────────────────────────────────────────────────────────────────────────────────────\n"
     ]
    }
   ],
   "source": [
    "train_model(clean_data, clean_fake_labels,  test_data=data, test_labels=labels, model_type=model_type)"
   ]
  },
  {
   "cell_type": "markdown",
   "id": "52c1edd1-5ab2-4cf9-8044-99e341bb8343",
   "metadata": {},
   "source": [
    "### Train and Prediction on the cleaned data \n",
    "(based on thresholds on uncertainty scores and probability scores)"
   ]
  },
  {
   "cell_type": "code",
   "execution_count": 38,
   "id": "1b001347-6cd1-4f64-a6d6-5f99d64fe727",
   "metadata": {
    "scrolled": true
   },
   "outputs": [],
   "source": [
    "retain_ind = df[~df['high_uncert'] & ~df['low_conf']].index.tolist()\n",
    "\n",
    "clean_fake_labels = fake_labels[retain_ind]\n",
    "clean_data = data[retain_ind]"
   ]
  },
  {
   "cell_type": "code",
   "execution_count": 39,
   "id": "31db184f-01c4-4b7d-b74f-f3608daf97ba",
   "metadata": {},
   "outputs": [
    {
     "name": "stderr",
     "output_type": "stream",
     "text": [
      "GPU available: True (cuda), used: True\n",
      "TPU available: False, using: 0 TPU cores\n",
      "HPU available: False, using: 0 HPUs\n",
      "LOCAL_RANK: 0 - CUDA_VISIBLE_DEVICES: [0]\n",
      "\n",
      "  | Name    | Type       | Params | Mode \n",
      "-----------------------------------------------\n",
      "0 | model   | Sequential | 104 K  | train\n",
      "1 | loss_fn | BCELoss    | 0      | train\n",
      "-----------------------------------------------\n",
      "104 K     Trainable params\n",
      "0         Non-trainable params\n",
      "104 K     Total params\n",
      "0.419     Total estimated model params size (MB)\n",
      "11        Modules in train mode\n",
      "0         Modules in eval mode\n"
     ]
    },
    {
     "name": "stdout",
     "output_type": "stream",
     "text": [
      "Epoch 39: 100%|██████████| 90/90 [00:00<00:00, 203.74it/s, v_num=52, train_loss=0.323]"
     ]
    },
    {
     "name": "stderr",
     "output_type": "stream",
     "text": [
      "`Trainer.fit` stopped: `max_epochs=40` reached.\n"
     ]
    },
    {
     "name": "stdout",
     "output_type": "stream",
     "text": [
      "Epoch 39: 100%|██████████| 90/90 [00:00<00:00, 202.85it/s, v_num=52, train_loss=0.323]\n"
     ]
    },
    {
     "name": "stderr",
     "output_type": "stream",
     "text": [
      "LOCAL_RANK: 0 - CUDA_VISIBLE_DEVICES: [0]\n"
     ]
    },
    {
     "name": "stdout",
     "output_type": "stream",
     "text": [
      "Testing DataLoader 0: 100%|██████████| 96/96 [00:00<00:00, 300.13it/s]\n",
      "────────────────────────────────────────────────────────────────────────────────────────────────────────────────────────\n",
      "       Test metric             DataLoader 0\n",
      "────────────────────────────────────────────────────────────────────────────────────────────────────────────────────────\n",
      "      test_accuracy         0.9758779406547546\n",
      "        test_loss           0.2957037091255188\n",
      "────────────────────────────────────────────────────────────────────────────────────────────────────────────────────────\n"
     ]
    }
   ],
   "source": [
    "train_model(clean_data, clean_fake_labels,  test_data=data, test_labels=labels, model_type=model_type)"
   ]
  },
  {
   "cell_type": "code",
   "execution_count": null,
   "id": "50c3c9bc-f626-47fd-aa1e-ec5774fb8875",
   "metadata": {},
   "outputs": [],
   "source": []
  }
 ],
 "metadata": {
  "kernelspec": {
   "display_name": "Python [conda env:tml]",
   "language": "python",
   "name": "conda-env-tml-py"
  },
  "language_info": {
   "codemirror_mode": {
    "name": "ipython",
    "version": 3
   },
   "file_extension": ".py",
   "mimetype": "text/x-python",
   "name": "python",
   "nbconvert_exporter": "python",
   "pygments_lexer": "ipython3",
   "version": "3.11.6"
  }
 },
 "nbformat": 4,
 "nbformat_minor": 5
}
